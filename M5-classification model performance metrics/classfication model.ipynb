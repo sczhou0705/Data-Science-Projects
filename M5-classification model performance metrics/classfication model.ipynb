{
 "cells": [
  {
   "cell_type": "markdown",
   "metadata": {},
   "source": [
    "# Module 5 Classification Model Performance Metrics\n",
    "\n",
    "Group Member: Jinming Chen, Shichao Zhou, Maojudan Nihemaiti"
   ]
  },
  {
   "cell_type": "markdown",
   "metadata": {},
   "source": [
    "In this assignment, we will be tasked with calculating a suite of classification model performance metrics via Python code functions that we create and then comparing our results to those of pre-built Python functions that automatically calculate those same metrics.  We will also be creating graphical output via Python code that can be used to evaluate the performance of classification models. \n",
    "\n",
    "The data set includes three attributes that we will make use of for our analysis:\n",
    "- class: the actual classification for the observation\n",
    "- scored.class: the predicted classification for the observation (can only be ‘0’or ‘1’; identified by comparing the classification model’s probability score (i.e., the likelihood that the correct classification for an observation is a ‘1’) for the observation against a 0.50 threshold))\n",
    "- scored.probability: the classification model’s probabilityscore (i.e., the likelihood that the correct classification for an observation is a ‘1’)for the observation"
   ]
  },
  {
   "cell_type": "markdown",
   "metadata": {},
   "source": [
    "#### 1. Load the provided M5_Data.csv file to your DAV 6150 Github Repository."
   ]
  },
  {
   "cell_type": "markdown",
   "metadata": {},
   "source": [
    "#### 2. Then, using a Jupyter Notebook, read the data set from your Github repository and load it into a Pandas dataframe."
   ]
  },
  {
   "cell_type": "code",
   "execution_count": 1,
   "metadata": {
    "scrolled": false
   },
   "outputs": [
    {
     "data": {
      "text/html": [
       "<div>\n",
       "<style scoped>\n",
       "    .dataframe tbody tr th:only-of-type {\n",
       "        vertical-align: middle;\n",
       "    }\n",
       "\n",
       "    .dataframe tbody tr th {\n",
       "        vertical-align: top;\n",
       "    }\n",
       "\n",
       "    .dataframe thead th {\n",
       "        text-align: right;\n",
       "    }\n",
       "</style>\n",
       "<table border=\"1\" class=\"dataframe\">\n",
       "  <thead>\n",
       "    <tr style=\"text-align: right;\">\n",
       "      <th></th>\n",
       "      <th>pregnant</th>\n",
       "      <th>glucose</th>\n",
       "      <th>diastolic</th>\n",
       "      <th>skinfold</th>\n",
       "      <th>insulin</th>\n",
       "      <th>bmi</th>\n",
       "      <th>pedigree</th>\n",
       "      <th>age</th>\n",
       "      <th>class</th>\n",
       "      <th>scored.class</th>\n",
       "      <th>scored.probability</th>\n",
       "    </tr>\n",
       "  </thead>\n",
       "  <tbody>\n",
       "    <tr>\n",
       "      <th>0</th>\n",
       "      <td>7</td>\n",
       "      <td>124</td>\n",
       "      <td>70</td>\n",
       "      <td>33</td>\n",
       "      <td>215</td>\n",
       "      <td>25.5</td>\n",
       "      <td>0.161</td>\n",
       "      <td>37</td>\n",
       "      <td>0</td>\n",
       "      <td>0</td>\n",
       "      <td>0.328452</td>\n",
       "    </tr>\n",
       "    <tr>\n",
       "      <th>1</th>\n",
       "      <td>2</td>\n",
       "      <td>122</td>\n",
       "      <td>76</td>\n",
       "      <td>27</td>\n",
       "      <td>200</td>\n",
       "      <td>35.9</td>\n",
       "      <td>0.483</td>\n",
       "      <td>26</td>\n",
       "      <td>0</td>\n",
       "      <td>0</td>\n",
       "      <td>0.273190</td>\n",
       "    </tr>\n",
       "    <tr>\n",
       "      <th>2</th>\n",
       "      <td>3</td>\n",
       "      <td>107</td>\n",
       "      <td>62</td>\n",
       "      <td>13</td>\n",
       "      <td>48</td>\n",
       "      <td>22.9</td>\n",
       "      <td>0.678</td>\n",
       "      <td>23</td>\n",
       "      <td>1</td>\n",
       "      <td>0</td>\n",
       "      <td>0.109660</td>\n",
       "    </tr>\n",
       "    <tr>\n",
       "      <th>3</th>\n",
       "      <td>1</td>\n",
       "      <td>91</td>\n",
       "      <td>64</td>\n",
       "      <td>24</td>\n",
       "      <td>0</td>\n",
       "      <td>29.2</td>\n",
       "      <td>0.192</td>\n",
       "      <td>21</td>\n",
       "      <td>0</td>\n",
       "      <td>0</td>\n",
       "      <td>0.055998</td>\n",
       "    </tr>\n",
       "    <tr>\n",
       "      <th>4</th>\n",
       "      <td>4</td>\n",
       "      <td>83</td>\n",
       "      <td>86</td>\n",
       "      <td>19</td>\n",
       "      <td>0</td>\n",
       "      <td>29.3</td>\n",
       "      <td>0.317</td>\n",
       "      <td>34</td>\n",
       "      <td>0</td>\n",
       "      <td>0</td>\n",
       "      <td>0.100491</td>\n",
       "    </tr>\n",
       "  </tbody>\n",
       "</table>\n",
       "</div>"
      ],
      "text/plain": [
       "   pregnant  glucose  diastolic  skinfold  insulin   bmi  pedigree  age  \\\n",
       "0         7      124         70        33      215  25.5     0.161   37   \n",
       "1         2      122         76        27      200  35.9     0.483   26   \n",
       "2         3      107         62        13       48  22.9     0.678   23   \n",
       "3         1       91         64        24        0  29.2     0.192   21   \n",
       "4         4       83         86        19        0  29.3     0.317   34   \n",
       "\n",
       "   class  scored.class  scored.probability  \n",
       "0      0             0            0.328452  \n",
       "1      0             0            0.273190  \n",
       "2      1             0            0.109660  \n",
       "3      0             0            0.055998  \n",
       "4      0             0            0.100491  "
      ]
     },
     "execution_count": 1,
     "metadata": {},
     "output_type": "execute_result"
    }
   ],
   "source": [
    "# Load packages\n",
    "import pandas as pd\n",
    "import numpy as np\n",
    "import matplotlib.pyplot as plt\n",
    "\n",
    "# Start by reading a set of sample data from github. \n",
    "df = pd.read_csv(\"https://raw.githubusercontent.com/sczhou0705/DAV-6150-2/main/M5_Data.csv\")\n",
    "df.head()"
   ]
  },
  {
   "cell_type": "markdown",
   "metadata": {},
   "source": [
    "#### 3. Use Pandas’ crosstab() function to calculate the contents of a confusion matrix for the data. Make sure you closely examine the output e.g., do the rows represent the actual or the predicted classification? What about the columns? (HINT: A good way to ensure you understand the output of the crosstab() function is to check the value_counts() for the dataframe columns you’ve used as input to the crosstab() function. When observing the value_counts(), determine whether the rows or columns in the crosstab() output sum to the respective value_counts() figures)."
   ]
  },
  {
   "cell_type": "code",
   "execution_count": 2,
   "metadata": {},
   "outputs": [
    {
     "name": "stdout",
     "output_type": "stream",
     "text": [
      "-----\n",
      "0    30\n",
      "1    27\n",
      "Name: scored.class, dtype: int64\n",
      "-----\n",
      "0    119\n",
      "1      5\n",
      "Name: scored.class, dtype: int64\n",
      "-----\n"
     ]
    }
   ],
   "source": [
    "# Use value_counts() and observe the results of classification\n",
    "print(\"-----\")\n",
    "print(df[df['class'] == 1]['scored.class'].value_counts())\n",
    "print(\"-----\")\n",
    "print(df[df['class'] == 0]['scored.class'].value_counts())\n",
    "print(\"-----\")"
   ]
  },
  {
   "cell_type": "code",
   "execution_count": 3,
   "metadata": {},
   "outputs": [
    {
     "name": "stdout",
     "output_type": "stream",
     "text": [
      "-----\n",
      "0    149\n",
      "1     32\n",
      "Name: scored.class, dtype: int64\n",
      "-----\n",
      "0    124\n",
      "1     57\n",
      "Name: class, dtype: int64\n",
      "-----\n"
     ]
    }
   ],
   "source": [
    "# Use value_counts() and observe the results of classification\n",
    "print(\"-----\")\n",
    "print(df['scored.class'].value_counts())\n",
    "print(\"-----\")\n",
    "print(df['class'].value_counts())\n",
    "print(\"-----\")"
   ]
  },
  {
   "cell_type": "code",
   "execution_count": 4,
   "metadata": {},
   "outputs": [
    {
     "data": {
      "text/html": [
       "<div>\n",
       "<style scoped>\n",
       "    .dataframe tbody tr th:only-of-type {\n",
       "        vertical-align: middle;\n",
       "    }\n",
       "\n",
       "    .dataframe tbody tr th {\n",
       "        vertical-align: top;\n",
       "    }\n",
       "\n",
       "    .dataframe thead th {\n",
       "        text-align: right;\n",
       "    }\n",
       "</style>\n",
       "<table border=\"1\" class=\"dataframe\">\n",
       "  <thead>\n",
       "    <tr style=\"text-align: right;\">\n",
       "      <th>scored.class</th>\n",
       "      <th>0</th>\n",
       "      <th>1</th>\n",
       "    </tr>\n",
       "    <tr>\n",
       "      <th>class</th>\n",
       "      <th></th>\n",
       "      <th></th>\n",
       "    </tr>\n",
       "  </thead>\n",
       "  <tbody>\n",
       "    <tr>\n",
       "      <th>0</th>\n",
       "      <td>119</td>\n",
       "      <td>5</td>\n",
       "    </tr>\n",
       "    <tr>\n",
       "      <th>1</th>\n",
       "      <td>30</td>\n",
       "      <td>27</td>\n",
       "    </tr>\n",
       "  </tbody>\n",
       "</table>\n",
       "</div>"
      ],
      "text/plain": [
       "scored.class    0   1\n",
       "class                \n",
       "0             119   5\n",
       "1              30  27"
      ]
     },
     "execution_count": 4,
     "metadata": {},
     "output_type": "execute_result"
    }
   ],
   "source": [
    "# Use crosstab() and observe the results of classification\n",
    "pd.crosstab(df['class'],df['scored.class'])\n"
   ]
  },
  {
   "cell_type": "markdown",
   "metadata": {},
   "source": [
    "From the above dataframe, the first row 119 + 5 = 124, the second row 30 + 27 = 57, the first column 119 + 30 =149, the second column 5 + 27 = 32. The output of crosstab() sum to the respective value_counts() figures."
   ]
  },
  {
   "cell_type": "markdown",
   "metadata": {},
   "source": [
    "#### 4. Extract the individual confusion matrix values (i.e., True Positive, False Positive,True Negative, False Negative) from the output of the crosstab() function and save them for later use (e.g., save them each to individual variables or to the data structure of your choice). Knowing how to properly extract these values from the output of crosstab() will serve you well throughout the remainder of the assignment."
   ]
  },
  {
   "cell_type": "code",
   "execution_count": 5,
   "metadata": {},
   "outputs": [],
   "source": [
    "# Define the function of confusion matrix \n",
    "# tn = true negative: True negatives are the cases when the actual class of the data point was 0(False) and the predicted is also 0(False)\n",
    "# fn = false negative: False negatives are the cases when the actual class of the data point was 1(True) and the predicted is 0(False). \n",
    "# tp = true positive: True positives are the cases when the actual class of the data point was 1(True) and the predicted is also 1(True)\n",
    "# fp = false positive: False positives are the cases when the actual class of the data point was 0(False) and the predicted is 1(True). \n",
    "def individual_confusion_values(x,y):\n",
    "    matrix = pd.crosstab(x,y)\n",
    "    tn = matrix[0][0]\n",
    "    fn = matrix[0][1]\n",
    "    tp = matrix[1][1]\n",
    "    fp = matrix[1][0]    \n",
    "    return tn,fn,tp,fp  "
   ]
  },
  {
   "cell_type": "markdown",
   "metadata": {},
   "source": [
    "#### 5. Write a Python function that accepts as input the actual and predicted classifications for any binary classification data and then calculates and returns the accuracy metric for the predictions without utilizing any pre-built Python accuracy metric calculation functions."
   ]
  },
  {
   "cell_type": "code",
   "execution_count": 6,
   "metadata": {},
   "outputs": [
    {
     "data": {
      "text/plain": [
       "0.8066298342541437"
      ]
     },
     "execution_count": 6,
     "metadata": {},
     "output_type": "execute_result"
    }
   ],
   "source": [
    "# Define the function that calculates the accuracy\n",
    "def accuracy_metric(x,y):\n",
    "    tn,fn,tp,fp = individual_confusion_values(x,y)\n",
    "    accuracy = (tp + tn) / (tp + tn + fp + fn)\n",
    "    return accuracy\n",
    "accuracy = accuracy_metric(df['class'],df['scored.class'])\n",
    "\n",
    "# Call function\n",
    "accuracy"
   ]
  },
  {
   "cell_type": "markdown",
   "metadata": {},
   "source": [
    "According to the formula (true positive + true negative) / (true positive + true negative + false positive + false negative),\n",
    "we get the accuracy is 0.8066298342541437."
   ]
  },
  {
   "cell_type": "markdown",
   "metadata": {},
   "source": [
    "#### 6. Write a Python function that accepts as input the actual and predicted classifications for any binary classification data and then calculates and returns the precision metric for the predictions without utilizing any pre-built Python classification metric calculation functions."
   ]
  },
  {
   "cell_type": "code",
   "execution_count": 7,
   "metadata": {},
   "outputs": [
    {
     "data": {
      "text/plain": [
       "0.84375"
      ]
     },
     "execution_count": 7,
     "metadata": {},
     "output_type": "execute_result"
    }
   ],
   "source": [
    "# Define the function for calculating the precision\n",
    "def precision_metric(x,y):\n",
    "    tn,fn,tp,fp = individual_confusion_values(x,y)\n",
    "    precision = tp / (tp + fp)\n",
    "    return precision\n",
    "precision = precision_metric(df['class'],df['scored.class'])\n",
    "\n",
    "# Call function\n",
    "precision\n",
    "    "
   ]
  },
  {
   "cell_type": "markdown",
   "metadata": {},
   "source": [
    "According to the formula (true positive) / (true positive + false positive ), we get the precision is 0.84375."
   ]
  },
  {
   "cell_type": "markdown",
   "metadata": {},
   "source": [
    "#### 7. Write a Python function that accepts as input the actual and predicted classifications for any binary classification data and then calculates and returns the sensitivity metric for the predictions without utilizing any pre-built Python classification metric calculation functions."
   ]
  },
  {
   "cell_type": "code",
   "execution_count": 8,
   "metadata": {},
   "outputs": [
    {
     "data": {
      "text/plain": [
       "0.47368421052631576"
      ]
     },
     "execution_count": 8,
     "metadata": {},
     "output_type": "execute_result"
    }
   ],
   "source": [
    "# Define the function for calculating the sensitivity\n",
    "def sensitivity_metric(x,y):\n",
    "    tn,fn,tp,fp = individual_confusion_values(x,y)\n",
    "    sensitivity = tp / (tp + fn)\n",
    "    return sensitivity\n",
    "precision = sensitivity_metric(df['class'],df['scored.class'])\n",
    "\n",
    "# Call function\n",
    "precision"
   ]
  },
  {
   "cell_type": "markdown",
   "metadata": {},
   "source": [
    "According to the formula (true positive) / (true positive + false negative ), we achieve the precision is 0.47368421052631576."
   ]
  },
  {
   "cell_type": "markdown",
   "metadata": {},
   "source": [
    "#### 8. Write a Python function that accepts as input the actual and predicted classifications for any binary classification data and then calculates and returns the specificity metric for the predictions without utilizing any pre-built Python classification metric calculation functions."
   ]
  },
  {
   "cell_type": "code",
   "execution_count": 9,
   "metadata": {},
   "outputs": [
    {
     "data": {
      "text/plain": [
       "0.9596774193548387"
      ]
     },
     "execution_count": 9,
     "metadata": {},
     "output_type": "execute_result"
    }
   ],
   "source": [
    "# Define the function for calculating the specificity\n",
    "def specificity_metric(x,y):\n",
    "    tn,fn,tp,fp = individual_confusion_values(x,y)\n",
    "    specificity = tn / (tn + fp)\n",
    "    return specificity\n",
    "specificity = specificity_metric(df['class'],df['scored.class'])\n",
    "\n",
    "# Call function\n",
    "specificity"
   ]
  },
  {
   "cell_type": "markdown",
   "metadata": {},
   "source": [
    "According to the formula (true negative) / (true positive + false negative ), we achieve the precision is 0.9596774193548387."
   ]
  },
  {
   "cell_type": "markdown",
   "metadata": {},
   "source": [
    "#### 9. Write a Python function that accepts as input the actual and predicted classifications for any binary classification data and then calculates and returns the F1 Score metric for the predictions without utilizing any pre-built Python classification metric calculation functions."
   ]
  },
  {
   "cell_type": "code",
   "execution_count": 10,
   "metadata": {},
   "outputs": [],
   "source": [
    "# Define the function for calculating the F1_score\n",
    "def F1_score(x,y):\n",
    "    recall = sensitivity_metric(x,y) \n",
    "    precision = precision_metric(x,y)\n",
    "    F1_score = (2*(recall)*(precision)) / (recall+precision)\n",
    "    return F1_score"
   ]
  },
  {
   "cell_type": "code",
   "execution_count": 11,
   "metadata": {},
   "outputs": [
    {
     "data": {
      "text/plain": [
       "0.6067415730337079"
      ]
     },
     "execution_count": 11,
     "metadata": {},
     "output_type": "execute_result"
    }
   ],
   "source": [
    "# Call function\n",
    "F1_val = F1_score(df['class'],df['scored.class'])\n",
    "F1_val"
   ]
  },
  {
   "cell_type": "markdown",
   "metadata": {},
   "source": [
    "According to the formula 2*(recall)*(precision)) / (recall+precision), we achieve the precision is 0.6067415730337079."
   ]
  },
  {
   "cell_type": "markdown",
   "metadata": {},
   "source": [
    "#### 10. Write a Python function to plot a ROC curve and also calculate AUC for any binary classification data that contains both actual and predicted classifications as well as the associated scored probabilities without utilizing any pre-built Python classification metric calculation or ROC or AUC functions."
   ]
  },
  {
   "cell_type": "code",
   "execution_count": 12,
   "metadata": {},
   "outputs": [],
   "source": [
    "# Define the function for plotting a ROC curve \n",
    "def roc_curve(actual,prob):\n",
    "# Thresholds range is between 0 and 1. \n",
    "    thresholds = list(np.array(list(range(0,1000+1,1))) / 1000)\n",
    "# Create true positive rate and false positive rate list.\n",
    "    tpr = []\n",
    "    fpr = []\n",
    "    \n",
    "    for t in thresholds:\n",
    "# If the probability is over than threshold, the prediction will be assigned as 1, otherwise, the prediction will be assigned as 0.\n",
    "        pred = np.where(prob >= t, 1, 0)\n",
    "        fp = np.sum((pred == 1) & (actual == 0))\n",
    "        tp = np.sum((pred == 1) & (actual == 1))\n",
    "        fn = np.sum((pred == 0) & (actual == 1))\n",
    "        tn = np.sum((pred == 0) & (actual == 0))\n",
    "\n",
    "        fpr.append(fp / (fp + tn))\n",
    "        tpr.append(tp / (tp + fn))\n",
    "\n",
    "# Calculate auc:the measure of the ability of a classifier to distinguish between classes \n",
    "# And is used as a summary of the ROC curve          \n",
    "    auc = -1 * np.trapz(tpr, fpr)\n",
    "\n",
    "# Plotting the results   \n",
    "    plt.plot(fpr, tpr, linestyle = '--',marker='o',label = 'ROC curve')\n",
    "    plt.plot([0,1],[0,1],linestyle = '--')\n",
    "    plt.xlabel('False Positive Rate')\n",
    "    plt.ylabel('True Positive Rate')\n",
    "    plt.title('ROC curve, AUC = %.2f'%auc)\n",
    "    plt.legend(loc = 'lower right')\n",
    "    plt.show()   \n",
    "    print('AUC score is ' + str(auc) + '.')"
   ]
  },
  {
   "cell_type": "code",
   "execution_count": 13,
   "metadata": {},
   "outputs": [
    {
     "data": {
      "image/png": "[encoded data removed]",
      "text/plain": [
       "<Figure size 432x288 with 1 Axes>"
      ]
     },
     "metadata": {
      "needs_background": "light"
     },
     "output_type": "display_data"
    },
    {
     "name": "stdout",
     "output_type": "stream",
     "text": [
      "AUC score is 0.8503820033955858.\n"
     ]
    }
   ],
   "source": [
    "# Call function\n",
    "actual = df['class']\n",
    "prob = df['scored.probability']\n",
    "\n",
    "# The ROC curve shows the trade-off between sensitivity (or TPR) and specificity (1 – FPR)\n",
    "roc_curve(actual, prob)"
   ]
  },
  {
   "cell_type": "markdown",
   "metadata": {},
   "source": [
    "According to the ROC Curve results, we can infer that the relationship between sensitivity and specificity is performing well. The AUC calculation shows a 0.85, the higher the AUC, the better the performance of the model at distinguishing between the positive and negative classes. So our model performs well."
   ]
  },
  {
   "cell_type": "markdown",
   "metadata": {},
   "source": [
    "#### 11. Applythe Python functions you’ve created to the relevant columns of the provided data set to produce the classification metrics specified in steps 5 through 9 of this assignment."
   ]
  },
  {
   "cell_type": "code",
   "execution_count": 14,
   "metadata": {},
   "outputs": [
    {
     "name": "stdout",
     "output_type": "stream",
     "text": [
      "The accuracy is:     0.8066298342541437\n",
      "The precision is:     0.84375\n",
      "The sensitivity is:     0.47368421052631576\n",
      "The specificity is:     0.9596774193548387\n",
      "The f1_score is:     0.6067415730337079\n"
     ]
    }
   ],
   "source": [
    "# Task 5: accuracy\n",
    "accuracy = accuracy_metric(df['class'],df['scored.class'])\n",
    "print(\"The accuracy is:    \",accuracy)\n",
    "\n",
    "# Task 6: precision\n",
    "precision = precision_metric(df['class'],df['scored.class'])\n",
    "print(\"The precision is:    \",precision)\n",
    "\n",
    "# Task 7: sensitivity\n",
    "sensitivity = sensitivity_metric(df['class'],df['scored.class'])\n",
    "print(\"The sensitivity is:    \",sensitivity)\n",
    "\n",
    "# Task 8: specificity\n",
    "specificity = specificity_metric(df['class'],df['scored.class'])\n",
    "print(\"The specificity is:    \",specificity)\n",
    "\n",
    "# Task 9: f1_score\n",
    "f1_val = F1_score(df['class'],df['scored.class'])\n",
    "print(\"The f1_score is:    \",f1_val)"
   ]
  },
  {
   "cell_type": "markdown",
   "metadata": {},
   "source": [
    "#### 12. Now compare the output of your functions against the output of the pre-built functions available within the scikit-learnlibrary. Specifically, apply the confusion_matrix(), accuracy_score(),  precision_score(), recall_score() (remember: recall = sensitivity), f1_score(), and the metrics.classification_report() functions to the relevant columns of the provided data set. Discuss how well the results of these pre-built functions compare to those of the functions you’ve created for this assignment."
   ]
  },
  {
   "cell_type": "code",
   "execution_count": 15,
   "metadata": {},
   "outputs": [
    {
     "data": {
      "text/html": [
       "<div>\n",
       "<style scoped>\n",
       "    .dataframe tbody tr th:only-of-type {\n",
       "        vertical-align: middle;\n",
       "    }\n",
       "\n",
       "    .dataframe tbody tr th {\n",
       "        vertical-align: top;\n",
       "    }\n",
       "\n",
       "    .dataframe thead th {\n",
       "        text-align: right;\n",
       "    }\n",
       "</style>\n",
       "<table border=\"1\" class=\"dataframe\">\n",
       "  <thead>\n",
       "    <tr style=\"text-align: right;\">\n",
       "      <th></th>\n",
       "      <th>Predict 0</th>\n",
       "      <th>Predict 1</th>\n",
       "    </tr>\n",
       "  </thead>\n",
       "  <tbody>\n",
       "    <tr>\n",
       "      <th>True 0</th>\n",
       "      <td>119</td>\n",
       "      <td>5</td>\n",
       "    </tr>\n",
       "    <tr>\n",
       "      <th>True 1</th>\n",
       "      <td>30</td>\n",
       "      <td>27</td>\n",
       "    </tr>\n",
       "  </tbody>\n",
       "</table>\n",
       "</div>"
      ],
      "text/plain": [
       "        Predict 0  Predict 1\n",
       "True 0        119          5\n",
       "True 1         30         27"
      ]
     },
     "execution_count": 15,
     "metadata": {},
     "output_type": "execute_result"
    }
   ],
   "source": [
    "# Load packages\n",
    "from sklearn.metrics import confusion_matrix\n",
    "con_matrix = pd.DataFrame(confusion_matrix(df['class'], df['scored.class']),columns = ['Predict 0', 'Predict 1'],\n",
    "    index = ['True 0', 'True 1'])\n",
    "con_matrix"
   ]
  },
  {
   "cell_type": "code",
   "execution_count": 16,
   "metadata": {},
   "outputs": [
    {
     "name": "stdout",
     "output_type": "stream",
     "text": [
      "The accuracy is:   0.8066298342541437\n",
      "The precision is:   0.84375\n",
      "The recall is:    0.47368421052631576\n",
      "The F1 Score is:   0.6067415730337079\n"
     ]
    }
   ],
   "source": [
    "# Load packages\n",
    "from sklearn.metrics import accuracy_score\n",
    "from sklearn.metrics import precision_score\n",
    "from sklearn.metrics import recall_score\n",
    "from sklearn.metrics import f1_score\n",
    "from sklearn.metrics import classification_report\n",
    "\n",
    "# Show the results\n",
    "print(\"The accuracy is:  \",accuracy_score(df['class'],df['scored.class']))\n",
    "print(\"The precision is:  \",precision_score(df['class'],df['scored.class']))\n",
    "print(\"The recall is:   \",recall_score(df['class'],df['scored.class']))\n",
    "print(\"The F1 Score is:  \",f1_score(df['class'],df['scored.class']))"
   ]
  },
  {
   "cell_type": "markdown",
   "metadata": {},
   "source": [
    "According to the results, pre-built functions show the same results as the functions we built. We calculated accuracy, precision, recall, and the F1 score. The pre-built functions are easy to use. However, by understanding the formulas and definitions, we are able to calculate the metrics by using pre-build functions more effectively."
   ]
  },
  {
   "cell_type": "markdown",
   "metadata": {},
   "source": [
    "#### 13. Using the metrics.plot_roc_curve () and metrics.auc() functions from the scikit-learn package to generate a ROC plotand calculate AUC for the provided data set. How do the results compare with the ROC/AUC function you’ve created for this assignment?"
   ]
  },
  {
   "cell_type": "code",
   "execution_count": 17,
   "metadata": {},
   "outputs": [],
   "source": [
    "#pip install scikit-plot"
   ]
  },
  {
   "cell_type": "code",
   "execution_count": 18,
   "metadata": {
    "scrolled": false
   },
   "outputs": [
    {
     "name": "stderr",
     "output_type": "stream",
     "text": [
      "C:\\Users\\11946\\anaconda3\\lib\\site-packages\\sklearn\\utils\\deprecation.py:86: FutureWarning: Function plot_roc_curve is deprecated; This will be removed in v0.5.0. Please use scikitplot.metrics.plot_roc instead.\n",
      "  warnings.warn(msg, category=FutureWarning)\n"
     ]
    },
    {
     "data": {
      "image/png": "[encoded data removed]",
      "text/plain": [
       "<Figure size 432x288 with 1 Axes>"
      ]
     },
     "metadata": {
      "needs_background": "light"
     },
     "output_type": "display_data"
    }
   ],
   "source": [
    "# Load packages\n",
    "import scikitplot as skplt\n",
    "import matplotlib.pyplot as plt\n",
    "from sklearn import metrics\n",
    "y=df['class']\n",
    "# Avoiding the index error, so we add the reset_index\n",
    "y_probas=df['scored.probability'].reset_index().values\n",
    "\n",
    "# Show the distribution\n",
    "skplt.metrics.plot_roc_curve(y, y_probas, cmap='nipy_spectral')\n",
    "plt.show()"
   ]
  },
  {
   "cell_type": "code",
   "execution_count": 19,
   "metadata": {},
   "outputs": [
    {
     "data": {
      "text/plain": [
       "0.8503112620260327"
      ]
     },
     "execution_count": 19,
     "metadata": {},
     "output_type": "execute_result"
    }
   ],
   "source": [
    "# Load packages\n",
    "from sklearn.metrics import roc_auc_score\n",
    "# Use the roc_auc_score function to get the result\n",
    "roc_auc_score(df['class'], df['scored.probability'])"
   ]
  },
  {
   "cell_type": "markdown",
   "metadata": {},
   "source": [
    "According to the result, the ROC curve of class 1 is very similar to the function we defined, which has a ROC score of 0.85, and it shows the accuracy of the model. The pre-build functions and our functions have their own advantages and depend on the number of thresholds, we can choose which one we prefer. As we create more models, we can have a better understanding of their performance. \n",
    "\n",
    "\n",
    "\n",
    "\n",
    "\n",
    "\n"
   ]
  },
  {
   "cell_type": "markdown",
   "metadata": {},
   "source": [
    "### Conclusion: \n",
    "\n",
    "Based on the results, our functions have very similar results with pre-build functions. After we build more models, we will have a better idea of these functions and how to use them in a more effective way. \n",
    "\n",
    "\n"
   ]
  },
  {
   "cell_type": "markdown",
   "metadata": {},
   "source": [
    "### Reference"
   ]
  },
  {
   "cell_type": "markdown",
   "metadata": {},
   "source": [
    "- https://scikit-learn.org/stable/modules/generated/sklearn.metrics.auc.html\n",
    "\n",
    "- https://stackoverflow.com/questions/61321778/how-to-calculate-tpr-and-fpr-in-python-without-using-sklearn\n",
    "\n",
    "- https://www.youtube.com/watch?v=afQ_DyKMxUo&ab_channel=SefikIlkinSerengil\n",
    "\n",
    "- https://mmuratarat.github.io/2019-10-01/how-to-compute-AUC-plot-ROC-by-hand\n",
    "- https://scikit-learn.org/stable/auto_examples/model_selection/plot_roc.html\n",
    "- https://scikit-learn.org/stable/modules/generated/sklearn.metrics.roc_auc_score.html"
   ]
  }
 ],
 "metadata": {
  "kernelspec": {
   "display_name": "Python 3",
   "language": "python",
   "name": "python3"
  },
  "language_info": {
   "codemirror_mode": {
    "name": "ipython",
    "version": 3
   },
   "file_extension": ".py",
   "mimetype": "text/x-python",
   "name": "python",
   "nbconvert_exporter": "python",
   "pygments_lexer": "ipython3",
   "version": "3.8.5"
  }
 },
 "nbformat": 4,
 "nbformat_minor": 4
}
