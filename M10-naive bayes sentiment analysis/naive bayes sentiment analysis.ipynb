{
 "cells": [
  {
   "cell_type": "markdown",
   "metadata": {},
   "source": [
    "# Assignment M10\n",
    "Group member: Yifeng Lin; Shichao Zhou"
   ]
  },
  {
   "cell_type": "markdown",
   "metadata": {},
   "source": [
    "# Introduction"
   ]
  },
  {
   "cell_type": "markdown",
   "metadata": {},
   "source": [
    "Naïve Bayes classifiers are widely recognized for their efficacy at classifying text data (e.g., sentiment analysis). \n",
    "As we’ve learned, many organizations rely on sentiment analysis algorithms to help them gauge the opinions of both existing and potential customers. Today we will construct a Naïve Bayes sentiment classifier for purposes of measuring the sentiment of movie reviews. The data set we will be working with is sourced from this site, comprised of 1000 positive and 1000 negative movie reviews.\n",
    "http://www.cs.cornell.edu/people/pabo/movie-review-data/.\n",
    "\n",
    "Step explanation:\n",
    "+ Data Preparation\n",
    " + Remove Punctuations & Stopwords\n",
    " + Construct the Term Document Matrix\n",
    "+ Frequency Distribution Plots\n",
    " + Pos Frequency Distribution Plot\n",
    " + Neg Frequency Distribution Plot\n",
    "+ Naïve Bayes Model Training\n",
    "+ Model Testing\n",
    " + Display the 30 Most Informative Features\n",
    " + Apply the Model to the Unseen Movie Review\n",
    "+ Conclusion "
   ]
  },
  {
   "cell_type": "markdown",
   "metadata": {},
   "source": [
    "# Data Preparation"
   ]
  },
  {
   "cell_type": "code",
   "execution_count": 1,
   "metadata": {},
   "outputs": [],
   "source": [
    "# Import libraries\n",
    "import requests\n",
    "from bs4 import BeautifulSoup\n",
    "import warnings\n",
    "import os\n",
    "warnings.filterwarnings('ignore')\n",
    "import pandas as pd\n",
    "import seaborn as sns\n",
    "import matplotlib.pyplot as plt\n",
    "import numpy as np\n",
    "import string\n",
    "import gensim\n",
    "import re\n",
    "\n",
    "def get_titles(url):\n",
    "    r = requests.get(url)\n",
    "    soup = BeautifulSoup(r.content)\n",
    "    all_a = soup.find_all(\"a\", class_=\"js-navigation-open Link--primary\")\n",
    "    result = []\n",
    "    for a in all_a:\n",
    "        result.append(a.get_text())\n",
    "    return result;\n",
    "\n",
    "def get_article(url):\n",
    "    r = requests.get(url)\n",
    "    soup = BeautifulSoup(r.content)\n",
    "    soup.find(\"pre\")\n",
    "    return soup.get_text()\n",
    "\n",
    "def get_reviews_local(path):\n",
    "    result = []\n",
    "    files = os.listdir(path)\n",
    "    for file in files:\n",
    "        if not os.path.isdir(file):\n",
    "            f = open(path + \"/\" + file)\n",
    "            iter_f = iter(f)\n",
    "            str = \"\"\n",
    "            for line in iter_f:\n",
    "                str = str + line\n",
    "            result.append(str)\n",
    "    return result"
   ]
  },
  {
   "cell_type": "code",
   "execution_count": 2,
   "metadata": {},
   "outputs": [],
   "source": [
    "# Get files from local. Please save txt_sentoken under \" C:/user/.../\" before you run the code.\n",
    "neg_reviews_path = os.getcwd() + \"/txt_sentoken/neg\"\n",
    "pos_reviews_path = os.getcwd() + \"/txt_sentoken/pos\"\n",
    "\n",
    "neg_reviews = get_reviews_local(neg_reviews_path)\n",
    "pos_reviews= get_reviews_local(pos_reviews_path)"
   ]
  },
  {
   "cell_type": "markdown",
   "metadata": {},
   "source": [
    "The below code with # can be run if you need to read the file from github. However, it may take a lot of time to run all the code."
   ]
  },
  {
   "cell_type": "code",
   "execution_count": 3,
   "metadata": {},
   "outputs": [],
   "source": [
    "# Load the neg and pos directories to my DAV 6150 Github Repository. \n",
    "# neg_article_base_url = \"https://raw.githubusercontent.com/sczhou0705/DAV-6150-2/main/txt_sentoken/neg/\"\n",
    "# pos_article_base_url = \"https://raw.githubusercontent.com/sczhou0705/DAV-6150-2/main/txt_sentoken/pos/\"\n",
    "# neg_titles = get_titles(\"https://github.com/sczhou0705/DAV-6150-2/tree/main/txt_sentoken/neg\")\n",
    "# pos_titles =  get_titles(\"https://github.com/sczhou0705/DAV-6150-2/tree/main/txt_sentoken/pos\")\n",
    "\n",
    "# from os.path import exists\n",
    "# import csv\n",
    "\n",
    "# neg_reviews_raw = \"\"\n",
    "# pos_reviews_raw = \"\"\n",
    "\n",
    "# neg_reviews = []\n",
    "# pos_reviews= []\n",
    "\n",
    "# neg_reviews_filename = \"neg_articles_all.csv\"\n",
    "# pos_reviews_filename = \"pos_articles_all.csv\"\n",
    "\n",
    "# # Load negative reviews from GitHub\n",
    "# if exists(neg_reviews_filename) == False:\n",
    "#     for title in neg_titles:\n",
    "#         neg_reviews_raw += get_article(neg_article_base_url + title)\n",
    "#     with open(neg_reviews_filename, \"a\") as f:\n",
    "#         f.write(neg_reviews_raw)\n",
    "# with open(neg_reviews_filename, newline='') as f:\n",
    "#     reader = csv.reader(f)\n",
    "#     neg_reviews = list(reader)\n",
    "\n",
    "# print(len(neg_reviews))\n",
    "# Load positive reviews from Github\n",
    "# if exists(pos_reviews_filename) == False:\n",
    "#     for title in pos_titles:\n",
    "#         pos_reviews_raw += get_article(pos_article_base_url + title)\n",
    "#     with open(pos_reviews_filename, \"a\") as f:\n",
    "#         f.write(pos_reviews_raw)\n",
    "# with open(pos_reviews_filename, newline='') as f:\n",
    "#     reader = csv.reader(f)\n",
    "#     pos_reviews = list(reader)\n",
    "    \n",
    "# print(len(pos_reviews))"
   ]
  },
  {
   "cell_type": "code",
   "execution_count": 4,
   "metadata": {},
   "outputs": [
    {
     "name": "stdout",
     "output_type": "stream",
     "text": [
      "Negative reviews count: 1000\n",
      "Positive reviews count: 1000\n"
     ]
    }
   ],
   "source": [
    "print(\"Negative reviews count: \" + str(len(neg_reviews)))\n",
    "print(\"Positive reviews count: \" + str(len(pos_reviews)))"
   ]
  },
  {
   "cell_type": "code",
   "execution_count": 5,
   "metadata": {},
   "outputs": [
    {
     "data": {
      "text/html": [
       "<div>\n",
       "<style scoped>\n",
       "    .dataframe tbody tr th:only-of-type {\n",
       "        vertical-align: middle;\n",
       "    }\n",
       "\n",
       "    .dataframe tbody tr th {\n",
       "        vertical-align: top;\n",
       "    }\n",
       "\n",
       "    .dataframe thead th {\n",
       "        text-align: right;\n",
       "    }\n",
       "</style>\n",
       "<table border=\"1\" class=\"dataframe\">\n",
       "  <thead>\n",
       "    <tr style=\"text-align: right;\">\n",
       "      <th></th>\n",
       "      <th>text</th>\n",
       "      <th>label</th>\n",
       "    </tr>\n",
       "  </thead>\n",
       "  <tbody>\n",
       "    <tr>\n",
       "      <th>0</th>\n",
       "      <td>plot : two teen couples go to a church party ,...</td>\n",
       "      <td>0</td>\n",
       "    </tr>\n",
       "    <tr>\n",
       "      <th>1</th>\n",
       "      <td>the happy bastard's quick movie review \\ndamn ...</td>\n",
       "      <td>0</td>\n",
       "    </tr>\n",
       "    <tr>\n",
       "      <th>2</th>\n",
       "      <td>it is movies like these that make a jaded movi...</td>\n",
       "      <td>0</td>\n",
       "    </tr>\n",
       "    <tr>\n",
       "      <th>3</th>\n",
       "      <td>\" quest for camelot \" is warner bros . ' firs...</td>\n",
       "      <td>0</td>\n",
       "    </tr>\n",
       "    <tr>\n",
       "      <th>4</th>\n",
       "      <td>synopsis : a mentally unstable man undergoing ...</td>\n",
       "      <td>0</td>\n",
       "    </tr>\n",
       "    <tr>\n",
       "      <th>...</th>\n",
       "      <td>...</td>\n",
       "      <td>...</td>\n",
       "    </tr>\n",
       "    <tr>\n",
       "      <th>995</th>\n",
       "      <td>wow ! what a movie . \\nit's everything a movie...</td>\n",
       "      <td>1</td>\n",
       "    </tr>\n",
       "    <tr>\n",
       "      <th>996</th>\n",
       "      <td>richard gere can be a commanding actor , but h...</td>\n",
       "      <td>1</td>\n",
       "    </tr>\n",
       "    <tr>\n",
       "      <th>997</th>\n",
       "      <td>glory--starring matthew broderick , denzel was...</td>\n",
       "      <td>1</td>\n",
       "    </tr>\n",
       "    <tr>\n",
       "      <th>998</th>\n",
       "      <td>steven spielberg's second epic film on world w...</td>\n",
       "      <td>1</td>\n",
       "    </tr>\n",
       "    <tr>\n",
       "      <th>999</th>\n",
       "      <td>truman ( \" true-man \" ) burbank is the perfect...</td>\n",
       "      <td>1</td>\n",
       "    </tr>\n",
       "  </tbody>\n",
       "</table>\n",
       "<p>2000 rows × 2 columns</p>\n",
       "</div>"
      ],
      "text/plain": [
       "                                                  text  label\n",
       "0    plot : two teen couples go to a church party ,...      0\n",
       "1    the happy bastard's quick movie review \\ndamn ...      0\n",
       "2    it is movies like these that make a jaded movi...      0\n",
       "3     \" quest for camelot \" is warner bros . ' firs...      0\n",
       "4    synopsis : a mentally unstable man undergoing ...      0\n",
       "..                                                 ...    ...\n",
       "995  wow ! what a movie . \\nit's everything a movie...      1\n",
       "996  richard gere can be a commanding actor , but h...      1\n",
       "997  glory--starring matthew broderick , denzel was...      1\n",
       "998  steven spielberg's second epic film on world w...      1\n",
       "999  truman ( \" true-man \" ) burbank is the perfect...      1\n",
       "\n",
       "[2000 rows x 2 columns]"
      ]
     },
     "execution_count": 5,
     "metadata": {},
     "output_type": "execute_result"
    }
   ],
   "source": [
    "# Label 0 represent negative reviews; Label 1 represent positive review\n",
    "df_neg_reviews = pd.DataFrame(neg_reviews,columns = ['text'])\n",
    "df_neg_reviews['label'] = 0\n",
    "df_pos_reviews = pd.DataFrame(pos_reviews,columns = ['text'])\n",
    "df_pos_reviews['label'] = 1\n",
    "df_labeled= pd.concat([df_neg_reviews,df_pos_reviews])\n",
    "df_labeled"
   ]
  },
  {
   "cell_type": "code",
   "execution_count": 6,
   "metadata": {},
   "outputs": [
    {
     "data": {
      "text/html": [
       "<div>\n",
       "<style scoped>\n",
       "    .dataframe tbody tr th:only-of-type {\n",
       "        vertical-align: middle;\n",
       "    }\n",
       "\n",
       "    .dataframe tbody tr th {\n",
       "        vertical-align: top;\n",
       "    }\n",
       "\n",
       "    .dataframe thead th {\n",
       "        text-align: right;\n",
       "    }\n",
       "</style>\n",
       "<table border=\"1\" class=\"dataframe\">\n",
       "  <thead>\n",
       "    <tr style=\"text-align: right;\">\n",
       "      <th></th>\n",
       "      <th>text</th>\n",
       "      <th>label</th>\n",
       "    </tr>\n",
       "  </thead>\n",
       "  <tbody>\n",
       "    <tr>\n",
       "      <th>0</th>\n",
       "      <td>plot  two teen couples go to a church party  d...</td>\n",
       "      <td>0</td>\n",
       "    </tr>\n",
       "    <tr>\n",
       "      <th>1</th>\n",
       "      <td>the happy bastards quick movie review \\ndamn t...</td>\n",
       "      <td>0</td>\n",
       "    </tr>\n",
       "    <tr>\n",
       "      <th>2</th>\n",
       "      <td>it is movies like these that make a jaded movi...</td>\n",
       "      <td>0</td>\n",
       "    </tr>\n",
       "    <tr>\n",
       "      <th>3</th>\n",
       "      <td>quest for camelot  is warner bros   first fe...</td>\n",
       "      <td>0</td>\n",
       "    </tr>\n",
       "    <tr>\n",
       "      <th>4</th>\n",
       "      <td>synopsis  a mentally unstable man undergoing p...</td>\n",
       "      <td>0</td>\n",
       "    </tr>\n",
       "    <tr>\n",
       "      <th>...</th>\n",
       "      <td>...</td>\n",
       "      <td>...</td>\n",
       "    </tr>\n",
       "    <tr>\n",
       "      <th>995</th>\n",
       "      <td>wow  what a movie  \\nits everything a movie ca...</td>\n",
       "      <td>1</td>\n",
       "    </tr>\n",
       "    <tr>\n",
       "      <th>996</th>\n",
       "      <td>richard gere can be a commanding actor  but he...</td>\n",
       "      <td>1</td>\n",
       "    </tr>\n",
       "    <tr>\n",
       "      <th>997</th>\n",
       "      <td>glorystarring matthew broderick  denzel washin...</td>\n",
       "      <td>1</td>\n",
       "    </tr>\n",
       "    <tr>\n",
       "      <th>998</th>\n",
       "      <td>steven spielbergs second epic film on world wa...</td>\n",
       "      <td>1</td>\n",
       "    </tr>\n",
       "    <tr>\n",
       "      <th>999</th>\n",
       "      <td>truman   trueman   burbank is the perfect name...</td>\n",
       "      <td>1</td>\n",
       "    </tr>\n",
       "  </tbody>\n",
       "</table>\n",
       "<p>2000 rows × 2 columns</p>\n",
       "</div>"
      ],
      "text/plain": [
       "                                                  text  label\n",
       "0    plot  two teen couples go to a church party  d...      0\n",
       "1    the happy bastards quick movie review \\ndamn t...      0\n",
       "2    it is movies like these that make a jaded movi...      0\n",
       "3      quest for camelot  is warner bros   first fe...      0\n",
       "4    synopsis  a mentally unstable man undergoing p...      0\n",
       "..                                                 ...    ...\n",
       "995  wow  what a movie  \\nits everything a movie ca...      1\n",
       "996  richard gere can be a commanding actor  but he...      1\n",
       "997  glorystarring matthew broderick  denzel washin...      1\n",
       "998  steven spielbergs second epic film on world wa...      1\n",
       "999  truman   trueman   burbank is the perfect name...      1\n",
       "\n",
       "[2000 rows x 2 columns]"
      ]
     },
     "execution_count": 6,
     "metadata": {},
     "output_type": "execute_result"
    }
   ],
   "source": [
    "# Remove punctuations \n",
    "p = re.compile(r'[^\\w\\s]+')\n",
    "df_labeled['text'] = [p.sub('', x) for x in df_labeled['text'].values.tolist()]\n",
    "df_labeled"
   ]
  },
  {
   "cell_type": "code",
   "execution_count": 7,
   "metadata": {},
   "outputs": [
    {
     "data": {
      "text/html": [
       "<div>\n",
       "<style scoped>\n",
       "    .dataframe tbody tr th:only-of-type {\n",
       "        vertical-align: middle;\n",
       "    }\n",
       "\n",
       "    .dataframe tbody tr th {\n",
       "        vertical-align: top;\n",
       "    }\n",
       "\n",
       "    .dataframe thead th {\n",
       "        text-align: right;\n",
       "    }\n",
       "</style>\n",
       "<table border=\"1\" class=\"dataframe\">\n",
       "  <thead>\n",
       "    <tr style=\"text-align: right;\">\n",
       "      <th></th>\n",
       "      <th>text</th>\n",
       "      <th>label</th>\n",
       "    </tr>\n",
       "  </thead>\n",
       "  <tbody>\n",
       "    <tr>\n",
       "      <th>0</th>\n",
       "      <td>plot teen couples church party drink drive ac...</td>\n",
       "      <td>0</td>\n",
       "    </tr>\n",
       "    <tr>\n",
       "      <th>1</th>\n",
       "      <td>happy bastards quick movie review damn y2k bu...</td>\n",
       "      <td>0</td>\n",
       "    </tr>\n",
       "    <tr>\n",
       "      <th>2</th>\n",
       "      <td>movies like jaded movie viewer thankful inven...</td>\n",
       "      <td>0</td>\n",
       "    </tr>\n",
       "    <tr>\n",
       "      <th>3</th>\n",
       "      <td>quest camelot warner bros featurelength fully...</td>\n",
       "      <td>0</td>\n",
       "    </tr>\n",
       "    <tr>\n",
       "      <th>4</th>\n",
       "      <td>synopsis mentally unstable man undergoing psy...</td>\n",
       "      <td>0</td>\n",
       "    </tr>\n",
       "    <tr>\n",
       "      <th>...</th>\n",
       "      <td>...</td>\n",
       "      <td>...</td>\n",
       "    </tr>\n",
       "    <tr>\n",
       "      <th>1995</th>\n",
       "      <td>wow movie movie funny dramatic interesting we...</td>\n",
       "      <td>1</td>\n",
       "    </tr>\n",
       "    <tr>\n",
       "      <th>1996</th>\n",
       "      <td>richard gere commanding actor hes great films...</td>\n",
       "      <td>1</td>\n",
       "    </tr>\n",
       "    <tr>\n",
       "      <th>1997</th>\n",
       "      <td>glorystarring matthew broderick denzel washin...</td>\n",
       "      <td>1</td>\n",
       "    </tr>\n",
       "    <tr>\n",
       "      <th>1998</th>\n",
       "      <td>steven spielbergs second epic film world war ...</td>\n",
       "      <td>1</td>\n",
       "    </tr>\n",
       "    <tr>\n",
       "      <th>1999</th>\n",
       "      <td>truman trueman burbank perfect jim carreys ch...</td>\n",
       "      <td>1</td>\n",
       "    </tr>\n",
       "  </tbody>\n",
       "</table>\n",
       "<p>2000 rows × 2 columns</p>\n",
       "</div>"
      ],
      "text/plain": [
       "                                                   text  label\n",
       "0      plot teen couples church party drink drive ac...      0\n",
       "1      happy bastards quick movie review damn y2k bu...      0\n",
       "2      movies like jaded movie viewer thankful inven...      0\n",
       "3      quest camelot warner bros featurelength fully...      0\n",
       "4      synopsis mentally unstable man undergoing psy...      0\n",
       "...                                                 ...    ...\n",
       "1995   wow movie movie funny dramatic interesting we...      1\n",
       "1996   richard gere commanding actor hes great films...      1\n",
       "1997   glorystarring matthew broderick denzel washin...      1\n",
       "1998   steven spielbergs second epic film world war ...      1\n",
       "1999   truman trueman burbank perfect jim carreys ch...      1\n",
       "\n",
       "[2000 rows x 2 columns]"
      ]
     },
     "execution_count": 7,
     "metadata": {},
     "output_type": "execute_result"
    }
   ],
   "source": [
    "# pip install genism\n",
    "# The reason to use genism is that the number of stopwords is around 339,more than the package of nltk stopwords.\n",
    "from gensim.parsing.preprocessing import remove_stopwords, STOPWORDS\n",
    "from nltk.tokenize import word_tokenize\n",
    "STOPWORDS = STOPWORDS.union(set(['doesnt','dont','isnt','didnt']))\n",
    "# print(STOPWORDS)\n",
    "# print('--')\n",
    "# print(len(STOPWORDS))\n",
    "# Tokenize the words before removing stopwords.\n",
    "\n",
    "def clean_text(text):\n",
    "    word_tokens = word_tokenize(text)\n",
    "    kw_sentence = [w for w in word_tokens if not w.lower() in STOPWORDS]\n",
    "    kw_set = set()\n",
    "    for kw in kw_sentence:\n",
    "        kw_set.add(kw)\n",
    "    filtered_sentence = []\n",
    "    for w in word_tokens:\n",
    "        if w in kw_set:\n",
    "            filtered_sentence.append(w)\n",
    "    result = \"\"\n",
    "    for s in filtered_sentence:\n",
    "        result += ' ' + s\n",
    "    return result\n",
    "\n",
    "new_text = []\n",
    "for t in df_labeled['text']:\n",
    "    new_text.append(clean_text(t))\n",
    "df_labeled['text'] = new_text\n",
    "    \n",
    "\n",
    "# Print the result after removing stopwords and punctuation.\n",
    "df_labeled\n",
    "df_labeled.reset_index(drop=True)"
   ]
  },
  {
   "cell_type": "code",
   "execution_count": 8,
   "metadata": {},
   "outputs": [],
   "source": [
    "from sklearn.feature_extraction.text import CountVectorizer\n",
    "cv = CountVectorizer(lowercase = True,stop_words='english',min_df =2)"
   ]
  },
  {
   "cell_type": "code",
   "execution_count": 9,
   "metadata": {},
   "outputs": [],
   "source": [
    "X = cv.fit_transform(df_labeled['text'])"
   ]
  },
  {
   "cell_type": "code",
   "execution_count": 10,
   "metadata": {
    "scrolled": true
   },
   "outputs": [
    {
     "data": {
      "text/html": [
       "<div>\n",
       "<style scoped>\n",
       "    .dataframe tbody tr th:only-of-type {\n",
       "        vertical-align: middle;\n",
       "    }\n",
       "\n",
       "    .dataframe tbody tr th {\n",
       "        vertical-align: top;\n",
       "    }\n",
       "\n",
       "    .dataframe thead th {\n",
       "        text-align: right;\n",
       "    }\n",
       "</style>\n",
       "<table border=\"1\" class=\"dataframe\">\n",
       "  <thead>\n",
       "    <tr style=\"text-align: right;\">\n",
       "      <th></th>\n",
       "      <th>00</th>\n",
       "      <th>000</th>\n",
       "      <th>007</th>\n",
       "      <th>05</th>\n",
       "      <th>10</th>\n",
       "      <th>100</th>\n",
       "      <th>1000</th>\n",
       "      <th>100m</th>\n",
       "      <th>100minute</th>\n",
       "      <th>101</th>\n",
       "      <th>...</th>\n",
       "      <th>zooms</th>\n",
       "      <th>zoot</th>\n",
       "      <th>zorg</th>\n",
       "      <th>zorro</th>\n",
       "      <th>zs</th>\n",
       "      <th>zucker</th>\n",
       "      <th>zuko</th>\n",
       "      <th>zwick</th>\n",
       "      <th>zwicks</th>\n",
       "      <th>zwigoffs</th>\n",
       "    </tr>\n",
       "  </thead>\n",
       "  <tbody>\n",
       "    <tr>\n",
       "      <th>0</th>\n",
       "      <td>0</td>\n",
       "      <td>0</td>\n",
       "      <td>0</td>\n",
       "      <td>0</td>\n",
       "      <td>0</td>\n",
       "      <td>0</td>\n",
       "      <td>0</td>\n",
       "      <td>0</td>\n",
       "      <td>0</td>\n",
       "      <td>0</td>\n",
       "      <td>...</td>\n",
       "      <td>0</td>\n",
       "      <td>0</td>\n",
       "      <td>0</td>\n",
       "      <td>0</td>\n",
       "      <td>0</td>\n",
       "      <td>0</td>\n",
       "      <td>0</td>\n",
       "      <td>0</td>\n",
       "      <td>0</td>\n",
       "      <td>0</td>\n",
       "    </tr>\n",
       "    <tr>\n",
       "      <th>1</th>\n",
       "      <td>0</td>\n",
       "      <td>0</td>\n",
       "      <td>0</td>\n",
       "      <td>0</td>\n",
       "      <td>0</td>\n",
       "      <td>0</td>\n",
       "      <td>0</td>\n",
       "      <td>0</td>\n",
       "      <td>0</td>\n",
       "      <td>0</td>\n",
       "      <td>...</td>\n",
       "      <td>0</td>\n",
       "      <td>0</td>\n",
       "      <td>0</td>\n",
       "      <td>0</td>\n",
       "      <td>0</td>\n",
       "      <td>0</td>\n",
       "      <td>0</td>\n",
       "      <td>0</td>\n",
       "      <td>0</td>\n",
       "      <td>0</td>\n",
       "    </tr>\n",
       "    <tr>\n",
       "      <th>2</th>\n",
       "      <td>0</td>\n",
       "      <td>0</td>\n",
       "      <td>0</td>\n",
       "      <td>0</td>\n",
       "      <td>0</td>\n",
       "      <td>0</td>\n",
       "      <td>0</td>\n",
       "      <td>0</td>\n",
       "      <td>0</td>\n",
       "      <td>0</td>\n",
       "      <td>...</td>\n",
       "      <td>0</td>\n",
       "      <td>0</td>\n",
       "      <td>0</td>\n",
       "      <td>0</td>\n",
       "      <td>0</td>\n",
       "      <td>0</td>\n",
       "      <td>0</td>\n",
       "      <td>0</td>\n",
       "      <td>0</td>\n",
       "      <td>0</td>\n",
       "    </tr>\n",
       "    <tr>\n",
       "      <th>3</th>\n",
       "      <td>0</td>\n",
       "      <td>0</td>\n",
       "      <td>0</td>\n",
       "      <td>0</td>\n",
       "      <td>0</td>\n",
       "      <td>0</td>\n",
       "      <td>0</td>\n",
       "      <td>0</td>\n",
       "      <td>0</td>\n",
       "      <td>0</td>\n",
       "      <td>...</td>\n",
       "      <td>0</td>\n",
       "      <td>0</td>\n",
       "      <td>0</td>\n",
       "      <td>0</td>\n",
       "      <td>0</td>\n",
       "      <td>0</td>\n",
       "      <td>0</td>\n",
       "      <td>0</td>\n",
       "      <td>0</td>\n",
       "      <td>0</td>\n",
       "    </tr>\n",
       "    <tr>\n",
       "      <th>4</th>\n",
       "      <td>0</td>\n",
       "      <td>0</td>\n",
       "      <td>0</td>\n",
       "      <td>0</td>\n",
       "      <td>0</td>\n",
       "      <td>0</td>\n",
       "      <td>0</td>\n",
       "      <td>0</td>\n",
       "      <td>0</td>\n",
       "      <td>0</td>\n",
       "      <td>...</td>\n",
       "      <td>0</td>\n",
       "      <td>0</td>\n",
       "      <td>0</td>\n",
       "      <td>0</td>\n",
       "      <td>0</td>\n",
       "      <td>0</td>\n",
       "      <td>0</td>\n",
       "      <td>0</td>\n",
       "      <td>0</td>\n",
       "      <td>0</td>\n",
       "    </tr>\n",
       "    <tr>\n",
       "      <th>...</th>\n",
       "      <td>...</td>\n",
       "      <td>...</td>\n",
       "      <td>...</td>\n",
       "      <td>...</td>\n",
       "      <td>...</td>\n",
       "      <td>...</td>\n",
       "      <td>...</td>\n",
       "      <td>...</td>\n",
       "      <td>...</td>\n",
       "      <td>...</td>\n",
       "      <td>...</td>\n",
       "      <td>...</td>\n",
       "      <td>...</td>\n",
       "      <td>...</td>\n",
       "      <td>...</td>\n",
       "      <td>...</td>\n",
       "      <td>...</td>\n",
       "      <td>...</td>\n",
       "      <td>...</td>\n",
       "      <td>...</td>\n",
       "      <td>...</td>\n",
       "    </tr>\n",
       "    <tr>\n",
       "      <th>1995</th>\n",
       "      <td>0</td>\n",
       "      <td>0</td>\n",
       "      <td>0</td>\n",
       "      <td>0</td>\n",
       "      <td>1</td>\n",
       "      <td>0</td>\n",
       "      <td>0</td>\n",
       "      <td>0</td>\n",
       "      <td>0</td>\n",
       "      <td>0</td>\n",
       "      <td>...</td>\n",
       "      <td>0</td>\n",
       "      <td>0</td>\n",
       "      <td>0</td>\n",
       "      <td>0</td>\n",
       "      <td>0</td>\n",
       "      <td>0</td>\n",
       "      <td>0</td>\n",
       "      <td>0</td>\n",
       "      <td>0</td>\n",
       "      <td>0</td>\n",
       "    </tr>\n",
       "    <tr>\n",
       "      <th>1996</th>\n",
       "      <td>0</td>\n",
       "      <td>0</td>\n",
       "      <td>0</td>\n",
       "      <td>0</td>\n",
       "      <td>0</td>\n",
       "      <td>0</td>\n",
       "      <td>0</td>\n",
       "      <td>0</td>\n",
       "      <td>0</td>\n",
       "      <td>0</td>\n",
       "      <td>...</td>\n",
       "      <td>0</td>\n",
       "      <td>0</td>\n",
       "      <td>0</td>\n",
       "      <td>0</td>\n",
       "      <td>0</td>\n",
       "      <td>0</td>\n",
       "      <td>0</td>\n",
       "      <td>0</td>\n",
       "      <td>0</td>\n",
       "      <td>0</td>\n",
       "    </tr>\n",
       "    <tr>\n",
       "      <th>1997</th>\n",
       "      <td>0</td>\n",
       "      <td>0</td>\n",
       "      <td>0</td>\n",
       "      <td>0</td>\n",
       "      <td>1</td>\n",
       "      <td>0</td>\n",
       "      <td>0</td>\n",
       "      <td>0</td>\n",
       "      <td>0</td>\n",
       "      <td>0</td>\n",
       "      <td>...</td>\n",
       "      <td>0</td>\n",
       "      <td>0</td>\n",
       "      <td>0</td>\n",
       "      <td>0</td>\n",
       "      <td>0</td>\n",
       "      <td>0</td>\n",
       "      <td>0</td>\n",
       "      <td>1</td>\n",
       "      <td>0</td>\n",
       "      <td>0</td>\n",
       "    </tr>\n",
       "    <tr>\n",
       "      <th>1998</th>\n",
       "      <td>0</td>\n",
       "      <td>0</td>\n",
       "      <td>0</td>\n",
       "      <td>0</td>\n",
       "      <td>1</td>\n",
       "      <td>0</td>\n",
       "      <td>0</td>\n",
       "      <td>0</td>\n",
       "      <td>0</td>\n",
       "      <td>0</td>\n",
       "      <td>...</td>\n",
       "      <td>0</td>\n",
       "      <td>0</td>\n",
       "      <td>0</td>\n",
       "      <td>0</td>\n",
       "      <td>0</td>\n",
       "      <td>0</td>\n",
       "      <td>0</td>\n",
       "      <td>0</td>\n",
       "      <td>0</td>\n",
       "      <td>0</td>\n",
       "    </tr>\n",
       "    <tr>\n",
       "      <th>1999</th>\n",
       "      <td>0</td>\n",
       "      <td>0</td>\n",
       "      <td>0</td>\n",
       "      <td>0</td>\n",
       "      <td>0</td>\n",
       "      <td>0</td>\n",
       "      <td>0</td>\n",
       "      <td>0</td>\n",
       "      <td>0</td>\n",
       "      <td>0</td>\n",
       "      <td>...</td>\n",
       "      <td>0</td>\n",
       "      <td>0</td>\n",
       "      <td>0</td>\n",
       "      <td>0</td>\n",
       "      <td>0</td>\n",
       "      <td>0</td>\n",
       "      <td>0</td>\n",
       "      <td>0</td>\n",
       "      <td>0</td>\n",
       "      <td>0</td>\n",
       "    </tr>\n",
       "  </tbody>\n",
       "</table>\n",
       "<p>2000 rows × 25551 columns</p>\n",
       "</div>"
      ],
      "text/plain": [
       "      00  000  007  05  10  100  1000  100m  100minute  101  ...  zooms  zoot  \\\n",
       "0      0    0    0   0   0    0     0     0          0    0  ...      0     0   \n",
       "1      0    0    0   0   0    0     0     0          0    0  ...      0     0   \n",
       "2      0    0    0   0   0    0     0     0          0    0  ...      0     0   \n",
       "3      0    0    0   0   0    0     0     0          0    0  ...      0     0   \n",
       "4      0    0    0   0   0    0     0     0          0    0  ...      0     0   \n",
       "...   ..  ...  ...  ..  ..  ...   ...   ...        ...  ...  ...    ...   ...   \n",
       "1995   0    0    0   0   1    0     0     0          0    0  ...      0     0   \n",
       "1996   0    0    0   0   0    0     0     0          0    0  ...      0     0   \n",
       "1997   0    0    0   0   1    0     0     0          0    0  ...      0     0   \n",
       "1998   0    0    0   0   1    0     0     0          0    0  ...      0     0   \n",
       "1999   0    0    0   0   0    0     0     0          0    0  ...      0     0   \n",
       "\n",
       "      zorg  zorro  zs  zucker  zuko  zwick  zwicks  zwigoffs  \n",
       "0        0      0   0       0     0      0       0         0  \n",
       "1        0      0   0       0     0      0       0         0  \n",
       "2        0      0   0       0     0      0       0         0  \n",
       "3        0      0   0       0     0      0       0         0  \n",
       "4        0      0   0       0     0      0       0         0  \n",
       "...    ...    ...  ..     ...   ...    ...     ...       ...  \n",
       "1995     0      0   0       0     0      0       0         0  \n",
       "1996     0      0   0       0     0      0       0         0  \n",
       "1997     0      0   0       0     0      1       0         0  \n",
       "1998     0      0   0       0     0      0       0         0  \n",
       "1999     0      0   0       0     0      0       0         0  \n",
       "\n",
       "[2000 rows x 25551 columns]"
      ]
     },
     "execution_count": 10,
     "metadata": {},
     "output_type": "execute_result"
    }
   ],
   "source": [
    "# Transform the provided data into properly labeled count vectors within a Term-Document matrix\n",
    "\n",
    "word_freq_df = pd.DataFrame(X.toarray(), columns=cv.get_feature_names())\n",
    "word_freq_df"
   ]
  },
  {
   "cell_type": "code",
   "execution_count": 11,
   "metadata": {},
   "outputs": [],
   "source": [
    "# Label the negative value as 0 ; positive value as 1\n",
    "word_freq_df['Is_pos'] = 0"
   ]
  },
  {
   "cell_type": "code",
   "execution_count": 12,
   "metadata": {},
   "outputs": [],
   "source": [
    "# positive value as 1\n",
    "word_freq_df['Is_pos'][1000:] = 1"
   ]
  },
  {
   "cell_type": "code",
   "execution_count": 13,
   "metadata": {},
   "outputs": [],
   "source": [
    "df_tdm = word_freq_df"
   ]
  },
  {
   "cell_type": "code",
   "execution_count": 14,
   "metadata": {},
   "outputs": [
    {
     "data": {
      "text/html": [
       "<div>\n",
       "<style scoped>\n",
       "    .dataframe tbody tr th:only-of-type {\n",
       "        vertical-align: middle;\n",
       "    }\n",
       "\n",
       "    .dataframe tbody tr th {\n",
       "        vertical-align: top;\n",
       "    }\n",
       "\n",
       "    .dataframe thead th {\n",
       "        text-align: right;\n",
       "    }\n",
       "</style>\n",
       "<table border=\"1\" class=\"dataframe\">\n",
       "  <thead>\n",
       "    <tr style=\"text-align: right;\">\n",
       "      <th></th>\n",
       "      <th>00</th>\n",
       "      <th>000</th>\n",
       "      <th>007</th>\n",
       "      <th>05</th>\n",
       "      <th>10</th>\n",
       "      <th>100</th>\n",
       "      <th>1000</th>\n",
       "      <th>100m</th>\n",
       "      <th>100minute</th>\n",
       "      <th>101</th>\n",
       "      <th>...</th>\n",
       "      <th>zoot</th>\n",
       "      <th>zorg</th>\n",
       "      <th>zorro</th>\n",
       "      <th>zs</th>\n",
       "      <th>zucker</th>\n",
       "      <th>zuko</th>\n",
       "      <th>zwick</th>\n",
       "      <th>zwicks</th>\n",
       "      <th>zwigoffs</th>\n",
       "      <th>Is_pos</th>\n",
       "    </tr>\n",
       "  </thead>\n",
       "  <tbody>\n",
       "    <tr>\n",
       "      <th>0</th>\n",
       "      <td>0</td>\n",
       "      <td>0</td>\n",
       "      <td>0</td>\n",
       "      <td>0</td>\n",
       "      <td>0</td>\n",
       "      <td>0</td>\n",
       "      <td>0</td>\n",
       "      <td>0</td>\n",
       "      <td>0</td>\n",
       "      <td>0</td>\n",
       "      <td>...</td>\n",
       "      <td>0</td>\n",
       "      <td>0</td>\n",
       "      <td>0</td>\n",
       "      <td>0</td>\n",
       "      <td>0</td>\n",
       "      <td>0</td>\n",
       "      <td>0</td>\n",
       "      <td>0</td>\n",
       "      <td>0</td>\n",
       "      <td>0</td>\n",
       "    </tr>\n",
       "    <tr>\n",
       "      <th>1</th>\n",
       "      <td>0</td>\n",
       "      <td>0</td>\n",
       "      <td>0</td>\n",
       "      <td>0</td>\n",
       "      <td>0</td>\n",
       "      <td>0</td>\n",
       "      <td>0</td>\n",
       "      <td>0</td>\n",
       "      <td>0</td>\n",
       "      <td>0</td>\n",
       "      <td>...</td>\n",
       "      <td>0</td>\n",
       "      <td>0</td>\n",
       "      <td>0</td>\n",
       "      <td>0</td>\n",
       "      <td>0</td>\n",
       "      <td>0</td>\n",
       "      <td>0</td>\n",
       "      <td>0</td>\n",
       "      <td>0</td>\n",
       "      <td>0</td>\n",
       "    </tr>\n",
       "  </tbody>\n",
       "</table>\n",
       "<p>2 rows × 25552 columns</p>\n",
       "</div>"
      ],
      "text/plain": [
       "   00  000  007  05  10  100  1000  100m  100minute  101  ...  zoot  zorg  \\\n",
       "0   0    0    0   0   0    0     0     0          0    0  ...     0     0   \n",
       "1   0    0    0   0   0    0     0     0          0    0  ...     0     0   \n",
       "\n",
       "   zorro  zs  zucker  zuko  zwick  zwicks  zwigoffs  Is_pos  \n",
       "0      0   0       0     0      0       0         0       0  \n",
       "1      0   0       0     0      0       0         0       0  \n",
       "\n",
       "[2 rows x 25552 columns]"
      ]
     },
     "execution_count": 14,
     "metadata": {},
     "output_type": "execute_result"
    }
   ],
   "source": [
    "df_tdm.head(2)"
   ]
  },
  {
   "cell_type": "markdown",
   "metadata": {},
   "source": [
    "# Frequency Distribution Plots "
   ]
  },
  {
   "cell_type": "code",
   "execution_count": 15,
   "metadata": {},
   "outputs": [],
   "source": [
    "X_neg = df_tdm[df_tdm['Is_pos'] == 0].iloc[:,:25551] "
   ]
  },
  {
   "cell_type": "code",
   "execution_count": 16,
   "metadata": {},
   "outputs": [],
   "source": [
    "word_list_neg = X_neg.columns\n",
    "count_list_neg = X_neg.values.sum(axis = 0)\n",
    "freq_neg = dict(zip(word_list_neg,count_list_neg)) \n"
   ]
  },
  {
   "cell_type": "code",
   "execution_count": 17,
   "metadata": {
    "scrolled": true
   },
   "outputs": [
    {
     "data": {
      "text/plain": [
       "<AxesSubplot:>"
      ]
     },
     "execution_count": 17,
     "metadata": {},
     "output_type": "execute_result"
    },
    {
     "data": {
      "image/png": "[encoded data removed]",
      "text/plain": [
       "<Figure size 432x288 with 1 Axes>"
      ]
     },
     "metadata": {
      "needs_background": "light"
     },
     "output_type": "display_data"
    }
   ],
   "source": [
    "top_words_neg = pd.DataFrame(X_neg.sum()).sort_values(0,ascending=False)\n",
    "top_words_neg = top_words_neg.rename({0:'neg'},axis='columns')\n",
    "# Make plots\n",
    "top_words_neg[:30].plot.bar()\n"
   ]
  },
  {
   "cell_type": "markdown",
   "metadata": {},
   "source": [
    "From this bar plot, we can see that in neg movie reviews, 'film,' 'movie,' and 'like' appear more often than others, 'film' appears about 4000 times, 'movies' appears almost 3000 times, 'like' exceeds 1500 times."
   ]
  },
  {
   "cell_type": "code",
   "execution_count": 18,
   "metadata": {},
   "outputs": [],
   "source": [
    "X_pos = df_tdm[df_tdm['Is_pos'] == 1].iloc[:,:25551]\n"
   ]
  },
  {
   "cell_type": "code",
   "execution_count": 19,
   "metadata": {},
   "outputs": [],
   "source": [
    "word_list_pos = X_pos.columns\n",
    "count_list_pos = X_pos.values.sum(axis = 0)\n",
    "freq_pos = dict(zip(word_list_pos,count_list_pos))\n"
   ]
  },
  {
   "cell_type": "code",
   "execution_count": 20,
   "metadata": {},
   "outputs": [
    {
     "data": {
      "text/plain": [
       "<AxesSubplot:>"
      ]
     },
     "execution_count": 20,
     "metadata": {},
     "output_type": "execute_result"
    },
    {
     "data": {
      "image/png": "[encoded data removed]",
      "text/plain": [
       "<Figure size 432x288 with 1 Axes>"
      ]
     },
     "metadata": {
      "needs_background": "light"
     },
     "output_type": "display_data"
    }
   ],
   "source": [
    "top_words_pos = pd.DataFrame(X_pos.sum()).sort_values(0, ascending=False)\n",
    "top_words_pos = top_words_pos.rename({0:'pos'},axis='columns')\n",
    "# Make plots\n",
    "top_words_pos[:30].plot.bar()"
   ]
  },
  {
   "cell_type": "markdown",
   "metadata": {},
   "source": [
    "From this bar plot, we can see that in pos movie reviews, 'film,' 'movie,' and 'like' also appear more often than others, 'film' is close to 5000 times, 'movies' exceeds 2000 times, 'like' appears about 1700 times."
   ]
  },
  {
   "cell_type": "markdown",
   "metadata": {},
   "source": [
    "We can see from these two graphs that some of the features in the positive graph also appear in the negative plot. The difference is that the frequency of their appearance is not the same. Therefore, they have different sorts in the graph.\n"
   ]
  },
  {
   "cell_type": "markdown",
   "metadata": {},
   "source": [
    "# Naïve Bayes Model Training"
   ]
  },
  {
   "cell_type": "markdown",
   "metadata": {},
   "source": [
    "We know there are Gaussian Naive Bayes,Multinomial Naive Bayes,Complement Naive Bayes,Bernoulli Naive Bayes types of Naïve Bayes classifier.  But for this sample, we will apply Multinomial Naive Bayes to do the model training. The reason is the method best suits discrete values like word counts."
   ]
  },
  {
   "cell_type": "code",
   "execution_count": 21,
   "metadata": {},
   "outputs": [
    {
     "name": "stdout",
     "output_type": "stream",
     "text": [
      "(1500, 25552) (500, 25552) (1500,) (500,)\n"
     ]
    }
   ],
   "source": [
    "from sklearn.model_selection import train_test_split\n",
    "# Now split the data into training and testing subsets. \n",
    "# We'll set aside 25% of the data for testing purposes; Remember to make sure you specify a value for the inital random_state\n",
    "# if you want to have the ability to reproduce the exact same training + testing subsets repeatedly\n",
    "X = df_tdm.iloc[:,:25552]\n",
    "y = df_tdm['Is_pos']\n",
    "X_train, X_test, y_train, y_test = train_test_split(X, y, test_size=0.25, random_state=12)\n",
    "print(X_train.shape, X_test.shape, y_train.shape, y_test.shape)"
   ]
  },
  {
   "cell_type": "code",
   "execution_count": 22,
   "metadata": {},
   "outputs": [
    {
     "data": {
      "text/plain": [
       "MultinomialNB()"
      ]
     },
     "execution_count": 22,
     "metadata": {},
     "output_type": "execute_result"
    }
   ],
   "source": [
    "from sklearn.naive_bayes import MultinomialNB\n",
    "\n",
    "naive_bayes_mnb = MultinomialNB()\n",
    "naive_bayes_mnb.fit(X_train, y_train)"
   ]
  },
  {
   "cell_type": "code",
   "execution_count": 23,
   "metadata": {},
   "outputs": [
    {
     "data": {
      "text/plain": [
       "0.9826666666666667"
      ]
     },
     "execution_count": 23,
     "metadata": {},
     "output_type": "execute_result"
    }
   ],
   "source": [
    "naive_bayes_mnb.score(X_train, y_train)"
   ]
  },
  {
   "cell_type": "code",
   "execution_count": 24,
   "metadata": {},
   "outputs": [
    {
     "data": {
      "text/plain": [
       "1.000000000000046"
      ]
     },
     "execution_count": 24,
     "metadata": {},
     "output_type": "execute_result"
    }
   ],
   "source": [
    "# The sum of probabilities == 1\n",
    "sum([np.exp(1)**x for x in naive_bayes_mnb.feature_log_prob_[0]])"
   ]
  },
  {
   "cell_type": "code",
   "execution_count": 25,
   "metadata": {},
   "outputs": [
    {
     "name": "stdout",
     "output_type": "stream",
     "text": [
      "\t-12.3640\t10year         \t\t-4.3332\tfilm           \n",
      "\t-12.3640\t12hour         \t\t-4.6605\tmovie          \n",
      "\t-12.3640\t12th           \t\t-5.1348\tlike           \n",
      "\t-12.3640\t14th           \t\t-5.6012\tgood           \n",
      "\t-12.3640\t14year         \t\t-5.6317\ttime           \n",
      "\t-12.3640\t150th          \t\t-5.7059\tbad            \n",
      "\t-12.3640\t155            \t\t-5.8316\tfilms          \n",
      "\t-12.3640\t160            \t\t-5.8612\tstory          \n",
      "\t-12.3640\t16th           \t\t-5.8612\tcharacters     \n",
      "\t-12.3640\t175            \t\t-5.8778\tcharacter      \n",
      "\t-12.3640\t1773           \t\t-5.8809\tplot           \n",
      "\t-12.3640\t17day          \t\t-6.0113\tway            \n",
      "\t-12.3640\t1839           \t\t-6.0468\tlittle         \n",
      "\t-12.3640\t1888           \t\t-6.1159\tscene          \n",
      "\t-12.3640\t18wheeler      \t\t-6.1434\tmovies         \n",
      "\t-12.3640\t1912           \t\t-6.1635\tpeople         \n",
      "\t-12.3640\t1919           \t\t-6.1655\tscenes         \n",
      "\t-12.3640\t1932           \t\t-6.1943\ttheres         \n",
      "\t-12.3640\t1933           \t\t-6.1964\tknow           \n",
      "\t-12.3640\t1935           \t\t-6.2749\taction         \n",
      "\t-12.3640\t1937           \t\t-6.2955\thes            \n",
      "\t-12.3640\t1940           \t\t-6.3261\tman            \n",
      "\t-12.3640\t1941           \t\t-6.3478\tdirector       \n",
      "\t-12.3640\t1943           \t\t-6.3601\tbig            \n",
      "\t-12.3640\t1953           \t\t-6.3700\tbetter         \n",
      "\t-12.3640\t1957           \t\t-6.4030\tlife           \n",
      "\t-12.3640\t1959           \t\t-6.4159\tnew            \n",
      "\t-12.3640\t1970           \t\t-6.4159\tend            \n",
      "\t-12.3640\t1975           \t\t-6.4159\tbest           \n",
      "\t-12.3640\t19thcentury    \t\t-6.4559\twork           \n"
     ]
    }
   ],
   "source": [
    "# Display and discuss the 30 most informative features \n",
    "# https://stackoverflow.com/questions/11116697/how-to-get-most-informative-features-for-scikit-learn-classifiers\n",
    "# https://scikit-learn.org/stable/modules/generated/sklearn.naive_bayes.MultinomialNB.html\n",
    "n=30\n",
    "coefs_with_fns = sorted(zip(naive_bayes_mnb.feature_log_prob_[0], X_train.columns))\n",
    "top = zip(coefs_with_fns[:n], coefs_with_fns[:-(n + 1):-1])\n",
    "for (coef_1, fn_1), (coef_2, fn_2) in top:\n",
    "    print(\"\\t%.4f\\t%-15s\\t\\t%.4f\\t%-15s\" % (coef_1, fn_1, coef_2, fn_2))\n"
   ]
  },
  {
   "cell_type": "markdown",
   "metadata": {},
   "source": [
    "We can discover the 30 most informative features determined by our Naïve Bayes classifier from top to bottom from the above-right part. The highest informative features are 'film,' 'movie,' 'like,' 'good,' 'time,' and so on."
   ]
  },
  {
   "cell_type": "markdown",
   "metadata": {},
   "source": [
    "# Model Testing\n",
    "- Apply the above MultinomialNB model to test the subset and evaluate whether the model perform well.\n",
    "- Apply the model to the new movie review (Bayes Naive Theorem) and identify the model performance on the new movie review."
   ]
  },
  {
   "cell_type": "code",
   "execution_count": 26,
   "metadata": {
    "scrolled": true
   },
   "outputs": [
    {
     "name": "stdout",
     "output_type": "stream",
     "text": [
      "Accuracy score:  0.83\n",
      "Precision score:  0.8192771084337349\n",
      "Recall score:  0.8360655737704918\n",
      "F1_score:  0.8275862068965517\n",
      "Roc_auc_score:  0.8301421618852459\n"
     ]
    }
   ],
   "source": [
    "# Predict the test set\n",
    "predictions = naive_bayes_mnb.predict(X_test)\n",
    "from sklearn.metrics import accuracy_score, precision_score, recall_score,f1_score,roc_auc_score\n",
    "print('Accuracy score: ', accuracy_score(y_test, predictions))\n",
    "print('Precision score: ', precision_score(y_test, predictions))\n",
    "print('Recall score: ', recall_score(y_test, predictions))\n",
    "print('F1_score: ',f1_score(y_test, predictions))\n",
    "print('Roc_auc_score: ',roc_auc_score(y_test, predictions))"
   ]
  },
  {
   "cell_type": "markdown",
   "metadata": {},
   "source": [
    "The accuracy rate is 83%. High precision relates to the low false-positive rate. We have a 0.819 precision and 0.839 recall suitable for this model as it’s above 0.5. Also, the roc score is over 0.8, so we can interpret this model to perform well."
   ]
  },
  {
   "cell_type": "code",
   "execution_count": 27,
   "metadata": {},
   "outputs": [],
   "source": [
    "from nltk.tokenize import word_tokenize"
   ]
  },
  {
   "cell_type": "code",
   "execution_count": 28,
   "metadata": {},
   "outputs": [
    {
     "name": "stdout",
     "output_type": "stream",
     "text": [
      "<class 'str'>\n"
     ]
    }
   ],
   "source": [
    "new_sentence = \"\"\"There were some things I didn't like about this film. Here's what I remember most \n",
    "strongly: a man in an ingeniously fake-looking polar bear costume (funnier than the \n",
    "\"bear\" from Hercules in New York); an extra with a less than believable laugh; an ex-drug\n",
    "addict martian with tics; child actors who recite their lines very slowly and carefully; \n",
    "a newspaper headline declaring that Santa has been \"kidnapped\", and a giant robot. The \n",
    "least appealing acting job in the film must be when Mother Claus and her elves have been \n",
    "\"frozen\" by the \"Martians'\" weapons. They seemed to display an exaggerated amount of \n",
    "fear. Perhaps this was the preferred acting style in the 1960's??\"\"\"\n",
    "print(type(new_sentence))"
   ]
  },
  {
   "cell_type": "code",
   "execution_count": 29,
   "metadata": {},
   "outputs": [],
   "source": [
    "# Remove punctuation\n",
    "new_sentence = new_sentence.translate(str.maketrans('', '', string.punctuation))"
   ]
  },
  {
   "cell_type": "code",
   "execution_count": 30,
   "metadata": {},
   "outputs": [],
   "source": [
    "# Remove stopwords\n",
    "new_word_list = word_tokenize(new_sentence)\n",
    "filtered_sentence = [w for w in new_word_list if not w.lower() in STOPWORDS]\n",
    "filtered_sentence = []\n",
    " \n",
    "for w in new_word_list:\n",
    "    if w not in STOPWORDS:\n",
    "        filtered_sentence.append(w)\n",
    "new_word_list = filtered_sentence\n"
   ]
  },
  {
   "cell_type": "markdown",
   "metadata": {},
   "source": [
    "Now, the new sentence is a clean sentence. Then, we need to find out if the new movie review is a positive review or negative review. We will use Bayes Naive Theorem to solve this. We need to find out what is the probability of class\"positive\" given the new movie sentence and the probability of class'negative\" given the new sentence. We will look at individual words,not the whole sentence. In the above step, we've already split the sentence to words and assume that every word in a sentence is independent of the other ones. "
   ]
  },
  {
   "attachments": {
    "image.png": {
     "image/png": "[encoded data removed]"
    }
   },
   "cell_type": "markdown",
   "metadata": {},
   "source": [
    "We reference some code and calculation logic from \"https://medium.com/analytics-vidhya/naive-bayes-classifier-for-text-classification-556fabaf252b\". Suppose a word from the new movie does not appear in the class within the dataset,the equation becomes zero. Therefore, it is impossible for us to need all the words of the new movies. For avoiding the problem of zero probabilities,we will use Laplace smoothing(alhpa = 1).  α is a smoothing Laplace parameter to discard the influence of words absent in the vocabulary.\n",
    "\n",
    "![image.png](attachment:image.png)"
   ]
  },
  {
   "cell_type": "code",
   "execution_count": 31,
   "metadata": {},
   "outputs": [
    {
     "data": {
      "text/plain": [
       "{'There': 0.003272947452828645,\n",
       " 'things': 1.318997823489944,\n",
       " 'I': 0.003272947452828645,\n",
       " 'like': 6.009131523393392,\n",
       " 'film': 13.075425074050436,\n",
       " 'Heres': 0.003272947452828645,\n",
       " 'remember': 0.3109300080187213,\n",
       " 'strongly': 0.029456527075457803,\n",
       " 'man': 1.862307100659499,\n",
       " 'ingeniously': 0.003272947452828645,\n",
       " 'fakelooking': 0.009818842358485933,\n",
       " 'polar': 0.016364737264143225,\n",
       " 'bear': 0.09818842358485934,\n",
       " 'costume': 0.10473431849051663,\n",
       " 'funnier': 0.0654589490565729,\n",
       " 'Hercules': 0.003272947452828645,\n",
       " 'New': 0.003272947452828645,\n",
       " 'York': 0.003272947452828645,\n",
       " 'extra': 0.08509663377354476,\n",
       " 'believable': 0.17346621499991818,\n",
       " 'laugh': 0.4156643265092379,\n",
       " 'exdrug': 0.003272947452828645,\n",
       " 'addict': 0.04254831688677238,\n",
       " 'martian': 0.07855073886788747,\n",
       " 'tics': 0.003272947452828645,\n",
       " 'child': 0.304384113113064,\n",
       " 'actors': 1.217536452452256,\n",
       " 'recite': 0.019637684716971866,\n",
       " 'lines': 0.6120411736789565,\n",
       " 'slowly': 0.14400968792446037,\n",
       " 'carefully': 0.04582126433960103,\n",
       " 'newspaper': 0.03927536943394373,\n",
       " 'headline': 0.016364737264143225,\n",
       " 'declaring': 0.00654589490565729,\n",
       " 'Santa': 0.003272947452828645,\n",
       " 'kidnapped': 0.06873189650940154,\n",
       " 'giant': 0.3207488503772072,\n",
       " 'robot': 0.07855073886788747,\n",
       " 'The': 0.003272947452828645,\n",
       " 'appealing': 0.12437200320748851,\n",
       " 'acting': 1.2109905575465987,\n",
       " 'job': 0.6676812803770436,\n",
       " 'Mother': 0.003272947452828645,\n",
       " 'Claus': 0.003272947452828645,\n",
       " 'elves': 0.01309178981131458,\n",
       " 'frozen': 0.03272947452828645,\n",
       " 'Martians': 0.003272947452828645,\n",
       " 'weapons': 0.09164252867920206,\n",
       " 'They': 0.003272947452828645,\n",
       " 'display': 0.09164252867920206,\n",
       " 'exaggerated': 0.016364737264143225,\n",
       " 'fear': 0.20619568952820463,\n",
       " 'Perhaps': 0.003272947452828645,\n",
       " 'preferred': 0.02618357962262916,\n",
       " 'style': 0.4778503281129821,\n",
       " '1960s': 0.04254831688677238}"
      ]
     },
     "execution_count": 31,
     "metadata": {},
     "output_type": "execute_result"
    }
   ],
   "source": [
    "# Total_cnts_features_neg : Sum up the number of times features appeared in samples from class negative\n",
    "total_cnts_features_neg = count_list_neg.sum(axis=0)\n",
    "# Total count of all features appeared in sample dataset.\n",
    "total_features = len(df_tdm.columns)-1 # 25551 features\n",
    "prob_neg_with_ls = []\n",
    "for word in new_word_list:\n",
    "# We've already calculated each word frequency appeared in negative class in the session of \"Frequency Distribution Plots\".\n",
    "    if word in freq_neg.keys():\n",
    "        count = freq_neg[word]\n",
    "    else:\n",
    "        count = 0\n",
    "# Laplace smoothing(alhpa = 1).We multiply by 1000 here because the original number is too small\n",
    "    prob_neg_with_ls.append((count + 1)/(total_cnts_features_neg + total_features) * 1000) \n",
    "neg_dict = dict(zip(new_word_list,prob_neg_with_ls))\n",
    "neg_dict"
   ]
  },
  {
   "cell_type": "code",
   "execution_count": 32,
   "metadata": {},
   "outputs": [
    {
     "data": {
      "text/plain": [
       "{'There': 0.0029380914745399684,\n",
       " 'things': 1.3162649805939057,\n",
       " 'I': 0.0029380914745399684,\n",
       " 'like': 5.050579244734205,\n",
       " 'film': 14.293815023636947,\n",
       " 'Heres': 0.0029380914745399684,\n",
       " 'remember': 0.3143757877757766,\n",
       " 'strongly': 0.07639037833803917,\n",
       " 'man': 2.053725940703438,\n",
       " 'ingeniously': 0.008814274423619905,\n",
       " 'fakelooking': 0.005876182949079937,\n",
       " 'polar': 0.014690457372699842,\n",
       " 'bear': 0.08226656128711911,\n",
       " 'costume': 0.07051419538895924,\n",
       " 'funnier': 0.047009463592639494,\n",
       " 'Hercules': 0.0029380914745399684,\n",
       " 'New': 0.0029380914745399684,\n",
       " 'York': 0.0029380914745399684,\n",
       " 'extra': 0.10577129308343886,\n",
       " 'believable': 0.2321092264886575,\n",
       " 'laugh': 0.29087105597945684,\n",
       " 'exdrug': 0.0029380914745399684,\n",
       " 'addict': 0.014690457372699842,\n",
       " 'martian': 0.008814274423619905,\n",
       " 'tics': 0.014690457372699842,\n",
       " 'child': 0.4201470808592155,\n",
       " 'actors': 1.016579650190829,\n",
       " 'recite': 0.011752365898159874,\n",
       " 'lines': 0.3995804405374357,\n",
       " 'slowly': 0.2497377753358973,\n",
       " 'carefully': 0.08226656128711911,\n",
       " 'newspaper': 0.041133280643559554,\n",
       " 'headline': 0.005876182949079937,\n",
       " 'declaring': 0.008814274423619905,\n",
       " 'Santa': 0.0029380914745399684,\n",
       " 'kidnapped': 0.0646380124398793,\n",
       " 'giant': 0.2321092264886575,\n",
       " 'robot': 0.06757610391441927,\n",
       " 'The': 0.0029380914745399684,\n",
       " 'appealing': 0.14984266520153838,\n",
       " 'acting': 0.9431273633273298,\n",
       " 'job': 1.0224558331399092,\n",
       " 'Mother': 0.0029380914745399684,\n",
       " 'Claus': 0.0029380914745399684,\n",
       " 'elves': 0.005876182949079937,\n",
       " 'frozen': 0.03525709769447962,\n",
       " 'Martians': 0.0029380914745399684,\n",
       " 'weapons': 0.08226656128711911,\n",
       " 'They': 0.0029380914745399684,\n",
       " 'display': 0.07639037833803917,\n",
       " 'exaggerated': 0.03819518916901959,\n",
       " 'fear': 0.23504731796319747,\n",
       " 'Perhaps': 0.0029380914745399684,\n",
       " 'preferred': 0.011752365898159874,\n",
       " 'style': 0.49653745919725467,\n",
       " '1960s': 0.09108083571073902}"
      ]
     },
     "execution_count": 32,
     "metadata": {},
     "output_type": "execute_result"
    }
   ],
   "source": [
    "# Total_cnts_features_pos : Sum up the number of times features appeared in samples from class positive\n",
    "total_cnts_features_pos = count_list_pos.sum(axis=0)\n",
    "total_features = len(df_tdm.columns)-1 # 25551 features\n",
    "prob_pos_with_ls = []\n",
    "for word in new_word_list:\n",
    "    if word in freq_pos.keys():\n",
    "        count = freq_pos[word]\n",
    "    else:\n",
    "        count = 0\n",
    "    # We multiply by 1000 here because the original number is too small\n",
    "    prob_pos_with_ls.append((count + 1)/(total_cnts_features_pos + total_features) * 1000)\n",
    "pos_dict = dict(zip(new_word_list,prob_pos_with_ls))\n",
    "pos_dict"
   ]
  },
  {
   "cell_type": "code",
   "execution_count": 33,
   "metadata": {},
   "outputs": [
    {
     "data": {
      "text/plain": [
       "5.23201592407163e-95"
      ]
     },
     "execution_count": 33,
     "metadata": {},
     "output_type": "execute_result"
    }
   ],
   "source": [
    "# Multiple all the prob_pos values.\n",
    "result_pos = 1\n",
    "for key in pos_dict:\n",
    "# P(new_movie_review_sentence|pos_reviews) \n",
    "    result_pos = result_pos * pos_dict[key]\n",
    "# P(new_movie_review_sentence|pos_reviews)*P(positive)\n",
    "    result_pos = result_pos * 0.5\n",
    "result_pos"
   ]
  },
  {
   "cell_type": "code",
   "execution_count": 34,
   "metadata": {},
   "outputs": [
    {
     "data": {
      "text/plain": [
       "1.3134229254185563e-93"
      ]
     },
     "execution_count": 34,
     "metadata": {},
     "output_type": "execute_result"
    }
   ],
   "source": [
    "# Multiple all the prob_neg values.\n",
    "result_neg = 1\n",
    "for key in neg_dict:\n",
    "# P(new_movie_review_sentence|neg_reviews) \n",
    "    result_neg = result_neg * neg_dict[key]\n",
    "# P(new_movie_review_sentence|neg_reviews)*P(negative)    \n",
    "    result_neg = result_neg * 0.5\n",
    "result_neg"
   ]
  },
  {
   "cell_type": "code",
   "execution_count": 35,
   "metadata": {},
   "outputs": [
    {
     "data": {
      "text/plain": [
       "True"
      ]
     },
     "execution_count": 35,
     "metadata": {},
     "output_type": "execute_result"
    }
   ],
   "source": [
    "result_neg > result_pos"
   ]
  },
  {
   "cell_type": "markdown",
   "metadata": {},
   "source": [
    "Therefore, the new movie review can be classfied as 'negative' review as well as we expected.\n",
    "\n",
    "From this new movie review, we can see from the first sentence that this film review is biased to a negative review.  We use the model to test the paragraph, and the result also shows negative. So we think the classification is accurate, performing as expected.\n",
    "\n"
   ]
  },
  {
   "cell_type": "markdown",
   "metadata": {},
   "source": [
    "# Conclusion"
   ]
  },
  {
   "cell_type": "markdown",
   "metadata": {},
   "source": [
    "We use the MultinomialNB model to perform sentiment analysis on data sets related to movies reviews. The model we designed performs well, with scores (accuracy, F1_score, precision, recall, and roc) exceeding 80%. In addition, we used the model to test a new movie review, and the result was a negative review, which is consistent with our intuitive judgment. Once again proves the feasibility of our model. However, we believe that there are still areas for improvement in the future. For example, when performing data cleaning and excluding stopwords and punctuation,  we also need to consider the singular and plural words."
   ]
  },
  {
   "cell_type": "markdown",
   "metadata": {},
   "source": [
    "# Reference\n",
    "- https://medium.com/analytics-vidhya/naive-bayes-classifier-for-text-classification-556fabaf252b\n",
    "- https://stackoverflow.com/questions/11116697/how-to-get-most-informative-features-for-scikit-learn-classifiers\n",
    "- https://scikit-learn.org/stable/modules/generated/sklearn.naive_bayes.MultinomialNB.html\n",
    "- https://towardsdatascience.com/comparing-a-variety-of-naive-bayes-classification-algorithms-fc5fa298379e"
   ]
  },
  {
   "cell_type": "code",
   "execution_count": null,
   "metadata": {},
   "outputs": [],
   "source": []
  }
 ],
 "metadata": {
  "kernelspec": {
   "display_name": "Python 3",
   "language": "python",
   "name": "python3"
  },
  "language_info": {
   "codemirror_mode": {
    "name": "ipython",
    "version": 3
   },
   "file_extension": ".py",
   "mimetype": "text/x-python",
   "name": "python",
   "nbconvert_exporter": "python",
   "pygments_lexer": "ipython3",
   "version": "3.8.5"
  }
 },
 "nbformat": 4,
 "nbformat_minor": 4
}
