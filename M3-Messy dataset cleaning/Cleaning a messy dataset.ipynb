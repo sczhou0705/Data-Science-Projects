{
 "cells": [
  {
   "cell_type": "markdown",
   "metadata": {},
   "source": [
    "# Module 3 Assignment - Cleaning “Messy” Data\n",
    "\n",
    "#### Group Member: Jinming Chen, Shichao Zhou, Maojudan Nihemaiti"
   ]
  },
  {
   "cell_type": "markdown",
   "metadata": {},
   "source": [
    "# Introduction\n",
    "The wine dataset contains 16 attributes that are related to the chemical composition. \n",
    "The following work will be investigated and cleaned the dataset for further analysis.\n",
    "\n",
    "\n",
    "The following are our analysis steps:\n",
    "\n",
    "\n",
    "- Import the data set and introduce the data dictionary.\n",
    "- Apply exploratory data analysis (EDA) to detect missing and invalid values and create plots.\n",
    "- Use two ways to analyze missing data.\n",
    "- Handle invalid data.\n",
    "- Use box cox to transform data distributions.\n",
    "- Re-run the EDA to ensure the data is well prepared for subsequent modeling.\n",
    "\n",
    "Before doing the EDA, let's import the original data set into the pandas data frame first."
   ]
  },
  {
   "cell_type": "markdown",
   "metadata": {},
   "source": [
    "# Data dictionary"
   ]
  },
  {
   "cell_type": "markdown",
   "metadata": {},
   "source": [
    "+ INDEX: Unique ID\n",
    "- Target:Response Variable (indicates # of cases of wine sold)\n",
    "- AcidIndex:Measures total acidity of wine via a weighted average\n",
    "- Alcohol:Alcohol Content\n",
    "- Chlorides:Chloride content of the wine\n",
    "- CitricAcid:Citric Acid content of the wine\n",
    "- Density:Density of the wine\n",
    "- FixedAcidity:FixedAcidity of the wine\n",
    "- FreeSulfurDioxide:Sulfur Dioxide content of the wine\n",
    "- LabelAppeal:Subjective marketing score that indicates the appeal of \n",
    "the design of the label on the bottle\n",
    "- ResidualSugar:Residual sugar content of the wine\n",
    "- Stars:Wine rating as determined by experts (4 = excellent; 1 = \n",
    "Poor\n",
    "- Sulphates:Sulfate content of the wine\n",
    "- TotalSulfurDioxide:Total sulfur dioxide content of the wine\n",
    "- VolatileAcidlity:Volatile acid content of the wine\n",
    "- pH:pH of the wine\n",
    "\n",
    "The dataset contains 16 columns. The number of columns showing the chemical properties of the wine is 12. \"LabelAppeal\" and \"Star\" show that the subjective marketing responses towards wine.\n",
    "\n",
    "+ Categorical variables:Target,AcidIndex,LabelAppeal and Stars\n",
    "+ Numerical varibables:AcidIndex,Alcohol,Chlorides,CitricAcid,Density,FixedAcidity,FreeSulfurDioxide,\n",
    "  ResidualSugar,Sulphates,TotalSulfurDioxide,VolatileAcidlity,pH.\n"
   ]
  },
  {
   "cell_type": "code",
   "execution_count": 1,
   "metadata": {},
   "outputs": [],
   "source": [
    "# Load all the libraries that are needed\n",
    "import numpy as np\n",
    "import pandas as pd\n",
    "import matplotlib.pyplot as plt\n",
    "import seaborn as sns"
   ]
  },
  {
   "cell_type": "code",
   "execution_count": 2,
   "metadata": {},
   "outputs": [
    {
     "data": {
      "text/html": [
       "<div>\n",
       "<style scoped>\n",
       "    .dataframe tbody tr th:only-of-type {\n",
       "        vertical-align: middle;\n",
       "    }\n",
       "\n",
       "    .dataframe tbody tr th {\n",
       "        vertical-align: top;\n",
       "    }\n",
       "\n",
       "    .dataframe thead th {\n",
       "        text-align: right;\n",
       "    }\n",
       "</style>\n",
       "<table border=\"1\" class=\"dataframe\">\n",
       "  <thead>\n",
       "    <tr style=\"text-align: right;\">\n",
       "      <th></th>\n",
       "      <th>Unnamed: 0</th>\n",
       "      <th>INDEX</th>\n",
       "      <th>TARGET</th>\n",
       "      <th>FixedAcidity</th>\n",
       "      <th>VolatileAcidity</th>\n",
       "      <th>CitricAcid</th>\n",
       "      <th>ResidualSugar</th>\n",
       "      <th>Chlorides</th>\n",
       "      <th>FreeSulfurDioxide</th>\n",
       "      <th>TotalSulfurDioxide</th>\n",
       "      <th>Density</th>\n",
       "      <th>pH</th>\n",
       "      <th>Sulphates</th>\n",
       "      <th>Alcohol</th>\n",
       "      <th>LabelAppeal</th>\n",
       "      <th>AcidIndex</th>\n",
       "      <th>STARS</th>\n",
       "    </tr>\n",
       "  </thead>\n",
       "  <tbody>\n",
       "    <tr>\n",
       "      <th>0</th>\n",
       "      <td>0</td>\n",
       "      <td>1</td>\n",
       "      <td>3</td>\n",
       "      <td>3.2</td>\n",
       "      <td>1.160</td>\n",
       "      <td>0.98</td>\n",
       "      <td>54.2</td>\n",
       "      <td>0.567</td>\n",
       "      <td>NaN</td>\n",
       "      <td>268.0</td>\n",
       "      <td>0.99280</td>\n",
       "      <td>3.33</td>\n",
       "      <td>0.59</td>\n",
       "      <td>9.9</td>\n",
       "      <td>0</td>\n",
       "      <td>8</td>\n",
       "      <td>2.0</td>\n",
       "    </tr>\n",
       "    <tr>\n",
       "      <th>1</th>\n",
       "      <td>1</td>\n",
       "      <td>2</td>\n",
       "      <td>3</td>\n",
       "      <td>4.5</td>\n",
       "      <td>0.160</td>\n",
       "      <td>0.81</td>\n",
       "      <td>26.1</td>\n",
       "      <td>0.425</td>\n",
       "      <td>15.0</td>\n",
       "      <td>327.0</td>\n",
       "      <td>1.02792</td>\n",
       "      <td>3.38</td>\n",
       "      <td>0.70</td>\n",
       "      <td>NaN</td>\n",
       "      <td>-1</td>\n",
       "      <td>7</td>\n",
       "      <td>3.0</td>\n",
       "    </tr>\n",
       "    <tr>\n",
       "      <th>2</th>\n",
       "      <td>2</td>\n",
       "      <td>4</td>\n",
       "      <td>5</td>\n",
       "      <td>7.1</td>\n",
       "      <td>2.640</td>\n",
       "      <td>0.88</td>\n",
       "      <td>14.8</td>\n",
       "      <td>0.037</td>\n",
       "      <td>214.0</td>\n",
       "      <td>142.0</td>\n",
       "      <td>0.99518</td>\n",
       "      <td>3.12</td>\n",
       "      <td>0.48</td>\n",
       "      <td>22.0</td>\n",
       "      <td>-1</td>\n",
       "      <td>8</td>\n",
       "      <td>3.0</td>\n",
       "    </tr>\n",
       "    <tr>\n",
       "      <th>3</th>\n",
       "      <td>3</td>\n",
       "      <td>5</td>\n",
       "      <td>3</td>\n",
       "      <td>5.7</td>\n",
       "      <td>0.385</td>\n",
       "      <td>0.04</td>\n",
       "      <td>18.8</td>\n",
       "      <td>0.425</td>\n",
       "      <td>22.0</td>\n",
       "      <td>115.0</td>\n",
       "      <td>0.99640</td>\n",
       "      <td>2.24</td>\n",
       "      <td>1.83</td>\n",
       "      <td>6.2</td>\n",
       "      <td>-1</td>\n",
       "      <td>6</td>\n",
       "      <td>1.0</td>\n",
       "    </tr>\n",
       "    <tr>\n",
       "      <th>4</th>\n",
       "      <td>4</td>\n",
       "      <td>6</td>\n",
       "      <td>4</td>\n",
       "      <td>8.0</td>\n",
       "      <td>0.330</td>\n",
       "      <td>1.26</td>\n",
       "      <td>9.4</td>\n",
       "      <td>NaN</td>\n",
       "      <td>167.0</td>\n",
       "      <td>108.0</td>\n",
       "      <td>0.99457</td>\n",
       "      <td>3.12</td>\n",
       "      <td>1.77</td>\n",
       "      <td>13.7</td>\n",
       "      <td>0</td>\n",
       "      <td>9</td>\n",
       "      <td>2.0</td>\n",
       "    </tr>\n",
       "  </tbody>\n",
       "</table>\n",
       "</div>"
      ],
      "text/plain": [
       "   Unnamed: 0  INDEX  TARGET  FixedAcidity  VolatileAcidity  CitricAcid  \\\n",
       "0           0      1       3           3.2            1.160        0.98   \n",
       "1           1      2       3           4.5            0.160        0.81   \n",
       "2           2      4       5           7.1            2.640        0.88   \n",
       "3           3      5       3           5.7            0.385        0.04   \n",
       "4           4      6       4           8.0            0.330        1.26   \n",
       "\n",
       "   ResidualSugar  Chlorides  FreeSulfurDioxide  TotalSulfurDioxide  Density  \\\n",
       "0           54.2      0.567                NaN               268.0  0.99280   \n",
       "1           26.1      0.425               15.0               327.0  1.02792   \n",
       "2           14.8      0.037              214.0               142.0  0.99518   \n",
       "3           18.8      0.425               22.0               115.0  0.99640   \n",
       "4            9.4        NaN              167.0               108.0  0.99457   \n",
       "\n",
       "     pH  Sulphates  Alcohol  LabelAppeal  AcidIndex  STARS  \n",
       "0  3.33       0.59      9.9            0          8    2.0  \n",
       "1  3.38       0.70      NaN           -1          7    3.0  \n",
       "2  3.12       0.48     22.0           -1          8    3.0  \n",
       "3  2.24       1.83      6.2           -1          6    1.0  \n",
       "4  3.12       1.77     13.7            0          9    2.0  "
      ]
     },
     "execution_count": 2,
     "metadata": {},
     "output_type": "execute_result"
    }
   ],
   "source": [
    "# Start by reading a set of sample data from github. This data set contains information related to automobile.\n",
    "df = pd.read_csv(\"https://raw.githubusercontent.com/JinmingChen12/DATA_SCIENCE/main/M3_Data.csv\")\n",
    "\n",
    "\n",
    "df.head()"
   ]
  },
  {
   "cell_type": "markdown",
   "metadata": {},
   "source": [
    "The above dataframe shows that the unnamed column and the index of the first column are meaningless to further create predictive models, just like unique Id. So we drop the columns."
   ]
  },
  {
   "cell_type": "code",
   "execution_count": 3,
   "metadata": {
    "scrolled": true
   },
   "outputs": [
    {
     "data": {
      "text/html": [
       "<div>\n",
       "<style scoped>\n",
       "    .dataframe tbody tr th:only-of-type {\n",
       "        vertical-align: middle;\n",
       "    }\n",
       "\n",
       "    .dataframe tbody tr th {\n",
       "        vertical-align: top;\n",
       "    }\n",
       "\n",
       "    .dataframe thead th {\n",
       "        text-align: right;\n",
       "    }\n",
       "</style>\n",
       "<table border=\"1\" class=\"dataframe\">\n",
       "  <thead>\n",
       "    <tr style=\"text-align: right;\">\n",
       "      <th></th>\n",
       "      <th>TARGET</th>\n",
       "      <th>FixedAcidity</th>\n",
       "      <th>VolatileAcidity</th>\n",
       "      <th>CitricAcid</th>\n",
       "      <th>ResidualSugar</th>\n",
       "      <th>Chlorides</th>\n",
       "      <th>FreeSulfurDioxide</th>\n",
       "      <th>TotalSulfurDioxide</th>\n",
       "      <th>Density</th>\n",
       "      <th>pH</th>\n",
       "      <th>Sulphates</th>\n",
       "      <th>Alcohol</th>\n",
       "      <th>LabelAppeal</th>\n",
       "      <th>AcidIndex</th>\n",
       "      <th>STARS</th>\n",
       "    </tr>\n",
       "  </thead>\n",
       "  <tbody>\n",
       "    <tr>\n",
       "      <th>0</th>\n",
       "      <td>3</td>\n",
       "      <td>3.2</td>\n",
       "      <td>1.160</td>\n",
       "      <td>0.98</td>\n",
       "      <td>54.2</td>\n",
       "      <td>0.567</td>\n",
       "      <td>NaN</td>\n",
       "      <td>268.0</td>\n",
       "      <td>0.99280</td>\n",
       "      <td>3.33</td>\n",
       "      <td>0.59</td>\n",
       "      <td>9.9</td>\n",
       "      <td>0</td>\n",
       "      <td>8</td>\n",
       "      <td>2.0</td>\n",
       "    </tr>\n",
       "    <tr>\n",
       "      <th>1</th>\n",
       "      <td>3</td>\n",
       "      <td>4.5</td>\n",
       "      <td>0.160</td>\n",
       "      <td>0.81</td>\n",
       "      <td>26.1</td>\n",
       "      <td>0.425</td>\n",
       "      <td>15.0</td>\n",
       "      <td>327.0</td>\n",
       "      <td>1.02792</td>\n",
       "      <td>3.38</td>\n",
       "      <td>0.70</td>\n",
       "      <td>NaN</td>\n",
       "      <td>-1</td>\n",
       "      <td>7</td>\n",
       "      <td>3.0</td>\n",
       "    </tr>\n",
       "    <tr>\n",
       "      <th>2</th>\n",
       "      <td>5</td>\n",
       "      <td>7.1</td>\n",
       "      <td>2.640</td>\n",
       "      <td>0.88</td>\n",
       "      <td>14.8</td>\n",
       "      <td>0.037</td>\n",
       "      <td>214.0</td>\n",
       "      <td>142.0</td>\n",
       "      <td>0.99518</td>\n",
       "      <td>3.12</td>\n",
       "      <td>0.48</td>\n",
       "      <td>22.0</td>\n",
       "      <td>-1</td>\n",
       "      <td>8</td>\n",
       "      <td>3.0</td>\n",
       "    </tr>\n",
       "    <tr>\n",
       "      <th>3</th>\n",
       "      <td>3</td>\n",
       "      <td>5.7</td>\n",
       "      <td>0.385</td>\n",
       "      <td>0.04</td>\n",
       "      <td>18.8</td>\n",
       "      <td>0.425</td>\n",
       "      <td>22.0</td>\n",
       "      <td>115.0</td>\n",
       "      <td>0.99640</td>\n",
       "      <td>2.24</td>\n",
       "      <td>1.83</td>\n",
       "      <td>6.2</td>\n",
       "      <td>-1</td>\n",
       "      <td>6</td>\n",
       "      <td>1.0</td>\n",
       "    </tr>\n",
       "    <tr>\n",
       "      <th>4</th>\n",
       "      <td>4</td>\n",
       "      <td>8.0</td>\n",
       "      <td>0.330</td>\n",
       "      <td>1.26</td>\n",
       "      <td>9.4</td>\n",
       "      <td>NaN</td>\n",
       "      <td>167.0</td>\n",
       "      <td>108.0</td>\n",
       "      <td>0.99457</td>\n",
       "      <td>3.12</td>\n",
       "      <td>1.77</td>\n",
       "      <td>13.7</td>\n",
       "      <td>0</td>\n",
       "      <td>9</td>\n",
       "      <td>2.0</td>\n",
       "    </tr>\n",
       "  </tbody>\n",
       "</table>\n",
       "</div>"
      ],
      "text/plain": [
       "   TARGET  FixedAcidity  VolatileAcidity  CitricAcid  ResidualSugar  \\\n",
       "0       3           3.2            1.160        0.98           54.2   \n",
       "1       3           4.5            0.160        0.81           26.1   \n",
       "2       5           7.1            2.640        0.88           14.8   \n",
       "3       3           5.7            0.385        0.04           18.8   \n",
       "4       4           8.0            0.330        1.26            9.4   \n",
       "\n",
       "   Chlorides  FreeSulfurDioxide  TotalSulfurDioxide  Density    pH  Sulphates  \\\n",
       "0      0.567                NaN               268.0  0.99280  3.33       0.59   \n",
       "1      0.425               15.0               327.0  1.02792  3.38       0.70   \n",
       "2      0.037              214.0               142.0  0.99518  3.12       0.48   \n",
       "3      0.425               22.0               115.0  0.99640  2.24       1.83   \n",
       "4        NaN              167.0               108.0  0.99457  3.12       1.77   \n",
       "\n",
       "   Alcohol  LabelAppeal  AcidIndex  STARS  \n",
       "0      9.9            0          8    2.0  \n",
       "1      NaN           -1          7    3.0  \n",
       "2     22.0           -1          8    3.0  \n",
       "3      6.2           -1          6    1.0  \n",
       "4     13.7            0          9    2.0  "
      ]
     },
     "execution_count": 3,
     "metadata": {},
     "output_type": "execute_result"
    }
   ],
   "source": [
    "# Drop column Unnamed\n",
    "data= df.drop(columns=['Unnamed: 0','INDEX'])\n",
    "data.head()"
   ]
  },
  {
   "cell_type": "markdown",
   "metadata": {},
   "source": [
    "# Exploratory Data Analysis (EDA)"
   ]
  },
  {
   "cell_type": "markdown",
   "metadata": {},
   "source": [
    "In this part, we will find and analyze the missing and invalid values and make histograms and other graphs to determine further how to fix the data to improve its usability."
   ]
  },
  {
   "cell_type": "code",
   "execution_count": 4,
   "metadata": {},
   "outputs": [
    {
     "data": {
      "text/plain": [
       "(12795, 15)"
      ]
     },
     "execution_count": 4,
     "metadata": {},
     "output_type": "execute_result"
    }
   ],
   "source": [
    "# Pre-review the dataframe\n",
    "# We have 12795 observations and 15 columns\n",
    "data.shape"
   ]
  },
  {
   "cell_type": "code",
   "execution_count": 5,
   "metadata": {},
   "outputs": [
    {
     "data": {
      "text/html": [
       "<div>\n",
       "<style scoped>\n",
       "    .dataframe tbody tr th:only-of-type {\n",
       "        vertical-align: middle;\n",
       "    }\n",
       "\n",
       "    .dataframe tbody tr th {\n",
       "        vertical-align: top;\n",
       "    }\n",
       "\n",
       "    .dataframe thead th {\n",
       "        text-align: right;\n",
       "    }\n",
       "</style>\n",
       "<table border=\"1\" class=\"dataframe\">\n",
       "  <thead>\n",
       "    <tr style=\"text-align: right;\">\n",
       "      <th></th>\n",
       "      <th>TARGET</th>\n",
       "      <th>FixedAcidity</th>\n",
       "      <th>VolatileAcidity</th>\n",
       "      <th>CitricAcid</th>\n",
       "      <th>ResidualSugar</th>\n",
       "      <th>Chlorides</th>\n",
       "      <th>FreeSulfurDioxide</th>\n",
       "      <th>TotalSulfurDioxide</th>\n",
       "      <th>Density</th>\n",
       "      <th>pH</th>\n",
       "      <th>Sulphates</th>\n",
       "      <th>Alcohol</th>\n",
       "      <th>LabelAppeal</th>\n",
       "      <th>AcidIndex</th>\n",
       "      <th>STARS</th>\n",
       "    </tr>\n",
       "  </thead>\n",
       "  <tbody>\n",
       "    <tr>\n",
       "      <th>count</th>\n",
       "      <td>12795.000000</td>\n",
       "      <td>12795.000000</td>\n",
       "      <td>12795.000000</td>\n",
       "      <td>12795.000000</td>\n",
       "      <td>12179.000000</td>\n",
       "      <td>12157.000000</td>\n",
       "      <td>12148.000000</td>\n",
       "      <td>12113.000000</td>\n",
       "      <td>12795.000000</td>\n",
       "      <td>12400.000000</td>\n",
       "      <td>11585.000000</td>\n",
       "      <td>12142.000000</td>\n",
       "      <td>12795.000000</td>\n",
       "      <td>12795.000000</td>\n",
       "      <td>9436.000000</td>\n",
       "    </tr>\n",
       "    <tr>\n",
       "      <th>mean</th>\n",
       "      <td>3.029074</td>\n",
       "      <td>8.063251</td>\n",
       "      <td>0.641086</td>\n",
       "      <td>0.686315</td>\n",
       "      <td>23.367809</td>\n",
       "      <td>0.222559</td>\n",
       "      <td>106.679042</td>\n",
       "      <td>204.319120</td>\n",
       "      <td>0.994203</td>\n",
       "      <td>3.207628</td>\n",
       "      <td>0.846668</td>\n",
       "      <td>10.523778</td>\n",
       "      <td>-0.009066</td>\n",
       "      <td>7.772724</td>\n",
       "      <td>2.041755</td>\n",
       "    </tr>\n",
       "    <tr>\n",
       "      <th>std</th>\n",
       "      <td>1.926368</td>\n",
       "      <td>4.996119</td>\n",
       "      <td>0.555614</td>\n",
       "      <td>0.606005</td>\n",
       "      <td>24.945667</td>\n",
       "      <td>0.234288</td>\n",
       "      <td>108.102694</td>\n",
       "      <td>163.116881</td>\n",
       "      <td>0.026538</td>\n",
       "      <td>0.679687</td>\n",
       "      <td>0.655612</td>\n",
       "      <td>3.629154</td>\n",
       "      <td>0.891089</td>\n",
       "      <td>1.323926</td>\n",
       "      <td>0.902540</td>\n",
       "    </tr>\n",
       "    <tr>\n",
       "      <th>min</th>\n",
       "      <td>0.000000</td>\n",
       "      <td>0.000000</td>\n",
       "      <td>0.000000</td>\n",
       "      <td>0.000000</td>\n",
       "      <td>0.000000</td>\n",
       "      <td>0.000000</td>\n",
       "      <td>0.000000</td>\n",
       "      <td>0.000000</td>\n",
       "      <td>0.888090</td>\n",
       "      <td>0.480000</td>\n",
       "      <td>0.000000</td>\n",
       "      <td>0.000000</td>\n",
       "      <td>-2.000000</td>\n",
       "      <td>4.000000</td>\n",
       "      <td>1.000000</td>\n",
       "    </tr>\n",
       "    <tr>\n",
       "      <th>25%</th>\n",
       "      <td>2.000000</td>\n",
       "      <td>5.600000</td>\n",
       "      <td>0.250000</td>\n",
       "      <td>0.280000</td>\n",
       "      <td>3.600000</td>\n",
       "      <td>0.046000</td>\n",
       "      <td>28.000000</td>\n",
       "      <td>100.000000</td>\n",
       "      <td>0.987720</td>\n",
       "      <td>2.960000</td>\n",
       "      <td>0.430000</td>\n",
       "      <td>9.000000</td>\n",
       "      <td>-1.000000</td>\n",
       "      <td>7.000000</td>\n",
       "      <td>1.000000</td>\n",
       "    </tr>\n",
       "    <tr>\n",
       "      <th>50%</th>\n",
       "      <td>3.000000</td>\n",
       "      <td>7.000000</td>\n",
       "      <td>0.410000</td>\n",
       "      <td>0.440000</td>\n",
       "      <td>12.900000</td>\n",
       "      <td>0.098000</td>\n",
       "      <td>56.000000</td>\n",
       "      <td>154.000000</td>\n",
       "      <td>0.994490</td>\n",
       "      <td>3.200000</td>\n",
       "      <td>0.590000</td>\n",
       "      <td>10.400000</td>\n",
       "      <td>0.000000</td>\n",
       "      <td>8.000000</td>\n",
       "      <td>2.000000</td>\n",
       "    </tr>\n",
       "    <tr>\n",
       "      <th>75%</th>\n",
       "      <td>4.000000</td>\n",
       "      <td>9.800000</td>\n",
       "      <td>0.910000</td>\n",
       "      <td>0.970000</td>\n",
       "      <td>38.700000</td>\n",
       "      <td>0.368000</td>\n",
       "      <td>172.000000</td>\n",
       "      <td>262.000000</td>\n",
       "      <td>1.000515</td>\n",
       "      <td>3.470000</td>\n",
       "      <td>1.100000</td>\n",
       "      <td>12.400000</td>\n",
       "      <td>1.000000</td>\n",
       "      <td>8.000000</td>\n",
       "      <td>3.000000</td>\n",
       "    </tr>\n",
       "    <tr>\n",
       "      <th>max</th>\n",
       "      <td>8.000000</td>\n",
       "      <td>34.400000</td>\n",
       "      <td>3.680000</td>\n",
       "      <td>3.860000</td>\n",
       "      <td>141.150000</td>\n",
       "      <td>1.351000</td>\n",
       "      <td>623.000000</td>\n",
       "      <td>1057.000000</td>\n",
       "      <td>1.099240</td>\n",
       "      <td>6.130000</td>\n",
       "      <td>4.240000</td>\n",
       "      <td>26.500000</td>\n",
       "      <td>2.000000</td>\n",
       "      <td>17.000000</td>\n",
       "      <td>4.000000</td>\n",
       "    </tr>\n",
       "  </tbody>\n",
       "</table>\n",
       "</div>"
      ],
      "text/plain": [
       "             TARGET  FixedAcidity  VolatileAcidity    CitricAcid  \\\n",
       "count  12795.000000  12795.000000     12795.000000  12795.000000   \n",
       "mean       3.029074      8.063251         0.641086      0.686315   \n",
       "std        1.926368      4.996119         0.555614      0.606005   \n",
       "min        0.000000      0.000000         0.000000      0.000000   \n",
       "25%        2.000000      5.600000         0.250000      0.280000   \n",
       "50%        3.000000      7.000000         0.410000      0.440000   \n",
       "75%        4.000000      9.800000         0.910000      0.970000   \n",
       "max        8.000000     34.400000         3.680000      3.860000   \n",
       "\n",
       "       ResidualSugar     Chlorides  FreeSulfurDioxide  TotalSulfurDioxide  \\\n",
       "count   12179.000000  12157.000000       12148.000000        12113.000000   \n",
       "mean       23.367809      0.222559         106.679042          204.319120   \n",
       "std        24.945667      0.234288         108.102694          163.116881   \n",
       "min         0.000000      0.000000           0.000000            0.000000   \n",
       "25%         3.600000      0.046000          28.000000          100.000000   \n",
       "50%        12.900000      0.098000          56.000000          154.000000   \n",
       "75%        38.700000      0.368000         172.000000          262.000000   \n",
       "max       141.150000      1.351000         623.000000         1057.000000   \n",
       "\n",
       "            Density            pH     Sulphates       Alcohol   LabelAppeal  \\\n",
       "count  12795.000000  12400.000000  11585.000000  12142.000000  12795.000000   \n",
       "mean       0.994203      3.207628      0.846668     10.523778     -0.009066   \n",
       "std        0.026538      0.679687      0.655612      3.629154      0.891089   \n",
       "min        0.888090      0.480000      0.000000      0.000000     -2.000000   \n",
       "25%        0.987720      2.960000      0.430000      9.000000     -1.000000   \n",
       "50%        0.994490      3.200000      0.590000     10.400000      0.000000   \n",
       "75%        1.000515      3.470000      1.100000     12.400000      1.000000   \n",
       "max        1.099240      6.130000      4.240000     26.500000      2.000000   \n",
       "\n",
       "          AcidIndex        STARS  \n",
       "count  12795.000000  9436.000000  \n",
       "mean       7.772724     2.041755  \n",
       "std        1.323926     0.902540  \n",
       "min        4.000000     1.000000  \n",
       "25%        7.000000     1.000000  \n",
       "50%        8.000000     2.000000  \n",
       "75%        8.000000     3.000000  \n",
       "max       17.000000     4.000000  "
      ]
     },
     "execution_count": 5,
     "metadata": {},
     "output_type": "execute_result"
    }
   ],
   "source": [
    "# Check the statistical information for the dataset\n",
    "data.describe()"
   ]
  },
  {
   "cell_type": "markdown",
   "metadata": {},
   "source": [
    "+ The \"pH\" has invalid data. Typically, the pH level of wine ranges from 3 to 4. From the statistical information above, we can see that in this set of ph data, the maximum value is 6.13, and the minimum value is 0.48, which does not meet the standard red wine pH value range. In the following data cleaning step, we will delete invalid data. (https://www.winemag.com/2019/06/19/what-is-acidity-in-wine/)\n",
    "+ The \"TotalSulfurDioxide\" has invalid data. TTB regulations say any wine with a level greater than ten mg/l must say \"contains sulfites\" on the label. The maximum level allowed is 350 mg/l. From the statistical information above, we can see that in this set of TotalSulfurDioxide data, the maximum value is 1057 mg/l, which does not meet the standard wine's SulfurDioxide value range. In the following data cleaning step, we will delete invalid data. (http://www.piwine.com/media/home-wine-making-basics/using_sulfur_dioxide.pdf)\n",
    "+ Except \"LabelAppeal\" has negative values, the other variables have \"0\" or positive data. We do not need to remove the negative values of \"LabelAppeal\" because it represents subjective marketing scores, not relevant to wine quality. The value of \"-2\" means the worst, and \"2\" means the best.\n",
    "+ \"FixedAcidity\",\"VolatileAcidity\",\"CitricAcid\",\"ResidualSugar\",\"Chlorides\",\"FreeSulfurDioxide\",\"TotalSulfurDioxide\",\"Sulphates\" and \"Alcohol\" variables have \"0\" as minimum values. We regard these \"0\" values as missing values(NaN) because the following two reasons: 1: Prevent the number of observations from being greatly reduced due to the deletion of too many \"0\" values. 2: The values of chemical properties of wine successfully sold cannot be zero."
   ]
  },
  {
   "cell_type": "code",
   "execution_count": 6,
   "metadata": {},
   "outputs": [],
   "source": [
    "# Regard these \"0\" values as missing values(NaN)\n",
    "data['FixedAcidity'].replace(0,np.nan,inplace = True)\n",
    "data['VolatileAcidity'].replace(0,np.nan,inplace = True)\n",
    "data['CitricAcid'].replace(0,np.nan,inplace = True)\n",
    "data['ResidualSugar'].replace(0,np.nan,inplace = True)\n",
    "data['Chlorides'].replace(0,np.nan,inplace = True)\n",
    "data['FreeSulfurDioxide'].replace(0,np.nan,inplace = True)\n",
    "data['TotalSulfurDioxide'].replace(0,np.nan,inplace = True)\n",
    "data['Sulphates'].replace(0,np.nan,inplace = True)\n",
    "data['Alcohol'].replace(0,np.nan,inplace = True)\n",
    "\n"
   ]
  },
  {
   "cell_type": "code",
   "execution_count": 7,
   "metadata": {
    "scrolled": true
   },
   "outputs": [
    {
     "data": {
      "text/html": [
       "<div>\n",
       "<style scoped>\n",
       "    .dataframe tbody tr th:only-of-type {\n",
       "        vertical-align: middle;\n",
       "    }\n",
       "\n",
       "    .dataframe tbody tr th {\n",
       "        vertical-align: top;\n",
       "    }\n",
       "\n",
       "    .dataframe thead th {\n",
       "        text-align: right;\n",
       "    }\n",
       "</style>\n",
       "<table border=\"1\" class=\"dataframe\">\n",
       "  <thead>\n",
       "    <tr style=\"text-align: right;\">\n",
       "      <th></th>\n",
       "      <th>TARGET</th>\n",
       "      <th>FixedAcidity</th>\n",
       "      <th>VolatileAcidity</th>\n",
       "      <th>CitricAcid</th>\n",
       "      <th>ResidualSugar</th>\n",
       "      <th>Chlorides</th>\n",
       "      <th>FreeSulfurDioxide</th>\n",
       "      <th>TotalSulfurDioxide</th>\n",
       "      <th>Density</th>\n",
       "      <th>pH</th>\n",
       "      <th>Sulphates</th>\n",
       "      <th>Alcohol</th>\n",
       "      <th>LabelAppeal</th>\n",
       "      <th>AcidIndex</th>\n",
       "      <th>STARS</th>\n",
       "    </tr>\n",
       "  </thead>\n",
       "  <tbody>\n",
       "    <tr>\n",
       "      <th>count</th>\n",
       "      <td>12795.000000</td>\n",
       "      <td>12756.000000</td>\n",
       "      <td>12777.000000</td>\n",
       "      <td>12680.000000</td>\n",
       "      <td>12173.000000</td>\n",
       "      <td>12152.000000</td>\n",
       "      <td>12137.000000</td>\n",
       "      <td>12106.000000</td>\n",
       "      <td>12795.000000</td>\n",
       "      <td>12400.000000</td>\n",
       "      <td>11563.000000</td>\n",
       "      <td>12140.000000</td>\n",
       "      <td>12795.000000</td>\n",
       "      <td>12795.000000</td>\n",
       "      <td>9436.000000</td>\n",
       "    </tr>\n",
       "    <tr>\n",
       "      <th>mean</th>\n",
       "      <td>3.029074</td>\n",
       "      <td>8.087904</td>\n",
       "      <td>0.641989</td>\n",
       "      <td>0.692539</td>\n",
       "      <td>23.379327</td>\n",
       "      <td>0.222650</td>\n",
       "      <td>106.775727</td>\n",
       "      <td>204.437263</td>\n",
       "      <td>0.994203</td>\n",
       "      <td>3.207628</td>\n",
       "      <td>0.848279</td>\n",
       "      <td>10.525511</td>\n",
       "      <td>-0.009066</td>\n",
       "      <td>7.772724</td>\n",
       "      <td>2.041755</td>\n",
       "    </tr>\n",
       "    <tr>\n",
       "      <th>std</th>\n",
       "      <td>1.926368</td>\n",
       "      <td>4.983786</td>\n",
       "      <td>0.555484</td>\n",
       "      <td>0.605196</td>\n",
       "      <td>24.946418</td>\n",
       "      <td>0.234292</td>\n",
       "      <td>108.103932</td>\n",
       "      <td>163.090000</td>\n",
       "      <td>0.026538</td>\n",
       "      <td>0.679687</td>\n",
       "      <td>0.655193</td>\n",
       "      <td>3.626938</td>\n",
       "      <td>0.891089</td>\n",
       "      <td>1.323926</td>\n",
       "      <td>0.902540</td>\n",
       "    </tr>\n",
       "    <tr>\n",
       "      <th>min</th>\n",
       "      <td>0.000000</td>\n",
       "      <td>0.100000</td>\n",
       "      <td>0.005000</td>\n",
       "      <td>0.010000</td>\n",
       "      <td>0.100000</td>\n",
       "      <td>0.001000</td>\n",
       "      <td>1.000000</td>\n",
       "      <td>1.000000</td>\n",
       "      <td>0.888090</td>\n",
       "      <td>0.480000</td>\n",
       "      <td>0.010000</td>\n",
       "      <td>0.100000</td>\n",
       "      <td>-2.000000</td>\n",
       "      <td>4.000000</td>\n",
       "      <td>1.000000</td>\n",
       "    </tr>\n",
       "    <tr>\n",
       "      <th>25%</th>\n",
       "      <td>2.000000</td>\n",
       "      <td>5.600000</td>\n",
       "      <td>0.250000</td>\n",
       "      <td>0.290000</td>\n",
       "      <td>3.600000</td>\n",
       "      <td>0.046000</td>\n",
       "      <td>28.000000</td>\n",
       "      <td>100.000000</td>\n",
       "      <td>0.987720</td>\n",
       "      <td>2.960000</td>\n",
       "      <td>0.430000</td>\n",
       "      <td>9.000000</td>\n",
       "      <td>-1.000000</td>\n",
       "      <td>7.000000</td>\n",
       "      <td>1.000000</td>\n",
       "    </tr>\n",
       "    <tr>\n",
       "      <th>50%</th>\n",
       "      <td>3.000000</td>\n",
       "      <td>7.000000</td>\n",
       "      <td>0.410000</td>\n",
       "      <td>0.440000</td>\n",
       "      <td>12.900000</td>\n",
       "      <td>0.099000</td>\n",
       "      <td>56.000000</td>\n",
       "      <td>154.000000</td>\n",
       "      <td>0.994490</td>\n",
       "      <td>3.200000</td>\n",
       "      <td>0.590000</td>\n",
       "      <td>10.400000</td>\n",
       "      <td>0.000000</td>\n",
       "      <td>8.000000</td>\n",
       "      <td>2.000000</td>\n",
       "    </tr>\n",
       "    <tr>\n",
       "      <th>75%</th>\n",
       "      <td>4.000000</td>\n",
       "      <td>9.900000</td>\n",
       "      <td>0.910000</td>\n",
       "      <td>0.980000</td>\n",
       "      <td>38.700000</td>\n",
       "      <td>0.368000</td>\n",
       "      <td>172.000000</td>\n",
       "      <td>262.750000</td>\n",
       "      <td>1.000515</td>\n",
       "      <td>3.470000</td>\n",
       "      <td>1.100000</td>\n",
       "      <td>12.400000</td>\n",
       "      <td>1.000000</td>\n",
       "      <td>8.000000</td>\n",
       "      <td>3.000000</td>\n",
       "    </tr>\n",
       "    <tr>\n",
       "      <th>max</th>\n",
       "      <td>8.000000</td>\n",
       "      <td>34.400000</td>\n",
       "      <td>3.680000</td>\n",
       "      <td>3.860000</td>\n",
       "      <td>141.150000</td>\n",
       "      <td>1.351000</td>\n",
       "      <td>623.000000</td>\n",
       "      <td>1057.000000</td>\n",
       "      <td>1.099240</td>\n",
       "      <td>6.130000</td>\n",
       "      <td>4.240000</td>\n",
       "      <td>26.500000</td>\n",
       "      <td>2.000000</td>\n",
       "      <td>17.000000</td>\n",
       "      <td>4.000000</td>\n",
       "    </tr>\n",
       "  </tbody>\n",
       "</table>\n",
       "</div>"
      ],
      "text/plain": [
       "             TARGET  FixedAcidity  VolatileAcidity    CitricAcid  \\\n",
       "count  12795.000000  12756.000000     12777.000000  12680.000000   \n",
       "mean       3.029074      8.087904         0.641989      0.692539   \n",
       "std        1.926368      4.983786         0.555484      0.605196   \n",
       "min        0.000000      0.100000         0.005000      0.010000   \n",
       "25%        2.000000      5.600000         0.250000      0.290000   \n",
       "50%        3.000000      7.000000         0.410000      0.440000   \n",
       "75%        4.000000      9.900000         0.910000      0.980000   \n",
       "max        8.000000     34.400000         3.680000      3.860000   \n",
       "\n",
       "       ResidualSugar     Chlorides  FreeSulfurDioxide  TotalSulfurDioxide  \\\n",
       "count   12173.000000  12152.000000       12137.000000        12106.000000   \n",
       "mean       23.379327      0.222650         106.775727          204.437263   \n",
       "std        24.946418      0.234292         108.103932          163.090000   \n",
       "min         0.100000      0.001000           1.000000            1.000000   \n",
       "25%         3.600000      0.046000          28.000000          100.000000   \n",
       "50%        12.900000      0.099000          56.000000          154.000000   \n",
       "75%        38.700000      0.368000         172.000000          262.750000   \n",
       "max       141.150000      1.351000         623.000000         1057.000000   \n",
       "\n",
       "            Density            pH     Sulphates       Alcohol   LabelAppeal  \\\n",
       "count  12795.000000  12400.000000  11563.000000  12140.000000  12795.000000   \n",
       "mean       0.994203      3.207628      0.848279     10.525511     -0.009066   \n",
       "std        0.026538      0.679687      0.655193      3.626938      0.891089   \n",
       "min        0.888090      0.480000      0.010000      0.100000     -2.000000   \n",
       "25%        0.987720      2.960000      0.430000      9.000000     -1.000000   \n",
       "50%        0.994490      3.200000      0.590000     10.400000      0.000000   \n",
       "75%        1.000515      3.470000      1.100000     12.400000      1.000000   \n",
       "max        1.099240      6.130000      4.240000     26.500000      2.000000   \n",
       "\n",
       "          AcidIndex        STARS  \n",
       "count  12795.000000  9436.000000  \n",
       "mean       7.772724     2.041755  \n",
       "std        1.323926     0.902540  \n",
       "min        4.000000     1.000000  \n",
       "25%        7.000000     1.000000  \n",
       "50%        8.000000     2.000000  \n",
       "75%        8.000000     3.000000  \n",
       "max       17.000000     4.000000  "
      ]
     },
     "execution_count": 7,
     "metadata": {},
     "output_type": "execute_result"
    }
   ],
   "source": [
    "# Description of dataset\n",
    "data.describe()"
   ]
  },
  {
   "cell_type": "code",
   "execution_count": 8,
   "metadata": {},
   "outputs": [
    {
     "data": {
      "text/plain": [
       "STARS                 26.252442\n",
       "Sulphates              9.628761\n",
       "TotalSulfurDioxide     5.384916\n",
       "FreeSulfurDioxide      5.142634\n",
       "Alcohol                5.119187\n",
       "Chlorides              5.025401\n",
       "ResidualSugar          4.861274\n",
       "pH                     3.087143\n",
       "CitricAcid             0.898789\n",
       "FixedAcidity           0.304807\n",
       "VolatileAcidity        0.140680\n",
       "AcidIndex              0.000000\n",
       "LabelAppeal            0.000000\n",
       "Density                0.000000\n",
       "TARGET                 0.000000\n",
       "dtype: float64"
      ]
     },
     "execution_count": 8,
     "metadata": {},
     "output_type": "execute_result"
    }
   ],
   "source": [
    "# Check the missing value for each column\n",
    "data.isnull().sum().sort_values(ascending=False)/(len(data))*100"
   ]
  },
  {
   "cell_type": "markdown",
   "metadata": {},
   "source": [
    "+ ResidualSugar, Chlorides,FreeSulfurDioxide,TotalSulfurDioxide,pH,Sulphates,Alcohol have missing values.\n",
    "+ The \"Stars\" (categorical data) column has the highest missing values with about 26%, whereas pH has \n",
    "  only 3% missing values."
   ]
  },
  {
   "cell_type": "code",
   "execution_count": 9,
   "metadata": {},
   "outputs": [
    {
     "name": "stdout",
     "output_type": "stream",
     "text": [
      "<class 'pandas.core.frame.DataFrame'>\n",
      "RangeIndex: 12795 entries, 0 to 12794\n",
      "Data columns (total 15 columns):\n",
      " #   Column              Non-Null Count  Dtype  \n",
      "---  ------              --------------  -----  \n",
      " 0   TARGET              12795 non-null  int64  \n",
      " 1   FixedAcidity        12756 non-null  float64\n",
      " 2   VolatileAcidity     12777 non-null  float64\n",
      " 3   CitricAcid          12680 non-null  float64\n",
      " 4   ResidualSugar       12173 non-null  float64\n",
      " 5   Chlorides           12152 non-null  float64\n",
      " 6   FreeSulfurDioxide   12137 non-null  float64\n",
      " 7   TotalSulfurDioxide  12106 non-null  float64\n",
      " 8   Density             12795 non-null  float64\n",
      " 9   pH                  12400 non-null  float64\n",
      " 10  Sulphates           11563 non-null  float64\n",
      " 11  Alcohol             12140 non-null  float64\n",
      " 12  LabelAppeal         12795 non-null  int64  \n",
      " 13  AcidIndex           12795 non-null  int64  \n",
      " 14  STARS               9436 non-null   float64\n",
      "dtypes: float64(12), int64(3)\n",
      "memory usage: 1.5 MB\n"
     ]
    }
   ],
   "source": [
    "# Pre-review the data type\n",
    "data.info()"
   ]
  },
  {
   "cell_type": "code",
   "execution_count": 10,
   "metadata": {},
   "outputs": [
    {
     "data": {
      "text/plain": [
       "TARGET                   9\n",
       "FixedAcidity           312\n",
       "VolatileAcidity        509\n",
       "CitricAcid             346\n",
       "ResidualSugar         1341\n",
       "Chlorides              995\n",
       "FreeSulfurDioxide      616\n",
       "TotalSulfurDioxide     857\n",
       "Density               5933\n",
       "pH                     497\n",
       "Sulphates              381\n",
       "Alcohol                360\n",
       "LabelAppeal              5\n",
       "AcidIndex               14\n",
       "STARS                    4\n",
       "dtype: int64"
      ]
     },
     "execution_count": 10,
     "metadata": {},
     "output_type": "execute_result"
    }
   ],
   "source": [
    "# Pre-review the data\n",
    "data.nunique()"
   ]
  },
  {
   "cell_type": "markdown",
   "metadata": {},
   "source": [
    " "
   ]
  },
  {
   "cell_type": "markdown",
   "metadata": {},
   "source": [
    "For four categorical data, their data types are int and float64. We can consider these values as quantitative data and use hisplot instead of barplot."
   ]
  },
  {
   "cell_type": "code",
   "execution_count": 11,
   "metadata": {},
   "outputs": [
    {
     "data": {
      "image/png": "[encoded data removed]",
      "text/plain": [
       "<Figure size 1008x288 with 2 Axes>"
      ]
     },
     "metadata": {
      "needs_background": "light"
     },
     "output_type": "display_data"
    },
    {
     "data": {
      "image/png": "[encoded data removed]",
      "text/plain": [
       "<Figure size 1008x288 with 2 Axes>"
      ]
     },
     "metadata": {
      "needs_background": "light"
     },
     "output_type": "display_data"
    },
    {
     "data": {
      "image/png": "[encoded data removed]",
      "text/plain": [
       "<Figure size 1008x288 with 2 Axes>"
      ]
     },
     "metadata": {
      "needs_background": "light"
     },
     "output_type": "display_data"
    },
    {
     "data": {
      "image/png": "[encoded data removed]",
      "text/plain": [
       "<Figure size 1008x288 with 2 Axes>"
      ]
     },
     "metadata": {
      "needs_background": "light"
     },
     "output_type": "display_data"
    },
    {
     "data": {
      "image/png": "[encoded data removed]",
      "text/plain": [
       "<Figure size 1008x288 with 2 Axes>"
      ]
     },
     "metadata": {
      "needs_background": "light"
     },
     "output_type": "display_data"
    },
    {
     "data": {
      "image/png": "[encoded data removed]",
      "text/plain": [
       "<Figure size 1008x288 with 2 Axes>"
      ]
     },
     "metadata": {
      "needs_background": "light"
     },
     "output_type": "display_data"
    },
    {
     "data": {
      "image/png": "[encoded data removed]",
      "text/plain": [
       "<Figure size 1008x288 with 2 Axes>"
      ]
     },
     "metadata": {
      "needs_background": "light"
     },
     "output_type": "display_data"
    },
    {
     "data": {
      "image/png": "[encoded data removed]",
      "text/plain": [
       "<Figure size 1008x288 with 2 Axes>"
      ]
     },
     "metadata": {
      "needs_background": "light"
     },
     "output_type": "display_data"
    },
    {
     "data": {
      "image/png": "[encoded data removed]",
      "text/plain": [
       "<Figure size 1008x288 with 2 Axes>"
      ]
     },
     "metadata": {
      "needs_background": "light"
     },
     "output_type": "display_data"
    },
    {
     "data": {
      "image/png": "[encoded data removed]",
      "text/plain": [
       "<Figure size 1008x288 with 2 Axes>"
      ]
     },
     "metadata": {
      "needs_background": "light"
     },
     "output_type": "display_data"
    },
    {
     "data": {
      "image/png": "[encoded data removed]",
      "text/plain": [
       "<Figure size 1008x288 with 2 Axes>"
      ]
     },
     "metadata": {
      "needs_background": "light"
     },
     "output_type": "display_data"
    },
    {
     "data": {
      "image/png": "[encoded data removed]",
      "text/plain": [
       "<Figure size 1008x288 with 2 Axes>"
      ]
     },
     "metadata": {
      "needs_background": "light"
     },
     "output_type": "display_data"
    },
    {
     "data": {
      "image/png": "[encoded data removed]",
      "text/plain": [
       "<Figure size 1008x288 with 2 Axes>"
      ]
     },
     "metadata": {
      "needs_background": "light"
     },
     "output_type": "display_data"
    },
    {
     "data": {
      "image/png": "[encoded data removed]",
      "text/plain": [
       "<Figure size 1008x288 with 2 Axes>"
      ]
     },
     "metadata": {
      "needs_background": "light"
     },
     "output_type": "display_data"
    },
    {
     "data": {
      "image/png": "[encoded data removed]",
      "text/plain": [
       "<Figure size 1008x288 with 2 Axes>"
      ]
     },
     "metadata": {
      "needs_background": "light"
     },
     "output_type": "display_data"
    }
   ],
   "source": [
    "# Use the charts to analyze the distribution for each variable\n",
    "for col in data.columns:\n",
    "    fig, axes = plt.subplots(1, 2,figsize=(14,4))\n",
    "    sns.histplot(data=data, ax=axes[1], x = col, bins=10)\n",
    "    sns.boxplot(ax=axes[0], y = col, data = data,orient='v')"
   ]
  },
  {
   "cell_type": "markdown",
   "metadata": {},
   "source": [
    "+ Based on the histograms, although Density, pH and LabrlAppeal follow the nearly normal distribution, the rest variables, showing right-skewed distribution, do not show symmetric and unimodal distribution.\n",
    "+ Box plots suggest many variables (chemical properties of wine) have outliers that could influence the usability of the dataset. Therefore, in further study, we will use Box-Cox to transform the data distribution. "
   ]
  },
  {
   "cell_type": "code",
   "execution_count": 12,
   "metadata": {
    "scrolled": true
   },
   "outputs": [
    {
     "data": {
      "image/png": "[encoded data removed]",
      "text/plain": [
       "<Figure size 864x720 with 2 Axes>"
      ]
     },
     "metadata": {
      "needs_background": "light"
     },
     "output_type": "display_data"
    }
   ],
   "source": [
    "# Use the heatmap to visualize the correlation between each feature\n",
    "\n",
    "# Finding the correlation bewteen the Features.\n",
    "plt.figure(figsize=(12,10))\n",
    "\n",
    "corr = data.corr()\n",
    "# Plot the heatmap\n",
    "sns.heatmap(corr, cmap=\"RdBu\",xticklabels=corr.columns.values, yticklabels=corr.columns.values, annot=True)\n",
    "\n",
    "# Show the heatmap\n",
    "plt.show()\n"
   ]
  },
  {
   "cell_type": "markdown",
   "metadata": {},
   "source": [
    "+ The heatmap shows that the response variable(Target) has no substantial relationship with other variables.\n",
    "+ \"TARGET\" and \"LabelAppeal\" have a weak positive relation, that is 0.36. The relationship suggests a   \"LabelAppeal\" rating increase, and wine sales will be up.\n",
    "+ \"TARGET\" and \"STARS\" have a medium positive relation, that is 0.56. The relationship suggests a      \"LabelAppeal\" rating increase, and wine sales will be up.\n",
    "+ \"LabelAppeal\" and \"STARS\" have a weak positive relation(0.33) because they are subjective marketing values.\n",
    "+ \"TARGET\" and \"AcidIndex\" have a weak negative relation, that is -0.25. The relationship suggests an \"Acidindex\" rating increase, and wine sales will be down."
   ]
  },
  {
   "cell_type": "markdown",
   "metadata": {},
   "source": [
    "# Data Cleaning"
   ]
  },
  {
   "cell_type": "markdown",
   "metadata": {},
   "source": [
    "### Step 1: Missing Values"
   ]
  },
  {
   "cell_type": "markdown",
   "metadata": {},
   "source": [
    "According to the EDA results above, we can locate the missing values. A total of 8 variables have missing values.\n",
    "\n",
    "1.Numerical Data: ResidualSugar, Chlorides, FreeSulfurDioxide, TotalSulfurDioxide, pH, Sulphates,Alcohol\n",
    "For the missing data of numerical data, we use the KNN imputer method of filling.\n",
    "\n",
    "2.Categorical Data: STARS\n",
    "\n",
    "Regarding \"stars\" variable, It is an indicator for red wine experts to score the quality of red wine,with a certain degree of subjectivity.We decided to try two ways to fill the data based on below two scenarios：\n",
    "+ \"0\" replace NaN: Suppose the experts have no time to taste this type of wine or have not evaluated it in time, or the experts do not even want to give 1 point to this type of wine because of the bad experience. In that case, we consider replacing these vacant values with 0. \n",
    "+ KNNImputer: Experts indeed scored all wines, but the information was missing due to machine malfunctions or other human factors. We will use the KNN method to fill in missing data.\n"
   ]
  },
  {
   "cell_type": "code",
   "execution_count": 13,
   "metadata": {
    "scrolled": true
   },
   "outputs": [],
   "source": [
    "# Copy the dataframe for the further steps\n",
    "data = data.copy()\n",
    "# Data.head(5)"
   ]
  },
  {
   "cell_type": "markdown",
   "metadata": {},
   "source": [
    "##### 1. KNN Imputer and using \"0\" to replace \"stars\" missing data\n"
   ]
  },
  {
   "cell_type": "code",
   "execution_count": 14,
   "metadata": {},
   "outputs": [],
   "source": [
    "# Load the packages for the models\n",
    "from sklearn.impute import KNNImputer"
   ]
  },
  {
   "cell_type": "code",
   "execution_count": 15,
   "metadata": {},
   "outputs": [
    {
     "data": {
      "text/html": [
       "<div>\n",
       "<style scoped>\n",
       "    .dataframe tbody tr th:only-of-type {\n",
       "        vertical-align: middle;\n",
       "    }\n",
       "\n",
       "    .dataframe tbody tr th {\n",
       "        vertical-align: top;\n",
       "    }\n",
       "\n",
       "    .dataframe thead th {\n",
       "        text-align: right;\n",
       "    }\n",
       "</style>\n",
       "<table border=\"1\" class=\"dataframe\">\n",
       "  <thead>\n",
       "    <tr style=\"text-align: right;\">\n",
       "      <th></th>\n",
       "      <th>TARGET</th>\n",
       "      <th>FixedAcidity</th>\n",
       "      <th>VolatileAcidity</th>\n",
       "      <th>CitricAcid</th>\n",
       "      <th>ResidualSugar</th>\n",
       "      <th>Chlorides</th>\n",
       "      <th>FreeSulfurDioxide</th>\n",
       "      <th>TotalSulfurDioxide</th>\n",
       "      <th>Density</th>\n",
       "      <th>pH</th>\n",
       "      <th>Sulphates</th>\n",
       "      <th>Alcohol</th>\n",
       "      <th>LabelAppeal</th>\n",
       "      <th>AcidIndex</th>\n",
       "    </tr>\n",
       "  </thead>\n",
       "  <tbody>\n",
       "    <tr>\n",
       "      <th>0</th>\n",
       "      <td>3</td>\n",
       "      <td>3.2</td>\n",
       "      <td>1.160</td>\n",
       "      <td>0.98</td>\n",
       "      <td>54.2</td>\n",
       "      <td>0.567</td>\n",
       "      <td>NaN</td>\n",
       "      <td>268.0</td>\n",
       "      <td>0.99280</td>\n",
       "      <td>3.33</td>\n",
       "      <td>0.59</td>\n",
       "      <td>9.9</td>\n",
       "      <td>0</td>\n",
       "      <td>8</td>\n",
       "    </tr>\n",
       "    <tr>\n",
       "      <th>1</th>\n",
       "      <td>3</td>\n",
       "      <td>4.5</td>\n",
       "      <td>0.160</td>\n",
       "      <td>0.81</td>\n",
       "      <td>26.1</td>\n",
       "      <td>0.425</td>\n",
       "      <td>15.0</td>\n",
       "      <td>327.0</td>\n",
       "      <td>1.02792</td>\n",
       "      <td>3.38</td>\n",
       "      <td>0.70</td>\n",
       "      <td>NaN</td>\n",
       "      <td>-1</td>\n",
       "      <td>7</td>\n",
       "    </tr>\n",
       "    <tr>\n",
       "      <th>2</th>\n",
       "      <td>5</td>\n",
       "      <td>7.1</td>\n",
       "      <td>2.640</td>\n",
       "      <td>0.88</td>\n",
       "      <td>14.8</td>\n",
       "      <td>0.037</td>\n",
       "      <td>214.0</td>\n",
       "      <td>142.0</td>\n",
       "      <td>0.99518</td>\n",
       "      <td>3.12</td>\n",
       "      <td>0.48</td>\n",
       "      <td>22.0</td>\n",
       "      <td>-1</td>\n",
       "      <td>8</td>\n",
       "    </tr>\n",
       "    <tr>\n",
       "      <th>3</th>\n",
       "      <td>3</td>\n",
       "      <td>5.7</td>\n",
       "      <td>0.385</td>\n",
       "      <td>0.04</td>\n",
       "      <td>18.8</td>\n",
       "      <td>0.425</td>\n",
       "      <td>22.0</td>\n",
       "      <td>115.0</td>\n",
       "      <td>0.99640</td>\n",
       "      <td>2.24</td>\n",
       "      <td>1.83</td>\n",
       "      <td>6.2</td>\n",
       "      <td>-1</td>\n",
       "      <td>6</td>\n",
       "    </tr>\n",
       "    <tr>\n",
       "      <th>4</th>\n",
       "      <td>4</td>\n",
       "      <td>8.0</td>\n",
       "      <td>0.330</td>\n",
       "      <td>1.26</td>\n",
       "      <td>9.4</td>\n",
       "      <td>NaN</td>\n",
       "      <td>167.0</td>\n",
       "      <td>108.0</td>\n",
       "      <td>0.99457</td>\n",
       "      <td>3.12</td>\n",
       "      <td>1.77</td>\n",
       "      <td>13.7</td>\n",
       "      <td>0</td>\n",
       "      <td>9</td>\n",
       "    </tr>\n",
       "    <tr>\n",
       "      <th>...</th>\n",
       "      <td>...</td>\n",
       "      <td>...</td>\n",
       "      <td>...</td>\n",
       "      <td>...</td>\n",
       "      <td>...</td>\n",
       "      <td>...</td>\n",
       "      <td>...</td>\n",
       "      <td>...</td>\n",
       "      <td>...</td>\n",
       "      <td>...</td>\n",
       "      <td>...</td>\n",
       "      <td>...</td>\n",
       "      <td>...</td>\n",
       "      <td>...</td>\n",
       "    </tr>\n",
       "    <tr>\n",
       "      <th>12790</th>\n",
       "      <td>0</td>\n",
       "      <td>5.0</td>\n",
       "      <td>0.790</td>\n",
       "      <td>2.01</td>\n",
       "      <td>5.0</td>\n",
       "      <td>0.043</td>\n",
       "      <td>17.0</td>\n",
       "      <td>101.0</td>\n",
       "      <td>1.01077</td>\n",
       "      <td>3.39</td>\n",
       "      <td>0.57</td>\n",
       "      <td>4.9</td>\n",
       "      <td>1</td>\n",
       "      <td>5</td>\n",
       "    </tr>\n",
       "    <tr>\n",
       "      <th>12791</th>\n",
       "      <td>5</td>\n",
       "      <td>8.9</td>\n",
       "      <td>0.470</td>\n",
       "      <td>0.29</td>\n",
       "      <td>84.9</td>\n",
       "      <td>0.259</td>\n",
       "      <td>54.0</td>\n",
       "      <td>NaN</td>\n",
       "      <td>0.99518</td>\n",
       "      <td>4.46</td>\n",
       "      <td>1.20</td>\n",
       "      <td>NaN</td>\n",
       "      <td>-1</td>\n",
       "      <td>8</td>\n",
       "    </tr>\n",
       "    <tr>\n",
       "      <th>12792</th>\n",
       "      <td>4</td>\n",
       "      <td>6.0</td>\n",
       "      <td>0.170</td>\n",
       "      <td>1.10</td>\n",
       "      <td>37.0</td>\n",
       "      <td>0.078</td>\n",
       "      <td>25.0</td>\n",
       "      <td>108.0</td>\n",
       "      <td>0.99076</td>\n",
       "      <td>3.25</td>\n",
       "      <td>NaN</td>\n",
       "      <td>12.3</td>\n",
       "      <td>0</td>\n",
       "      <td>6</td>\n",
       "    </tr>\n",
       "    <tr>\n",
       "      <th>12793</th>\n",
       "      <td>3</td>\n",
       "      <td>7.7</td>\n",
       "      <td>0.320</td>\n",
       "      <td>0.12</td>\n",
       "      <td>NaN</td>\n",
       "      <td>0.029</td>\n",
       "      <td>26.0</td>\n",
       "      <td>274.0</td>\n",
       "      <td>0.99060</td>\n",
       "      <td>3.97</td>\n",
       "      <td>0.62</td>\n",
       "      <td>11.0</td>\n",
       "      <td>-1</td>\n",
       "      <td>6</td>\n",
       "    </tr>\n",
       "    <tr>\n",
       "      <th>12794</th>\n",
       "      <td>4</td>\n",
       "      <td>5.2</td>\n",
       "      <td>0.040</td>\n",
       "      <td>0.81</td>\n",
       "      <td>52.7</td>\n",
       "      <td>NaN</td>\n",
       "      <td>106.0</td>\n",
       "      <td>242.0</td>\n",
       "      <td>0.99454</td>\n",
       "      <td>3.94</td>\n",
       "      <td>0.12</td>\n",
       "      <td>9.9</td>\n",
       "      <td>0</td>\n",
       "      <td>7</td>\n",
       "    </tr>\n",
       "  </tbody>\n",
       "</table>\n",
       "<p>12795 rows × 14 columns</p>\n",
       "</div>"
      ],
      "text/plain": [
       "       TARGET  FixedAcidity  VolatileAcidity  CitricAcid  ResidualSugar  \\\n",
       "0           3           3.2            1.160        0.98           54.2   \n",
       "1           3           4.5            0.160        0.81           26.1   \n",
       "2           5           7.1            2.640        0.88           14.8   \n",
       "3           3           5.7            0.385        0.04           18.8   \n",
       "4           4           8.0            0.330        1.26            9.4   \n",
       "...       ...           ...              ...         ...            ...   \n",
       "12790       0           5.0            0.790        2.01            5.0   \n",
       "12791       5           8.9            0.470        0.29           84.9   \n",
       "12792       4           6.0            0.170        1.10           37.0   \n",
       "12793       3           7.7            0.320        0.12            NaN   \n",
       "12794       4           5.2            0.040        0.81           52.7   \n",
       "\n",
       "       Chlorides  FreeSulfurDioxide  TotalSulfurDioxide  Density    pH  \\\n",
       "0          0.567                NaN               268.0  0.99280  3.33   \n",
       "1          0.425               15.0               327.0  1.02792  3.38   \n",
       "2          0.037              214.0               142.0  0.99518  3.12   \n",
       "3          0.425               22.0               115.0  0.99640  2.24   \n",
       "4            NaN              167.0               108.0  0.99457  3.12   \n",
       "...          ...                ...                 ...      ...   ...   \n",
       "12790      0.043               17.0               101.0  1.01077  3.39   \n",
       "12791      0.259               54.0                 NaN  0.99518  4.46   \n",
       "12792      0.078               25.0               108.0  0.99076  3.25   \n",
       "12793      0.029               26.0               274.0  0.99060  3.97   \n",
       "12794        NaN              106.0               242.0  0.99454  3.94   \n",
       "\n",
       "       Sulphates  Alcohol  LabelAppeal  AcidIndex  \n",
       "0           0.59      9.9            0          8  \n",
       "1           0.70      NaN           -1          7  \n",
       "2           0.48     22.0           -1          8  \n",
       "3           1.83      6.2           -1          6  \n",
       "4           1.77     13.7            0          9  \n",
       "...          ...      ...          ...        ...  \n",
       "12790       0.57      4.9            1          5  \n",
       "12791       1.20      NaN           -1          8  \n",
       "12792        NaN     12.3            0          6  \n",
       "12793       0.62     11.0           -1          6  \n",
       "12794       0.12      9.9            0          7  \n",
       "\n",
       "[12795 rows x 14 columns]"
      ]
     },
     "execution_count": 15,
     "metadata": {},
     "output_type": "execute_result"
    }
   ],
   "source": [
    "# Choose the columns for the model\n",
    "data_1=data[['TARGET', 'FixedAcidity', 'VolatileAcidity', 'CitricAcid',\n",
    "       'ResidualSugar', 'Chlorides', 'FreeSulfurDioxide', 'TotalSulfurDioxide',\n",
    "       'Density', 'pH', 'Sulphates', 'Alcohol', 'LabelAppeal', 'AcidIndex']]\n",
    "data_1"
   ]
  },
  {
   "cell_type": "markdown",
   "metadata": {},
   "source": [
    "To choose the best K value in KNN, we use Scikit-Learn to divide the data set into training and test subsets, train the model and verify it. We chose the RandomForestRegressor\"  for training and used RMSE  to verify. Also, which K has the lowest RMSE value, will be selected as our n_neighbors. "
   ]
  },
  {
   "cell_type": "code",
   "execution_count": 16,
   "metadata": {},
   "outputs": [],
   "source": [
    "''' # upload package sklearn\n",
    "from sklearn.model_selection import train_test_split\n",
    "from sklearn.ensemble import RandomForestRegressor\n",
    "from sklearn.metrics import mean_squared_error\n",
    "# Assign np.sqrt to variable rmse.\n",
    "rmse = lambda y, yhat: np.sqrt(mean_squared_error(y, yhat))'''"
   ]
  },
  {
   "cell_type": "code",
   "execution_count": 17,
   "metadata": {},
   "outputs": [],
   "source": [
    "''' # define optimize_k function.\n",
    "def optimize_k(data, target):\n",
    "    errors = []\n",
    "    for k in range(1, 20, 2):\n",
    "        imputer = KNNImputer(n_neighbors=k)\n",
    "        imputed = imputer.fit_transform(data)\n",
    "        df_imputed = pd.DataFrame(imputed, columns=data_1.columns)\n",
    "        \n",
    "        X = df_imputed.drop(target, axis=1)\n",
    "        y = df_imputed[target]\n",
    "        X_train, X_test, y_train, y_test = train_test_split(X, y, test_size=0.2, random_state=10)\n",
    "\n",
    "        model = RandomForestRegressor()\n",
    "        model.fit(X_train, y_train)\n",
    "        preds = model.predict(X_test)\n",
    "        error = rmse(y_test, preds)\n",
    "        errors.append({'K': k, 'RMSE': error})\n",
    "        \n",
    "    return errors '''"
   ]
  },
  {
   "cell_type": "code",
   "execution_count": 18,
   "metadata": {},
   "outputs": [],
   "source": [
    "# Insert data_1 and assign response variable \"TARGET\" to target.\n",
    "\n",
    "# k_errors = optimize_k(data=data_1, target='TARGET')"
   ]
  },
  {
   "cell_type": "code",
   "execution_count": 19,
   "metadata": {},
   "outputs": [
    {
     "data": {
      "text/plain": [
       "[{'K': 1, 'RMSE': 1.7133962101277191},\n",
       " {'K': 3, 'RMSE': 1.7081298490121768},\n",
       " {'K': 5, 'RMSE': 1.704889229274251},\n",
       " {'K': 7, 'RMSE': 1.7053439785537483},\n",
       " {'K': 9, 'RMSE': 1.7099283559304483},\n",
       " {'K': 11, 'RMSE': 1.7064235581783949},\n",
       " {'K': 13, 'RMSE': 1.7000374682674175},\n",
       " {'K': 15, 'RMSE': 1.7054838452889602},\n",
       " {'K': 17, 'RMSE': 1.7026815046771593},\n",
       " {'K': 19, 'RMSE': 1.7089731119311486}]"
      ]
     },
     "execution_count": 19,
     "metadata": {},
     "output_type": "execute_result"
    }
   ],
   "source": [
    "# The output of k_errors\n",
    "# k_errors "
   ]
  },
  {
   "cell_type": "markdown",
   "metadata": {},
   "source": [
    "According to the result, when K is 13, the RMSE has the lowest value. Therefore, we chose K = 13 in further study. "
   ]
  },
  {
   "cell_type": "code",
   "execution_count": 53,
   "metadata": {},
   "outputs": [],
   "source": [
    "# Use knn function to deal with the missing values\n",
    "imputer = KNNImputer(n_neighbors=13)\n",
    "data_1 = pd.DataFrame(imputer.fit_transform(data_1),columns = data_1.columns)"
   ]
  },
  {
   "cell_type": "code",
   "execution_count": 54,
   "metadata": {
    "scrolled": true
   },
   "outputs": [
    {
     "data": {
      "text/plain": [
       "TARGET                0\n",
       "FixedAcidity          0\n",
       "VolatileAcidity       0\n",
       "CitricAcid            0\n",
       "ResidualSugar         0\n",
       "Chlorides             0\n",
       "FreeSulfurDioxide     0\n",
       "TotalSulfurDioxide    0\n",
       "Density               0\n",
       "pH                    0\n",
       "Sulphates             0\n",
       "Alcohol               0\n",
       "LabelAppeal           0\n",
       "AcidIndex             0\n",
       "STARS                 0\n",
       "dtype: int64"
      ]
     },
     "execution_count": 54,
     "metadata": {},
     "output_type": "execute_result"
    }
   ],
   "source": [
    "# Check if null values still exist\n",
    "data_1.isna().sum()"
   ]
  },
  {
   "cell_type": "code",
   "execution_count": 55,
   "metadata": {},
   "outputs": [
    {
     "data": {
      "text/html": [
       "<div>\n",
       "<style scoped>\n",
       "    .dataframe tbody tr th:only-of-type {\n",
       "        vertical-align: middle;\n",
       "    }\n",
       "\n",
       "    .dataframe tbody tr th {\n",
       "        vertical-align: top;\n",
       "    }\n",
       "\n",
       "    .dataframe thead th {\n",
       "        text-align: right;\n",
       "    }\n",
       "</style>\n",
       "<table border=\"1\" class=\"dataframe\">\n",
       "  <thead>\n",
       "    <tr style=\"text-align: right;\">\n",
       "      <th></th>\n",
       "      <th>TARGET</th>\n",
       "      <th>FixedAcidity</th>\n",
       "      <th>VolatileAcidity</th>\n",
       "      <th>CitricAcid</th>\n",
       "      <th>ResidualSugar</th>\n",
       "      <th>Chlorides</th>\n",
       "      <th>FreeSulfurDioxide</th>\n",
       "      <th>TotalSulfurDioxide</th>\n",
       "      <th>Density</th>\n",
       "      <th>pH</th>\n",
       "      <th>Sulphates</th>\n",
       "      <th>Alcohol</th>\n",
       "      <th>LabelAppeal</th>\n",
       "      <th>AcidIndex</th>\n",
       "      <th>STARS</th>\n",
       "    </tr>\n",
       "  </thead>\n",
       "  <tbody>\n",
       "    <tr>\n",
       "      <th>12790</th>\n",
       "      <td>0.0</td>\n",
       "      <td>5.0</td>\n",
       "      <td>0.79</td>\n",
       "      <td>2.01</td>\n",
       "      <td>5.000000</td>\n",
       "      <td>0.043000</td>\n",
       "      <td>17.0</td>\n",
       "      <td>101.000000</td>\n",
       "      <td>1.01077</td>\n",
       "      <td>3.39</td>\n",
       "      <td>0.570000</td>\n",
       "      <td>4.900000</td>\n",
       "      <td>1.0</td>\n",
       "      <td>5.0</td>\n",
       "      <td>0.0</td>\n",
       "    </tr>\n",
       "    <tr>\n",
       "      <th>12791</th>\n",
       "      <td>5.0</td>\n",
       "      <td>8.9</td>\n",
       "      <td>0.47</td>\n",
       "      <td>0.29</td>\n",
       "      <td>84.900000</td>\n",
       "      <td>0.259000</td>\n",
       "      <td>54.0</td>\n",
       "      <td>215.078947</td>\n",
       "      <td>0.99518</td>\n",
       "      <td>4.46</td>\n",
       "      <td>1.200000</td>\n",
       "      <td>9.160526</td>\n",
       "      <td>-1.0</td>\n",
       "      <td>8.0</td>\n",
       "      <td>2.0</td>\n",
       "    </tr>\n",
       "    <tr>\n",
       "      <th>12792</th>\n",
       "      <td>4.0</td>\n",
       "      <td>6.0</td>\n",
       "      <td>0.17</td>\n",
       "      <td>1.10</td>\n",
       "      <td>37.000000</td>\n",
       "      <td>0.078000</td>\n",
       "      <td>25.0</td>\n",
       "      <td>108.000000</td>\n",
       "      <td>0.99076</td>\n",
       "      <td>3.25</td>\n",
       "      <td>0.793158</td>\n",
       "      <td>12.300000</td>\n",
       "      <td>0.0</td>\n",
       "      <td>6.0</td>\n",
       "      <td>2.0</td>\n",
       "    </tr>\n",
       "    <tr>\n",
       "      <th>12793</th>\n",
       "      <td>3.0</td>\n",
       "      <td>7.7</td>\n",
       "      <td>0.32</td>\n",
       "      <td>0.12</td>\n",
       "      <td>28.515789</td>\n",
       "      <td>0.029000</td>\n",
       "      <td>26.0</td>\n",
       "      <td>274.000000</td>\n",
       "      <td>0.99060</td>\n",
       "      <td>3.97</td>\n",
       "      <td>0.620000</td>\n",
       "      <td>11.000000</td>\n",
       "      <td>-1.0</td>\n",
       "      <td>6.0</td>\n",
       "      <td>2.0</td>\n",
       "    </tr>\n",
       "    <tr>\n",
       "      <th>12794</th>\n",
       "      <td>4.0</td>\n",
       "      <td>5.2</td>\n",
       "      <td>0.04</td>\n",
       "      <td>0.81</td>\n",
       "      <td>52.700000</td>\n",
       "      <td>0.242263</td>\n",
       "      <td>106.0</td>\n",
       "      <td>242.000000</td>\n",
       "      <td>0.99454</td>\n",
       "      <td>3.94</td>\n",
       "      <td>0.120000</td>\n",
       "      <td>9.900000</td>\n",
       "      <td>0.0</td>\n",
       "      <td>7.0</td>\n",
       "      <td>2.0</td>\n",
       "    </tr>\n",
       "  </tbody>\n",
       "</table>\n",
       "</div>"
      ],
      "text/plain": [
       "       TARGET  FixedAcidity  VolatileAcidity  CitricAcid  ResidualSugar  \\\n",
       "12790     0.0           5.0             0.79        2.01       5.000000   \n",
       "12791     5.0           8.9             0.47        0.29      84.900000   \n",
       "12792     4.0           6.0             0.17        1.10      37.000000   \n",
       "12793     3.0           7.7             0.32        0.12      28.515789   \n",
       "12794     4.0           5.2             0.04        0.81      52.700000   \n",
       "\n",
       "       Chlorides  FreeSulfurDioxide  TotalSulfurDioxide  Density    pH  \\\n",
       "12790   0.043000               17.0          101.000000  1.01077  3.39   \n",
       "12791   0.259000               54.0          215.078947  0.99518  4.46   \n",
       "12792   0.078000               25.0          108.000000  0.99076  3.25   \n",
       "12793   0.029000               26.0          274.000000  0.99060  3.97   \n",
       "12794   0.242263              106.0          242.000000  0.99454  3.94   \n",
       "\n",
       "       Sulphates    Alcohol  LabelAppeal  AcidIndex  STARS  \n",
       "12790   0.570000   4.900000          1.0        5.0    0.0  \n",
       "12791   1.200000   9.160526         -1.0        8.0    2.0  \n",
       "12792   0.793158  12.300000          0.0        6.0    2.0  \n",
       "12793   0.620000  11.000000         -1.0        6.0    2.0  \n",
       "12794   0.120000   9.900000          0.0        7.0    2.0  "
      ]
     },
     "execution_count": 55,
     "metadata": {},
     "output_type": "execute_result"
    }
   ],
   "source": [
    "# Pre-review the dataframe\n",
    "data_1.tail()"
   ]
  },
  {
   "cell_type": "code",
   "execution_count": 56,
   "metadata": {},
   "outputs": [
    {
     "data": {
      "text/html": [
       "<div>\n",
       "<style scoped>\n",
       "    .dataframe tbody tr th:only-of-type {\n",
       "        vertical-align: middle;\n",
       "    }\n",
       "\n",
       "    .dataframe tbody tr th {\n",
       "        vertical-align: top;\n",
       "    }\n",
       "\n",
       "    .dataframe thead th {\n",
       "        text-align: right;\n",
       "    }\n",
       "</style>\n",
       "<table border=\"1\" class=\"dataframe\">\n",
       "  <thead>\n",
       "    <tr style=\"text-align: right;\">\n",
       "      <th></th>\n",
       "      <th>TARGET</th>\n",
       "      <th>FixedAcidity</th>\n",
       "      <th>VolatileAcidity</th>\n",
       "      <th>CitricAcid</th>\n",
       "      <th>ResidualSugar</th>\n",
       "      <th>Chlorides</th>\n",
       "      <th>FreeSulfurDioxide</th>\n",
       "      <th>TotalSulfurDioxide</th>\n",
       "      <th>Density</th>\n",
       "      <th>pH</th>\n",
       "      <th>Sulphates</th>\n",
       "      <th>Alcohol</th>\n",
       "      <th>LabelAppeal</th>\n",
       "      <th>AcidIndex</th>\n",
       "      <th>STARS</th>\n",
       "    </tr>\n",
       "  </thead>\n",
       "  <tbody>\n",
       "    <tr>\n",
       "      <th>0</th>\n",
       "      <td>3.0</td>\n",
       "      <td>3.2</td>\n",
       "      <td>1.160</td>\n",
       "      <td>0.98</td>\n",
       "      <td>54.2</td>\n",
       "      <td>0.567000</td>\n",
       "      <td>125.789474</td>\n",
       "      <td>268.0</td>\n",
       "      <td>0.99280</td>\n",
       "      <td>3.33</td>\n",
       "      <td>0.59</td>\n",
       "      <td>9.900000</td>\n",
       "      <td>0.0</td>\n",
       "      <td>8.0</td>\n",
       "      <td>2.0</td>\n",
       "    </tr>\n",
       "    <tr>\n",
       "      <th>1</th>\n",
       "      <td>3.0</td>\n",
       "      <td>4.5</td>\n",
       "      <td>0.160</td>\n",
       "      <td>0.81</td>\n",
       "      <td>26.1</td>\n",
       "      <td>0.425000</td>\n",
       "      <td>15.000000</td>\n",
       "      <td>327.0</td>\n",
       "      <td>1.02792</td>\n",
       "      <td>3.38</td>\n",
       "      <td>0.70</td>\n",
       "      <td>10.465789</td>\n",
       "      <td>-1.0</td>\n",
       "      <td>7.0</td>\n",
       "      <td>3.0</td>\n",
       "    </tr>\n",
       "    <tr>\n",
       "      <th>2</th>\n",
       "      <td>5.0</td>\n",
       "      <td>7.1</td>\n",
       "      <td>2.640</td>\n",
       "      <td>0.88</td>\n",
       "      <td>14.8</td>\n",
       "      <td>0.037000</td>\n",
       "      <td>214.000000</td>\n",
       "      <td>142.0</td>\n",
       "      <td>0.99518</td>\n",
       "      <td>3.12</td>\n",
       "      <td>0.48</td>\n",
       "      <td>22.000000</td>\n",
       "      <td>-1.0</td>\n",
       "      <td>8.0</td>\n",
       "      <td>3.0</td>\n",
       "    </tr>\n",
       "    <tr>\n",
       "      <th>3</th>\n",
       "      <td>3.0</td>\n",
       "      <td>5.7</td>\n",
       "      <td>0.385</td>\n",
       "      <td>0.04</td>\n",
       "      <td>18.8</td>\n",
       "      <td>0.425000</td>\n",
       "      <td>22.000000</td>\n",
       "      <td>115.0</td>\n",
       "      <td>0.99640</td>\n",
       "      <td>2.24</td>\n",
       "      <td>1.83</td>\n",
       "      <td>6.200000</td>\n",
       "      <td>-1.0</td>\n",
       "      <td>6.0</td>\n",
       "      <td>1.0</td>\n",
       "    </tr>\n",
       "    <tr>\n",
       "      <th>4</th>\n",
       "      <td>4.0</td>\n",
       "      <td>8.0</td>\n",
       "      <td>0.330</td>\n",
       "      <td>1.26</td>\n",
       "      <td>9.4</td>\n",
       "      <td>0.160684</td>\n",
       "      <td>167.000000</td>\n",
       "      <td>108.0</td>\n",
       "      <td>0.99457</td>\n",
       "      <td>3.12</td>\n",
       "      <td>1.77</td>\n",
       "      <td>13.700000</td>\n",
       "      <td>0.0</td>\n",
       "      <td>9.0</td>\n",
       "      <td>2.0</td>\n",
       "    </tr>\n",
       "  </tbody>\n",
       "</table>\n",
       "</div>"
      ],
      "text/plain": [
       "   TARGET  FixedAcidity  VolatileAcidity  CitricAcid  ResidualSugar  \\\n",
       "0     3.0           3.2            1.160        0.98           54.2   \n",
       "1     3.0           4.5            0.160        0.81           26.1   \n",
       "2     5.0           7.1            2.640        0.88           14.8   \n",
       "3     3.0           5.7            0.385        0.04           18.8   \n",
       "4     4.0           8.0            0.330        1.26            9.4   \n",
       "\n",
       "   Chlorides  FreeSulfurDioxide  TotalSulfurDioxide  Density    pH  Sulphates  \\\n",
       "0   0.567000         125.789474               268.0  0.99280  3.33       0.59   \n",
       "1   0.425000          15.000000               327.0  1.02792  3.38       0.70   \n",
       "2   0.037000         214.000000               142.0  0.99518  3.12       0.48   \n",
       "3   0.425000          22.000000               115.0  0.99640  2.24       1.83   \n",
       "4   0.160684         167.000000               108.0  0.99457  3.12       1.77   \n",
       "\n",
       "     Alcohol  LabelAppeal  AcidIndex  STARS  \n",
       "0   9.900000          0.0        8.0    2.0  \n",
       "1  10.465789         -1.0        7.0    3.0  \n",
       "2  22.000000         -1.0        8.0    3.0  \n",
       "3   6.200000         -1.0        6.0    1.0  \n",
       "4  13.700000          0.0        9.0    2.0  "
      ]
     },
     "execution_count": 56,
     "metadata": {},
     "output_type": "execute_result"
    }
   ],
   "source": [
    "# Pre-review the dataframe\n",
    "data_1.head()"
   ]
  },
  {
   "cell_type": "code",
   "execution_count": 57,
   "metadata": {},
   "outputs": [
    {
     "data": {
      "text/plain": [
       "0        2.0\n",
       "1        3.0\n",
       "2        3.0\n",
       "3        1.0\n",
       "4        2.0\n",
       "        ... \n",
       "12790    0.0\n",
       "12791    2.0\n",
       "12792    2.0\n",
       "12793    2.0\n",
       "12794    2.0\n",
       "Name: STARS, Length: 12795, dtype: float64"
      ]
     },
     "execution_count": 57,
     "metadata": {},
     "output_type": "execute_result"
    }
   ],
   "source": [
    "# Use the fillna fucntion to update the column STARS\n",
    "# Use the 0 to replace the missing values in this column\n",
    "data_stars=data['STARS'].fillna(0)\n",
    "data_stars"
   ]
  },
  {
   "cell_type": "code",
   "execution_count": 58,
   "metadata": {},
   "outputs": [],
   "source": [
    "# Update the dataframe for further analysis\n",
    "data_1=pd.concat([data_1,data_stars],axis=1)\n",
    "# data_1.head(30)"
   ]
  },
  {
   "cell_type": "markdown",
   "metadata": {},
   "source": [
    "##### 2.KNNImputer"
   ]
  },
  {
   "cell_type": "code",
   "execution_count": 61,
   "metadata": {
    "scrolled": true
   },
   "outputs": [
    {
     "data": {
      "text/html": [
       "<div>\n",
       "<style scoped>\n",
       "    .dataframe tbody tr th:only-of-type {\n",
       "        vertical-align: middle;\n",
       "    }\n",
       "\n",
       "    .dataframe tbody tr th {\n",
       "        vertical-align: top;\n",
       "    }\n",
       "\n",
       "    .dataframe thead th {\n",
       "        text-align: right;\n",
       "    }\n",
       "</style>\n",
       "<table border=\"1\" class=\"dataframe\">\n",
       "  <thead>\n",
       "    <tr style=\"text-align: right;\">\n",
       "      <th></th>\n",
       "      <th>TARGET</th>\n",
       "      <th>FixedAcidity</th>\n",
       "      <th>VolatileAcidity</th>\n",
       "      <th>CitricAcid</th>\n",
       "      <th>ResidualSugar</th>\n",
       "      <th>Chlorides</th>\n",
       "      <th>FreeSulfurDioxide</th>\n",
       "      <th>TotalSulfurDioxide</th>\n",
       "      <th>Density</th>\n",
       "      <th>pH</th>\n",
       "      <th>Sulphates</th>\n",
       "      <th>Alcohol</th>\n",
       "      <th>LabelAppeal</th>\n",
       "      <th>AcidIndex</th>\n",
       "      <th>STARS</th>\n",
       "    </tr>\n",
       "  </thead>\n",
       "  <tbody>\n",
       "    <tr>\n",
       "      <th>12765</th>\n",
       "      <td>4.0</td>\n",
       "      <td>5.7</td>\n",
       "      <td>1.180</td>\n",
       "      <td>0.29</td>\n",
       "      <td>45.100000</td>\n",
       "      <td>1.107000</td>\n",
       "      <td>26.000000</td>\n",
       "      <td>81.000000</td>\n",
       "      <td>0.99572</td>\n",
       "      <td>3.960000</td>\n",
       "      <td>0.370000</td>\n",
       "      <td>17.100000</td>\n",
       "      <td>0.0</td>\n",
       "      <td>6.0</td>\n",
       "      <td>2.000000</td>\n",
       "    </tr>\n",
       "    <tr>\n",
       "      <th>12766</th>\n",
       "      <td>0.0</td>\n",
       "      <td>10.4</td>\n",
       "      <td>0.240</td>\n",
       "      <td>0.46</td>\n",
       "      <td>1.800000</td>\n",
       "      <td>0.640000</td>\n",
       "      <td>30.000000</td>\n",
       "      <td>329.000000</td>\n",
       "      <td>1.03355</td>\n",
       "      <td>2.300000</td>\n",
       "      <td>1.020000</td>\n",
       "      <td>0.300000</td>\n",
       "      <td>-1.0</td>\n",
       "      <td>11.0</td>\n",
       "      <td>1.923077</td>\n",
       "    </tr>\n",
       "    <tr>\n",
       "      <th>12767</th>\n",
       "      <td>5.0</td>\n",
       "      <td>7.6</td>\n",
       "      <td>1.060</td>\n",
       "      <td>0.29</td>\n",
       "      <td>8.600000</td>\n",
       "      <td>0.053000</td>\n",
       "      <td>164.000000</td>\n",
       "      <td>41.000000</td>\n",
       "      <td>0.96954</td>\n",
       "      <td>3.379231</td>\n",
       "      <td>0.700000</td>\n",
       "      <td>9.800000</td>\n",
       "      <td>1.0</td>\n",
       "      <td>8.0</td>\n",
       "      <td>2.000000</td>\n",
       "    </tr>\n",
       "    <tr>\n",
       "      <th>12768</th>\n",
       "      <td>6.0</td>\n",
       "      <td>18.9</td>\n",
       "      <td>0.965</td>\n",
       "      <td>0.60</td>\n",
       "      <td>65.800000</td>\n",
       "      <td>0.564000</td>\n",
       "      <td>173.000000</td>\n",
       "      <td>160.000000</td>\n",
       "      <td>0.99302</td>\n",
       "      <td>3.200000</td>\n",
       "      <td>0.741538</td>\n",
       "      <td>11.500000</td>\n",
       "      <td>2.0</td>\n",
       "      <td>9.0</td>\n",
       "      <td>3.000000</td>\n",
       "    </tr>\n",
       "    <tr>\n",
       "      <th>12769</th>\n",
       "      <td>0.0</td>\n",
       "      <td>13.7</td>\n",
       "      <td>0.465</td>\n",
       "      <td>0.72</td>\n",
       "      <td>3.300000</td>\n",
       "      <td>0.085000</td>\n",
       "      <td>17.000000</td>\n",
       "      <td>43.000000</td>\n",
       "      <td>0.89956</td>\n",
       "      <td>3.060000</td>\n",
       "      <td>0.800000</td>\n",
       "      <td>10.000000</td>\n",
       "      <td>-1.0</td>\n",
       "      <td>15.0</td>\n",
       "      <td>1.461538</td>\n",
       "    </tr>\n",
       "    <tr>\n",
       "      <th>12770</th>\n",
       "      <td>4.0</td>\n",
       "      <td>12.3</td>\n",
       "      <td>0.680</td>\n",
       "      <td>0.28</td>\n",
       "      <td>1.400000</td>\n",
       "      <td>0.037000</td>\n",
       "      <td>36.000000</td>\n",
       "      <td>83.000000</td>\n",
       "      <td>0.99074</td>\n",
       "      <td>3.330000</td>\n",
       "      <td>0.850000</td>\n",
       "      <td>10.300000</td>\n",
       "      <td>-1.0</td>\n",
       "      <td>6.0</td>\n",
       "      <td>3.000000</td>\n",
       "    </tr>\n",
       "    <tr>\n",
       "      <th>12771</th>\n",
       "      <td>6.0</td>\n",
       "      <td>7.8</td>\n",
       "      <td>0.200</td>\n",
       "      <td>0.65</td>\n",
       "      <td>10.200000</td>\n",
       "      <td>0.478000</td>\n",
       "      <td>204.000000</td>\n",
       "      <td>157.000000</td>\n",
       "      <td>1.02909</td>\n",
       "      <td>3.140000</td>\n",
       "      <td>1.440000</td>\n",
       "      <td>10.000000</td>\n",
       "      <td>2.0</td>\n",
       "      <td>8.0</td>\n",
       "      <td>2.153846</td>\n",
       "    </tr>\n",
       "    <tr>\n",
       "      <th>12772</th>\n",
       "      <td>0.0</td>\n",
       "      <td>0.7</td>\n",
       "      <td>2.020</td>\n",
       "      <td>1.06</td>\n",
       "      <td>1.400000</td>\n",
       "      <td>0.112000</td>\n",
       "      <td>6.000000</td>\n",
       "      <td>153.769231</td>\n",
       "      <td>0.97690</td>\n",
       "      <td>2.720000</td>\n",
       "      <td>0.610000</td>\n",
       "      <td>17.000000</td>\n",
       "      <td>1.0</td>\n",
       "      <td>13.0</td>\n",
       "      <td>1.692308</td>\n",
       "    </tr>\n",
       "    <tr>\n",
       "      <th>12773</th>\n",
       "      <td>0.0</td>\n",
       "      <td>7.4</td>\n",
       "      <td>0.935</td>\n",
       "      <td>0.34</td>\n",
       "      <td>2.300000</td>\n",
       "      <td>0.045000</td>\n",
       "      <td>73.500000</td>\n",
       "      <td>214.000000</td>\n",
       "      <td>0.99340</td>\n",
       "      <td>3.180000</td>\n",
       "      <td>0.610000</td>\n",
       "      <td>9.900000</td>\n",
       "      <td>0.0</td>\n",
       "      <td>8.0</td>\n",
       "      <td>1.769231</td>\n",
       "    </tr>\n",
       "    <tr>\n",
       "      <th>12774</th>\n",
       "      <td>5.0</td>\n",
       "      <td>6.9</td>\n",
       "      <td>1.810</td>\n",
       "      <td>1.27</td>\n",
       "      <td>1.700000</td>\n",
       "      <td>0.036000</td>\n",
       "      <td>61.000000</td>\n",
       "      <td>101.000000</td>\n",
       "      <td>1.01950</td>\n",
       "      <td>3.520000</td>\n",
       "      <td>0.540000</td>\n",
       "      <td>17.500000</td>\n",
       "      <td>0.0</td>\n",
       "      <td>7.0</td>\n",
       "      <td>3.000000</td>\n",
       "    </tr>\n",
       "    <tr>\n",
       "      <th>12775</th>\n",
       "      <td>0.0</td>\n",
       "      <td>5.8</td>\n",
       "      <td>1.290</td>\n",
       "      <td>0.54</td>\n",
       "      <td>30.600000</td>\n",
       "      <td>0.824000</td>\n",
       "      <td>35.000000</td>\n",
       "      <td>137.000000</td>\n",
       "      <td>0.99080</td>\n",
       "      <td>3.420000</td>\n",
       "      <td>1.910000</td>\n",
       "      <td>12.529487</td>\n",
       "      <td>0.0</td>\n",
       "      <td>6.0</td>\n",
       "      <td>2.153846</td>\n",
       "    </tr>\n",
       "    <tr>\n",
       "      <th>12776</th>\n",
       "      <td>4.0</td>\n",
       "      <td>7.7</td>\n",
       "      <td>0.250</td>\n",
       "      <td>0.45</td>\n",
       "      <td>70.300000</td>\n",
       "      <td>0.059000</td>\n",
       "      <td>52.000000</td>\n",
       "      <td>181.000000</td>\n",
       "      <td>0.96023</td>\n",
       "      <td>3.510000</td>\n",
       "      <td>0.470000</td>\n",
       "      <td>16.200000</td>\n",
       "      <td>0.0</td>\n",
       "      <td>7.0</td>\n",
       "      <td>2.000000</td>\n",
       "    </tr>\n",
       "    <tr>\n",
       "      <th>12777</th>\n",
       "      <td>4.0</td>\n",
       "      <td>15.7</td>\n",
       "      <td>1.590</td>\n",
       "      <td>0.38</td>\n",
       "      <td>13.400000</td>\n",
       "      <td>0.097000</td>\n",
       "      <td>145.153846</td>\n",
       "      <td>101.000000</td>\n",
       "      <td>0.98968</td>\n",
       "      <td>2.950000</td>\n",
       "      <td>0.560000</td>\n",
       "      <td>9.900000</td>\n",
       "      <td>0.0</td>\n",
       "      <td>7.0</td>\n",
       "      <td>3.000000</td>\n",
       "    </tr>\n",
       "    <tr>\n",
       "      <th>12778</th>\n",
       "      <td>4.0</td>\n",
       "      <td>17.5</td>\n",
       "      <td>0.410</td>\n",
       "      <td>0.21</td>\n",
       "      <td>22.700000</td>\n",
       "      <td>0.423000</td>\n",
       "      <td>96.076923</td>\n",
       "      <td>830.000000</td>\n",
       "      <td>0.99355</td>\n",
       "      <td>3.630000</td>\n",
       "      <td>0.290000</td>\n",
       "      <td>9.400000</td>\n",
       "      <td>0.0</td>\n",
       "      <td>7.0</td>\n",
       "      <td>1.000000</td>\n",
       "    </tr>\n",
       "    <tr>\n",
       "      <th>12779</th>\n",
       "      <td>3.0</td>\n",
       "      <td>4.1</td>\n",
       "      <td>0.550</td>\n",
       "      <td>0.31</td>\n",
       "      <td>13.550000</td>\n",
       "      <td>0.133000</td>\n",
       "      <td>29.000000</td>\n",
       "      <td>49.000000</td>\n",
       "      <td>0.99544</td>\n",
       "      <td>3.200000</td>\n",
       "      <td>0.860000</td>\n",
       "      <td>11.000000</td>\n",
       "      <td>-1.0</td>\n",
       "      <td>7.0</td>\n",
       "      <td>2.000000</td>\n",
       "    </tr>\n",
       "    <tr>\n",
       "      <th>12780</th>\n",
       "      <td>3.0</td>\n",
       "      <td>7.5</td>\n",
       "      <td>0.180</td>\n",
       "      <td>0.34</td>\n",
       "      <td>1.300000</td>\n",
       "      <td>0.055000</td>\n",
       "      <td>50.000000</td>\n",
       "      <td>153.000000</td>\n",
       "      <td>0.97759</td>\n",
       "      <td>2.040000</td>\n",
       "      <td>0.070000</td>\n",
       "      <td>7.800000</td>\n",
       "      <td>-1.0</td>\n",
       "      <td>8.0</td>\n",
       "      <td>2.000000</td>\n",
       "    </tr>\n",
       "    <tr>\n",
       "      <th>12781</th>\n",
       "      <td>0.0</td>\n",
       "      <td>11.6</td>\n",
       "      <td>1.040</td>\n",
       "      <td>0.57</td>\n",
       "      <td>3.200000</td>\n",
       "      <td>0.155000</td>\n",
       "      <td>3.000000</td>\n",
       "      <td>55.000000</td>\n",
       "      <td>0.99810</td>\n",
       "      <td>2.000000</td>\n",
       "      <td>0.700000</td>\n",
       "      <td>9.900000</td>\n",
       "      <td>1.0</td>\n",
       "      <td>12.0</td>\n",
       "      <td>2.153846</td>\n",
       "    </tr>\n",
       "    <tr>\n",
       "      <th>12782</th>\n",
       "      <td>0.0</td>\n",
       "      <td>15.2</td>\n",
       "      <td>0.210</td>\n",
       "      <td>0.32</td>\n",
       "      <td>5.400000</td>\n",
       "      <td>0.421000</td>\n",
       "      <td>29.000000</td>\n",
       "      <td>184.000000</td>\n",
       "      <td>0.99500</td>\n",
       "      <td>3.033077</td>\n",
       "      <td>0.460000</td>\n",
       "      <td>10.806410</td>\n",
       "      <td>-1.0</td>\n",
       "      <td>7.0</td>\n",
       "      <td>2.153846</td>\n",
       "    </tr>\n",
       "    <tr>\n",
       "      <th>12783</th>\n",
       "      <td>0.0</td>\n",
       "      <td>8.2</td>\n",
       "      <td>0.390</td>\n",
       "      <td>0.17</td>\n",
       "      <td>2.300000</td>\n",
       "      <td>0.099000</td>\n",
       "      <td>47.000000</td>\n",
       "      <td>551.000000</td>\n",
       "      <td>1.00223</td>\n",
       "      <td>4.280000</td>\n",
       "      <td>0.120000</td>\n",
       "      <td>9.800000</td>\n",
       "      <td>0.0</td>\n",
       "      <td>9.0</td>\n",
       "      <td>1.000000</td>\n",
       "    </tr>\n",
       "    <tr>\n",
       "      <th>12784</th>\n",
       "      <td>6.0</td>\n",
       "      <td>6.4</td>\n",
       "      <td>0.690</td>\n",
       "      <td>0.09</td>\n",
       "      <td>53.900000</td>\n",
       "      <td>0.044000</td>\n",
       "      <td>34.000000</td>\n",
       "      <td>227.461538</td>\n",
       "      <td>0.99480</td>\n",
       "      <td>3.550000</td>\n",
       "      <td>1.222308</td>\n",
       "      <td>10.950000</td>\n",
       "      <td>2.0</td>\n",
       "      <td>7.0</td>\n",
       "      <td>3.000000</td>\n",
       "    </tr>\n",
       "    <tr>\n",
       "      <th>12785</th>\n",
       "      <td>4.0</td>\n",
       "      <td>7.3</td>\n",
       "      <td>0.330</td>\n",
       "      <td>0.94</td>\n",
       "      <td>42.500000</td>\n",
       "      <td>0.036000</td>\n",
       "      <td>15.000000</td>\n",
       "      <td>85.000000</td>\n",
       "      <td>0.97287</td>\n",
       "      <td>2.990000</td>\n",
       "      <td>1.040769</td>\n",
       "      <td>14.000000</td>\n",
       "      <td>0.0</td>\n",
       "      <td>9.0</td>\n",
       "      <td>2.000000</td>\n",
       "    </tr>\n",
       "    <tr>\n",
       "      <th>12786</th>\n",
       "      <td>0.0</td>\n",
       "      <td>6.8</td>\n",
       "      <td>0.130</td>\n",
       "      <td>1.15</td>\n",
       "      <td>3.900000</td>\n",
       "      <td>0.478000</td>\n",
       "      <td>228.000000</td>\n",
       "      <td>29.000000</td>\n",
       "      <td>0.99524</td>\n",
       "      <td>2.730000</td>\n",
       "      <td>0.100000</td>\n",
       "      <td>13.600000</td>\n",
       "      <td>-1.0</td>\n",
       "      <td>8.0</td>\n",
       "      <td>1.846154</td>\n",
       "    </tr>\n",
       "    <tr>\n",
       "      <th>12787</th>\n",
       "      <td>2.0</td>\n",
       "      <td>6.5</td>\n",
       "      <td>0.150</td>\n",
       "      <td>0.78</td>\n",
       "      <td>1.400000</td>\n",
       "      <td>0.875000</td>\n",
       "      <td>531.000000</td>\n",
       "      <td>105.000000</td>\n",
       "      <td>0.99260</td>\n",
       "      <td>3.140000</td>\n",
       "      <td>0.593846</td>\n",
       "      <td>10.100000</td>\n",
       "      <td>0.0</td>\n",
       "      <td>7.0</td>\n",
       "      <td>1.000000</td>\n",
       "    </tr>\n",
       "    <tr>\n",
       "      <th>12788</th>\n",
       "      <td>4.0</td>\n",
       "      <td>8.4</td>\n",
       "      <td>0.300</td>\n",
       "      <td>0.38</td>\n",
       "      <td>37.100000</td>\n",
       "      <td>0.633000</td>\n",
       "      <td>208.000000</td>\n",
       "      <td>220.000000</td>\n",
       "      <td>0.99830</td>\n",
       "      <td>2.830000</td>\n",
       "      <td>0.250000</td>\n",
       "      <td>9.300000</td>\n",
       "      <td>-1.0</td>\n",
       "      <td>8.0</td>\n",
       "      <td>3.000000</td>\n",
       "    </tr>\n",
       "    <tr>\n",
       "      <th>12789</th>\n",
       "      <td>4.0</td>\n",
       "      <td>4.4</td>\n",
       "      <td>0.220</td>\n",
       "      <td>0.29</td>\n",
       "      <td>1.900000</td>\n",
       "      <td>0.525000</td>\n",
       "      <td>30.000000</td>\n",
       "      <td>391.000000</td>\n",
       "      <td>0.99710</td>\n",
       "      <td>3.450000</td>\n",
       "      <td>0.590000</td>\n",
       "      <td>9.500000</td>\n",
       "      <td>0.0</td>\n",
       "      <td>8.0</td>\n",
       "      <td>1.000000</td>\n",
       "    </tr>\n",
       "    <tr>\n",
       "      <th>12790</th>\n",
       "      <td>0.0</td>\n",
       "      <td>5.0</td>\n",
       "      <td>0.790</td>\n",
       "      <td>2.01</td>\n",
       "      <td>5.000000</td>\n",
       "      <td>0.043000</td>\n",
       "      <td>17.000000</td>\n",
       "      <td>101.000000</td>\n",
       "      <td>1.01077</td>\n",
       "      <td>3.390000</td>\n",
       "      <td>0.570000</td>\n",
       "      <td>4.900000</td>\n",
       "      <td>1.0</td>\n",
       "      <td>5.0</td>\n",
       "      <td>1.846154</td>\n",
       "    </tr>\n",
       "    <tr>\n",
       "      <th>12791</th>\n",
       "      <td>5.0</td>\n",
       "      <td>8.9</td>\n",
       "      <td>0.470</td>\n",
       "      <td>0.29</td>\n",
       "      <td>84.900000</td>\n",
       "      <td>0.259000</td>\n",
       "      <td>54.000000</td>\n",
       "      <td>213.653846</td>\n",
       "      <td>0.99518</td>\n",
       "      <td>4.460000</td>\n",
       "      <td>1.200000</td>\n",
       "      <td>8.784615</td>\n",
       "      <td>-1.0</td>\n",
       "      <td>8.0</td>\n",
       "      <td>2.000000</td>\n",
       "    </tr>\n",
       "    <tr>\n",
       "      <th>12792</th>\n",
       "      <td>4.0</td>\n",
       "      <td>6.0</td>\n",
       "      <td>0.170</td>\n",
       "      <td>1.10</td>\n",
       "      <td>37.000000</td>\n",
       "      <td>0.078000</td>\n",
       "      <td>25.000000</td>\n",
       "      <td>108.000000</td>\n",
       "      <td>0.99076</td>\n",
       "      <td>3.250000</td>\n",
       "      <td>0.720769</td>\n",
       "      <td>12.300000</td>\n",
       "      <td>0.0</td>\n",
       "      <td>6.0</td>\n",
       "      <td>2.000000</td>\n",
       "    </tr>\n",
       "    <tr>\n",
       "      <th>12793</th>\n",
       "      <td>3.0</td>\n",
       "      <td>7.7</td>\n",
       "      <td>0.320</td>\n",
       "      <td>0.12</td>\n",
       "      <td>28.784615</td>\n",
       "      <td>0.029000</td>\n",
       "      <td>26.000000</td>\n",
       "      <td>274.000000</td>\n",
       "      <td>0.99060</td>\n",
       "      <td>3.970000</td>\n",
       "      <td>0.620000</td>\n",
       "      <td>11.000000</td>\n",
       "      <td>-1.0</td>\n",
       "      <td>6.0</td>\n",
       "      <td>2.000000</td>\n",
       "    </tr>\n",
       "    <tr>\n",
       "      <th>12794</th>\n",
       "      <td>4.0</td>\n",
       "      <td>5.2</td>\n",
       "      <td>0.040</td>\n",
       "      <td>0.81</td>\n",
       "      <td>52.700000</td>\n",
       "      <td>0.230846</td>\n",
       "      <td>106.000000</td>\n",
       "      <td>242.000000</td>\n",
       "      <td>0.99454</td>\n",
       "      <td>3.940000</td>\n",
       "      <td>0.120000</td>\n",
       "      <td>9.900000</td>\n",
       "      <td>0.0</td>\n",
       "      <td>7.0</td>\n",
       "      <td>2.000000</td>\n",
       "    </tr>\n",
       "  </tbody>\n",
       "</table>\n",
       "</div>"
      ],
      "text/plain": [
       "       TARGET  FixedAcidity  VolatileAcidity  CitricAcid  ResidualSugar  \\\n",
       "12765     4.0           5.7            1.180        0.29      45.100000   \n",
       "12766     0.0          10.4            0.240        0.46       1.800000   \n",
       "12767     5.0           7.6            1.060        0.29       8.600000   \n",
       "12768     6.0          18.9            0.965        0.60      65.800000   \n",
       "12769     0.0          13.7            0.465        0.72       3.300000   \n",
       "12770     4.0          12.3            0.680        0.28       1.400000   \n",
       "12771     6.0           7.8            0.200        0.65      10.200000   \n",
       "12772     0.0           0.7            2.020        1.06       1.400000   \n",
       "12773     0.0           7.4            0.935        0.34       2.300000   \n",
       "12774     5.0           6.9            1.810        1.27       1.700000   \n",
       "12775     0.0           5.8            1.290        0.54      30.600000   \n",
       "12776     4.0           7.7            0.250        0.45      70.300000   \n",
       "12777     4.0          15.7            1.590        0.38      13.400000   \n",
       "12778     4.0          17.5            0.410        0.21      22.700000   \n",
       "12779     3.0           4.1            0.550        0.31      13.550000   \n",
       "12780     3.0           7.5            0.180        0.34       1.300000   \n",
       "12781     0.0          11.6            1.040        0.57       3.200000   \n",
       "12782     0.0          15.2            0.210        0.32       5.400000   \n",
       "12783     0.0           8.2            0.390        0.17       2.300000   \n",
       "12784     6.0           6.4            0.690        0.09      53.900000   \n",
       "12785     4.0           7.3            0.330        0.94      42.500000   \n",
       "12786     0.0           6.8            0.130        1.15       3.900000   \n",
       "12787     2.0           6.5            0.150        0.78       1.400000   \n",
       "12788     4.0           8.4            0.300        0.38      37.100000   \n",
       "12789     4.0           4.4            0.220        0.29       1.900000   \n",
       "12790     0.0           5.0            0.790        2.01       5.000000   \n",
       "12791     5.0           8.9            0.470        0.29      84.900000   \n",
       "12792     4.0           6.0            0.170        1.10      37.000000   \n",
       "12793     3.0           7.7            0.320        0.12      28.784615   \n",
       "12794     4.0           5.2            0.040        0.81      52.700000   \n",
       "\n",
       "       Chlorides  FreeSulfurDioxide  TotalSulfurDioxide  Density        pH  \\\n",
       "12765   1.107000          26.000000           81.000000  0.99572  3.960000   \n",
       "12766   0.640000          30.000000          329.000000  1.03355  2.300000   \n",
       "12767   0.053000         164.000000           41.000000  0.96954  3.379231   \n",
       "12768   0.564000         173.000000          160.000000  0.99302  3.200000   \n",
       "12769   0.085000          17.000000           43.000000  0.89956  3.060000   \n",
       "12770   0.037000          36.000000           83.000000  0.99074  3.330000   \n",
       "12771   0.478000         204.000000          157.000000  1.02909  3.140000   \n",
       "12772   0.112000           6.000000          153.769231  0.97690  2.720000   \n",
       "12773   0.045000          73.500000          214.000000  0.99340  3.180000   \n",
       "12774   0.036000          61.000000          101.000000  1.01950  3.520000   \n",
       "12775   0.824000          35.000000          137.000000  0.99080  3.420000   \n",
       "12776   0.059000          52.000000          181.000000  0.96023  3.510000   \n",
       "12777   0.097000         145.153846          101.000000  0.98968  2.950000   \n",
       "12778   0.423000          96.076923          830.000000  0.99355  3.630000   \n",
       "12779   0.133000          29.000000           49.000000  0.99544  3.200000   \n",
       "12780   0.055000          50.000000          153.000000  0.97759  2.040000   \n",
       "12781   0.155000           3.000000           55.000000  0.99810  2.000000   \n",
       "12782   0.421000          29.000000          184.000000  0.99500  3.033077   \n",
       "12783   0.099000          47.000000          551.000000  1.00223  4.280000   \n",
       "12784   0.044000          34.000000          227.461538  0.99480  3.550000   \n",
       "12785   0.036000          15.000000           85.000000  0.97287  2.990000   \n",
       "12786   0.478000         228.000000           29.000000  0.99524  2.730000   \n",
       "12787   0.875000         531.000000          105.000000  0.99260  3.140000   \n",
       "12788   0.633000         208.000000          220.000000  0.99830  2.830000   \n",
       "12789   0.525000          30.000000          391.000000  0.99710  3.450000   \n",
       "12790   0.043000          17.000000          101.000000  1.01077  3.390000   \n",
       "12791   0.259000          54.000000          213.653846  0.99518  4.460000   \n",
       "12792   0.078000          25.000000          108.000000  0.99076  3.250000   \n",
       "12793   0.029000          26.000000          274.000000  0.99060  3.970000   \n",
       "12794   0.230846         106.000000          242.000000  0.99454  3.940000   \n",
       "\n",
       "       Sulphates    Alcohol  LabelAppeal  AcidIndex     STARS  \n",
       "12765   0.370000  17.100000          0.0        6.0  2.000000  \n",
       "12766   1.020000   0.300000         -1.0       11.0  1.923077  \n",
       "12767   0.700000   9.800000          1.0        8.0  2.000000  \n",
       "12768   0.741538  11.500000          2.0        9.0  3.000000  \n",
       "12769   0.800000  10.000000         -1.0       15.0  1.461538  \n",
       "12770   0.850000  10.300000         -1.0        6.0  3.000000  \n",
       "12771   1.440000  10.000000          2.0        8.0  2.153846  \n",
       "12772   0.610000  17.000000          1.0       13.0  1.692308  \n",
       "12773   0.610000   9.900000          0.0        8.0  1.769231  \n",
       "12774   0.540000  17.500000          0.0        7.0  3.000000  \n",
       "12775   1.910000  12.529487          0.0        6.0  2.153846  \n",
       "12776   0.470000  16.200000          0.0        7.0  2.000000  \n",
       "12777   0.560000   9.900000          0.0        7.0  3.000000  \n",
       "12778   0.290000   9.400000          0.0        7.0  1.000000  \n",
       "12779   0.860000  11.000000         -1.0        7.0  2.000000  \n",
       "12780   0.070000   7.800000         -1.0        8.0  2.000000  \n",
       "12781   0.700000   9.900000          1.0       12.0  2.153846  \n",
       "12782   0.460000  10.806410         -1.0        7.0  2.153846  \n",
       "12783   0.120000   9.800000          0.0        9.0  1.000000  \n",
       "12784   1.222308  10.950000          2.0        7.0  3.000000  \n",
       "12785   1.040769  14.000000          0.0        9.0  2.000000  \n",
       "12786   0.100000  13.600000         -1.0        8.0  1.846154  \n",
       "12787   0.593846  10.100000          0.0        7.0  1.000000  \n",
       "12788   0.250000   9.300000         -1.0        8.0  3.000000  \n",
       "12789   0.590000   9.500000          0.0        8.0  1.000000  \n",
       "12790   0.570000   4.900000          1.0        5.0  1.846154  \n",
       "12791   1.200000   8.784615         -1.0        8.0  2.000000  \n",
       "12792   0.720769  12.300000          0.0        6.0  2.000000  \n",
       "12793   0.620000  11.000000         -1.0        6.0  2.000000  \n",
       "12794   0.120000   9.900000          0.0        7.0  2.000000  "
      ]
     },
     "execution_count": 61,
     "metadata": {},
     "output_type": "execute_result"
    }
   ],
   "source": [
    "# Use knn function to deal with the missing values\n",
    "imputer = KNNImputer(n_neighbors=13)\n",
    "data_2 = pd.DataFrame(imputer.fit_transform(data),columns = data.columns)\n",
    "data_2.tail(30)"
   ]
  },
  {
   "cell_type": "code",
   "execution_count": 62,
   "metadata": {},
   "outputs": [],
   "source": [
    "# The decimal point is rounded off for \" Stars\" and only the whole number is retained.\n",
    "data_2 = data_2.round({\"STARS\":0})\n",
    "# data_2.head(30)"
   ]
  },
  {
   "cell_type": "markdown",
   "metadata": {},
   "source": [
    "Because the following processes of cleaning data are very similar, we will choose the first method, which replaces \"STARS\" missing values with \"0\"."
   ]
  },
  {
   "cell_type": "markdown",
   "metadata": {},
   "source": [
    "### Step 2: Invalid Data Values"
   ]
  },
  {
   "cell_type": "markdown",
   "metadata": {},
   "source": [
    "According to the results of EDA (For detailed analysis, please go back to cell In[5]), we will select the valid data for \"TotalSulfurDioxide\" and \" pH\" variables."
   ]
  },
  {
   "cell_type": "code",
   "execution_count": 63,
   "metadata": {
    "scrolled": true
   },
   "outputs": [
    {
     "data": {
      "text/html": [
       "<div>\n",
       "<style scoped>\n",
       "    .dataframe tbody tr th:only-of-type {\n",
       "        vertical-align: middle;\n",
       "    }\n",
       "\n",
       "    .dataframe tbody tr th {\n",
       "        vertical-align: top;\n",
       "    }\n",
       "\n",
       "    .dataframe thead th {\n",
       "        text-align: right;\n",
       "    }\n",
       "</style>\n",
       "<table border=\"1\" class=\"dataframe\">\n",
       "  <thead>\n",
       "    <tr style=\"text-align: right;\">\n",
       "      <th></th>\n",
       "      <th>TARGET</th>\n",
       "      <th>FixedAcidity</th>\n",
       "      <th>VolatileAcidity</th>\n",
       "      <th>CitricAcid</th>\n",
       "      <th>ResidualSugar</th>\n",
       "      <th>Chlorides</th>\n",
       "      <th>FreeSulfurDioxide</th>\n",
       "      <th>TotalSulfurDioxide</th>\n",
       "      <th>Density</th>\n",
       "      <th>pH</th>\n",
       "      <th>Sulphates</th>\n",
       "      <th>Alcohol</th>\n",
       "      <th>LabelAppeal</th>\n",
       "      <th>AcidIndex</th>\n",
       "      <th>STARS</th>\n",
       "      <th>STARS</th>\n",
       "    </tr>\n",
       "  </thead>\n",
       "  <tbody>\n",
       "    <tr>\n",
       "      <th>0</th>\n",
       "      <td>3.0</td>\n",
       "      <td>3.2</td>\n",
       "      <td>1.16</td>\n",
       "      <td>0.98</td>\n",
       "      <td>54.200000</td>\n",
       "      <td>0.567000</td>\n",
       "      <td>125.789474</td>\n",
       "      <td>268.0</td>\n",
       "      <td>0.99280</td>\n",
       "      <td>3.33</td>\n",
       "      <td>0.590000</td>\n",
       "      <td>9.900000</td>\n",
       "      <td>0.0</td>\n",
       "      <td>8.0</td>\n",
       "      <td>2.0</td>\n",
       "      <td>2.0</td>\n",
       "    </tr>\n",
       "    <tr>\n",
       "      <th>1</th>\n",
       "      <td>3.0</td>\n",
       "      <td>4.5</td>\n",
       "      <td>0.16</td>\n",
       "      <td>0.81</td>\n",
       "      <td>26.100000</td>\n",
       "      <td>0.425000</td>\n",
       "      <td>15.000000</td>\n",
       "      <td>327.0</td>\n",
       "      <td>1.02792</td>\n",
       "      <td>3.38</td>\n",
       "      <td>0.700000</td>\n",
       "      <td>10.465789</td>\n",
       "      <td>-1.0</td>\n",
       "      <td>7.0</td>\n",
       "      <td>3.0</td>\n",
       "      <td>3.0</td>\n",
       "    </tr>\n",
       "    <tr>\n",
       "      <th>2</th>\n",
       "      <td>5.0</td>\n",
       "      <td>7.1</td>\n",
       "      <td>2.64</td>\n",
       "      <td>0.88</td>\n",
       "      <td>14.800000</td>\n",
       "      <td>0.037000</td>\n",
       "      <td>214.000000</td>\n",
       "      <td>142.0</td>\n",
       "      <td>0.99518</td>\n",
       "      <td>3.12</td>\n",
       "      <td>0.480000</td>\n",
       "      <td>22.000000</td>\n",
       "      <td>-1.0</td>\n",
       "      <td>8.0</td>\n",
       "      <td>3.0</td>\n",
       "      <td>3.0</td>\n",
       "    </tr>\n",
       "    <tr>\n",
       "      <th>4</th>\n",
       "      <td>4.0</td>\n",
       "      <td>8.0</td>\n",
       "      <td>0.33</td>\n",
       "      <td>1.26</td>\n",
       "      <td>9.400000</td>\n",
       "      <td>0.160684</td>\n",
       "      <td>167.000000</td>\n",
       "      <td>108.0</td>\n",
       "      <td>0.99457</td>\n",
       "      <td>3.12</td>\n",
       "      <td>1.770000</td>\n",
       "      <td>13.700000</td>\n",
       "      <td>0.0</td>\n",
       "      <td>9.0</td>\n",
       "      <td>2.0</td>\n",
       "      <td>2.0</td>\n",
       "    </tr>\n",
       "    <tr>\n",
       "      <th>5</th>\n",
       "      <td>0.0</td>\n",
       "      <td>11.3</td>\n",
       "      <td>0.32</td>\n",
       "      <td>0.59</td>\n",
       "      <td>2.200000</td>\n",
       "      <td>0.556000</td>\n",
       "      <td>37.000000</td>\n",
       "      <td>15.0</td>\n",
       "      <td>0.99940</td>\n",
       "      <td>3.20</td>\n",
       "      <td>1.290000</td>\n",
       "      <td>15.400000</td>\n",
       "      <td>0.0</td>\n",
       "      <td>11.0</td>\n",
       "      <td>0.0</td>\n",
       "      <td>0.0</td>\n",
       "    </tr>\n",
       "    <tr>\n",
       "      <th>...</th>\n",
       "      <td>...</td>\n",
       "      <td>...</td>\n",
       "      <td>...</td>\n",
       "      <td>...</td>\n",
       "      <td>...</td>\n",
       "      <td>...</td>\n",
       "      <td>...</td>\n",
       "      <td>...</td>\n",
       "      <td>...</td>\n",
       "      <td>...</td>\n",
       "      <td>...</td>\n",
       "      <td>...</td>\n",
       "      <td>...</td>\n",
       "      <td>...</td>\n",
       "      <td>...</td>\n",
       "      <td>...</td>\n",
       "    </tr>\n",
       "    <tr>\n",
       "      <th>12787</th>\n",
       "      <td>2.0</td>\n",
       "      <td>6.5</td>\n",
       "      <td>0.15</td>\n",
       "      <td>0.78</td>\n",
       "      <td>1.400000</td>\n",
       "      <td>0.875000</td>\n",
       "      <td>531.000000</td>\n",
       "      <td>105.0</td>\n",
       "      <td>0.99260</td>\n",
       "      <td>3.14</td>\n",
       "      <td>0.716316</td>\n",
       "      <td>10.100000</td>\n",
       "      <td>0.0</td>\n",
       "      <td>7.0</td>\n",
       "      <td>1.0</td>\n",
       "      <td>1.0</td>\n",
       "    </tr>\n",
       "    <tr>\n",
       "      <th>12790</th>\n",
       "      <td>0.0</td>\n",
       "      <td>5.0</td>\n",
       "      <td>0.79</td>\n",
       "      <td>2.01</td>\n",
       "      <td>5.000000</td>\n",
       "      <td>0.043000</td>\n",
       "      <td>17.000000</td>\n",
       "      <td>101.0</td>\n",
       "      <td>1.01077</td>\n",
       "      <td>3.39</td>\n",
       "      <td>0.570000</td>\n",
       "      <td>4.900000</td>\n",
       "      <td>1.0</td>\n",
       "      <td>5.0</td>\n",
       "      <td>0.0</td>\n",
       "      <td>0.0</td>\n",
       "    </tr>\n",
       "    <tr>\n",
       "      <th>12792</th>\n",
       "      <td>4.0</td>\n",
       "      <td>6.0</td>\n",
       "      <td>0.17</td>\n",
       "      <td>1.10</td>\n",
       "      <td>37.000000</td>\n",
       "      <td>0.078000</td>\n",
       "      <td>25.000000</td>\n",
       "      <td>108.0</td>\n",
       "      <td>0.99076</td>\n",
       "      <td>3.25</td>\n",
       "      <td>0.793158</td>\n",
       "      <td>12.300000</td>\n",
       "      <td>0.0</td>\n",
       "      <td>6.0</td>\n",
       "      <td>2.0</td>\n",
       "      <td>2.0</td>\n",
       "    </tr>\n",
       "    <tr>\n",
       "      <th>12793</th>\n",
       "      <td>3.0</td>\n",
       "      <td>7.7</td>\n",
       "      <td>0.32</td>\n",
       "      <td>0.12</td>\n",
       "      <td>28.515789</td>\n",
       "      <td>0.029000</td>\n",
       "      <td>26.000000</td>\n",
       "      <td>274.0</td>\n",
       "      <td>0.99060</td>\n",
       "      <td>3.97</td>\n",
       "      <td>0.620000</td>\n",
       "      <td>11.000000</td>\n",
       "      <td>-1.0</td>\n",
       "      <td>6.0</td>\n",
       "      <td>2.0</td>\n",
       "      <td>2.0</td>\n",
       "    </tr>\n",
       "    <tr>\n",
       "      <th>12794</th>\n",
       "      <td>4.0</td>\n",
       "      <td>5.2</td>\n",
       "      <td>0.04</td>\n",
       "      <td>0.81</td>\n",
       "      <td>52.700000</td>\n",
       "      <td>0.242263</td>\n",
       "      <td>106.000000</td>\n",
       "      <td>242.0</td>\n",
       "      <td>0.99454</td>\n",
       "      <td>3.94</td>\n",
       "      <td>0.120000</td>\n",
       "      <td>9.900000</td>\n",
       "      <td>0.0</td>\n",
       "      <td>7.0</td>\n",
       "      <td>2.0</td>\n",
       "      <td>2.0</td>\n",
       "    </tr>\n",
       "  </tbody>\n",
       "</table>\n",
       "<p>6548 rows × 16 columns</p>\n",
       "</div>"
      ],
      "text/plain": [
       "       TARGET  FixedAcidity  VolatileAcidity  CitricAcid  ResidualSugar  \\\n",
       "0         3.0           3.2             1.16        0.98      54.200000   \n",
       "1         3.0           4.5             0.16        0.81      26.100000   \n",
       "2         5.0           7.1             2.64        0.88      14.800000   \n",
       "4         4.0           8.0             0.33        1.26       9.400000   \n",
       "5         0.0          11.3             0.32        0.59       2.200000   \n",
       "...       ...           ...              ...         ...            ...   \n",
       "12787     2.0           6.5             0.15        0.78       1.400000   \n",
       "12790     0.0           5.0             0.79        2.01       5.000000   \n",
       "12792     4.0           6.0             0.17        1.10      37.000000   \n",
       "12793     3.0           7.7             0.32        0.12      28.515789   \n",
       "12794     4.0           5.2             0.04        0.81      52.700000   \n",
       "\n",
       "       Chlorides  FreeSulfurDioxide  TotalSulfurDioxide  Density    pH  \\\n",
       "0       0.567000         125.789474               268.0  0.99280  3.33   \n",
       "1       0.425000          15.000000               327.0  1.02792  3.38   \n",
       "2       0.037000         214.000000               142.0  0.99518  3.12   \n",
       "4       0.160684         167.000000               108.0  0.99457  3.12   \n",
       "5       0.556000          37.000000                15.0  0.99940  3.20   \n",
       "...          ...                ...                 ...      ...   ...   \n",
       "12787   0.875000         531.000000               105.0  0.99260  3.14   \n",
       "12790   0.043000          17.000000               101.0  1.01077  3.39   \n",
       "12792   0.078000          25.000000               108.0  0.99076  3.25   \n",
       "12793   0.029000          26.000000               274.0  0.99060  3.97   \n",
       "12794   0.242263         106.000000               242.0  0.99454  3.94   \n",
       "\n",
       "       Sulphates    Alcohol  LabelAppeal  AcidIndex  STARS  STARS  \n",
       "0       0.590000   9.900000          0.0        8.0    2.0    2.0  \n",
       "1       0.700000  10.465789         -1.0        7.0    3.0    3.0  \n",
       "2       0.480000  22.000000         -1.0        8.0    3.0    3.0  \n",
       "4       1.770000  13.700000          0.0        9.0    2.0    2.0  \n",
       "5       1.290000  15.400000          0.0       11.0    0.0    0.0  \n",
       "...          ...        ...          ...        ...    ...    ...  \n",
       "12787   0.716316  10.100000          0.0        7.0    1.0    1.0  \n",
       "12790   0.570000   4.900000          1.0        5.0    0.0    0.0  \n",
       "12792   0.793158  12.300000          0.0        6.0    2.0    2.0  \n",
       "12793   0.620000  11.000000         -1.0        6.0    2.0    2.0  \n",
       "12794   0.120000   9.900000          0.0        7.0    2.0    2.0  \n",
       "\n",
       "[6548 rows x 16 columns]"
      ]
     },
     "execution_count": 63,
     "metadata": {},
     "output_type": "execute_result"
    }
   ],
   "source": [
    "# Select the valid data that has \"pH\"between 3 and 4 and the Total Sulfur Dioxide is no larger than 350.\n",
    "data_1_valid= np.where((data_1['pH'] > 3) & (data_1['pH'] < 4) & (data_1['TotalSulfurDioxide'] <= 350 ))\n",
    "data_new = data_1.loc[data_1_valid]\n",
    "data_new"
   ]
  },
  {
   "cell_type": "markdown",
   "metadata": {},
   "source": [
    "Based on the research and result, there are 6548 valid observations. We will use these observations to do the next step."
   ]
  },
  {
   "cell_type": "markdown",
   "metadata": {},
   "source": [
    "### Step 3:  Transformation \n",
    "\n",
    "- 'FixedAcidity', 'VolatileAcidity', 'CitricAcid','ResidualSugar', 'Chlorides', 'FreeSulfurDioxide', 'TotalSulfurDioxide','Sulphates', 'Alcohol','AcidIndex' are not following normal distribution. And, we already handle with \"0\" values replaced by NaN, so we use boxcox to deal with data transformation."
   ]
  },
  {
   "cell_type": "code",
   "execution_count": 64,
   "metadata": {},
   "outputs": [],
   "source": [
    "# Import library\n",
    "from scipy.stats import boxcox \n",
    "from scipy import stats\n",
    "from sklearn.preprocessing import power_transform"
   ]
  },
  {
   "cell_type": "code",
   "execution_count": 65,
   "metadata": {},
   "outputs": [],
   "source": [
    "# Define function called normal_distro\n",
    "def normal_distro(df, col):\n",
    "    x = df[col]\n",
    "    y, _ = stats.boxcox(x)\n",
    "    df[col] = pd.DataFrame(y)\n",
    "    return df"
   ]
  },
  {
   "cell_type": "code",
   "execution_count": 66,
   "metadata": {},
   "outputs": [],
   "source": [
    "# Only the below variables are skewed to the right side\n",
    "cols_to_check = ['FixedAcidity', 'VolatileAcidity', 'CitricAcid','ResidualSugar', 'Chlorides', 'FreeSulfurDioxide', 'TotalSulfurDioxide','Sulphates', 'Alcohol','AcidIndex']\n",
    "for col in cols_to_check:\n",
    "    data_new = normal_distro(data_new, col)"
   ]
  },
  {
   "cell_type": "markdown",
   "metadata": {},
   "source": [
    "# Prepped Data Review \n",
    "After fixing the missing data values, invalid data values, and transformed data distribution, we will re-run the EDA on the adjusted variables during the data preparation work."
   ]
  },
  {
   "cell_type": "code",
   "execution_count": 67,
   "metadata": {},
   "outputs": [
    {
     "data": {
      "text/plain": [
       "<AxesSubplot:xlabel='FixedAcidity', ylabel='Count'>"
      ]
     },
     "execution_count": 67,
     "metadata": {},
     "output_type": "execute_result"
    },
    {
     "data": {
      "image/png": "[encoded data removed]",
      "text/plain": [
       "<Figure size 432x288 with 1 Axes>"
      ]
     },
     "metadata": {
      "needs_background": "light"
     },
     "output_type": "display_data"
    }
   ],
   "source": [
    "# FixedAcidity\n",
    "sns.histplot(data=data_new,x = data_new[\"FixedAcidity\"], bins=10)"
   ]
  },
  {
   "cell_type": "code",
   "execution_count": 68,
   "metadata": {},
   "outputs": [
    {
     "data": {
      "text/plain": [
       "Text(0.5, 1.0, 'Fixed Acidity')"
      ]
     },
     "execution_count": 68,
     "metadata": {},
     "output_type": "execute_result"
    },
    {
     "data": {
      "image/png": "[encoded data removed]",
      "text/plain": [
       "<Figure size 432x288 with 1 Axes>"
      ]
     },
     "metadata": {
      "needs_background": "light"
     },
     "output_type": "display_data"
    }
   ],
   "source": [
    "# FixedAcidity\n",
    "sns.boxplot( data=data_new, y = data_new[\"FixedAcidity\"],orient='v')\n",
    "plt.title(\"Fixed Acidity\")"
   ]
  },
  {
   "cell_type": "markdown",
   "metadata": {},
   "source": [
    "Based on the Prepped EDA Review, FixedAcidity has many outliers and shows a right-skewed distribution. Compared with the first part of EDA, this attribute is closer to the normal distribution, but there are still some outliers."
   ]
  },
  {
   "cell_type": "code",
   "execution_count": 69,
   "metadata": {},
   "outputs": [
    {
     "data": {
      "text/plain": [
       "<AxesSubplot:xlabel='VolatileAcidity', ylabel='Count'>"
      ]
     },
     "execution_count": 69,
     "metadata": {},
     "output_type": "execute_result"
    },
    {
     "data": {
      "image/png": "[encoded data removed]",
      "text/plain": [
       "<Figure size 432x288 with 1 Axes>"
      ]
     },
     "metadata": {
      "needs_background": "light"
     },
     "output_type": "display_data"
    }
   ],
   "source": [
    "# VolatileAcidity\n",
    "sns.histplot(data=data_new,x = data_new[\"VolatileAcidity\"], bins=10)  "
   ]
  },
  {
   "cell_type": "code",
   "execution_count": 70,
   "metadata": {},
   "outputs": [
    {
     "data": {
      "text/plain": [
       "Text(0.5, 1.0, 'Volatile Acidity')"
      ]
     },
     "execution_count": 70,
     "metadata": {},
     "output_type": "execute_result"
    },
    {
     "data": {
      "image/png": "[encoded data removed]",
      "text/plain": [
       "<Figure size 432x288 with 1 Axes>"
      ]
     },
     "metadata": {
      "needs_background": "light"
     },
     "output_type": "display_data"
    }
   ],
   "source": [
    "# VolatileAcidity\n",
    "sns.boxplot( data=data_new, y = data_new[\"VolatileAcidity\"],orient='v')\n",
    "plt.title(\"Volatile Acidity\")"
   ]
  },
  {
   "cell_type": "markdown",
   "metadata": {},
   "source": [
    "Based on Prepped EDA Review, Volatile Acidity has many outliers, and it shows the right-skewed distribution. After the data preparation, the attribute follows left-skewed distribution, with much fewer outliers. Suppose this attribute is needed in model prediction, it can be used as an explainable variable.   "
   ]
  },
  {
   "cell_type": "code",
   "execution_count": 71,
   "metadata": {},
   "outputs": [
    {
     "data": {
      "text/plain": [
       "<AxesSubplot:xlabel='CitricAcid', ylabel='Count'>"
      ]
     },
     "execution_count": 71,
     "metadata": {},
     "output_type": "execute_result"
    },
    {
     "data": {
      "image/png": "[encoded data removed]",
      "text/plain": [
       "<Figure size 432x288 with 1 Axes>"
      ]
     },
     "metadata": {
      "needs_background": "light"
     },
     "output_type": "display_data"
    }
   ],
   "source": [
    "# CitricAcid\n",
    "sns.histplot(data=data_new,x = data_new[\"CitricAcid\"], bins=10)  "
   ]
  },
  {
   "cell_type": "code",
   "execution_count": 72,
   "metadata": {},
   "outputs": [
    {
     "data": {
      "text/plain": [
       "Text(0.5, 1.0, 'Citric Acid')"
      ]
     },
     "execution_count": 72,
     "metadata": {},
     "output_type": "execute_result"
    },
    {
     "data": {
      "image/png": "[encoded data removed]",
      "text/plain": [
       "<Figure size 432x288 with 1 Axes>"
      ]
     },
     "metadata": {
      "needs_background": "light"
     },
     "output_type": "display_data"
    }
   ],
   "source": [
    "# CitricAcid\n",
    "sns.boxplot( data=data_new, y = data_new[\"CitricAcid\"],orient='v')\n",
    "plt.title(\"Citric Acid\")"
   ]
  },
  {
   "cell_type": "markdown",
   "metadata": {},
   "source": [
    "Based on Prepped EDA Review, Citric Acid shows outliers, and it follows a right-skewed distribution. After the data preparation, the attribute follows a left-skewed distribution, with much fewer outliers. Regarding the actual scenario, we will decide whether to use this attribute. "
   ]
  },
  {
   "cell_type": "code",
   "execution_count": 73,
   "metadata": {},
   "outputs": [
    {
     "data": {
      "text/plain": [
       "<AxesSubplot:xlabel='ResidualSugar', ylabel='Count'>"
      ]
     },
     "execution_count": 73,
     "metadata": {},
     "output_type": "execute_result"
    },
    {
     "data": {
      "image/png": "[encoded data removed]",
      "text/plain": [
       "<Figure size 432x288 with 1 Axes>"
      ]
     },
     "metadata": {
      "needs_background": "light"
     },
     "output_type": "display_data"
    }
   ],
   "source": [
    "# ResidualSugar\n",
    "sns.histplot(data=data_new,x = data_new[\"ResidualSugar\"], bins=10)  \n"
   ]
  },
  {
   "cell_type": "code",
   "execution_count": 74,
   "metadata": {},
   "outputs": [
    {
     "data": {
      "text/plain": [
       "Text(0.5, 1.0, 'Residual Sugar')"
      ]
     },
     "execution_count": 74,
     "metadata": {},
     "output_type": "execute_result"
    },
    {
     "data": {
      "image/png": "[encoded data removed]",
      "text/plain": [
       "<Figure size 432x288 with 1 Axes>"
      ]
     },
     "metadata": {
      "needs_background": "light"
     },
     "output_type": "display_data"
    }
   ],
   "source": [
    "# ResidualSugar\n",
    "sns.boxplot( data=data_new, y = data_new[\"ResidualSugar\"],orient='v')\n",
    "plt.title(\"Residual Sugar\")"
   ]
  },
  {
   "cell_type": "markdown",
   "metadata": {},
   "source": [
    "According to the Prepped EDA Review, Residual Sugar does not follow the nearly normal distribution, but it has fewer outliers compare to earlier EDA. Suppose this attribute is needed in model prediction, it can be used as an explainable variable."
   ]
  },
  {
   "cell_type": "code",
   "execution_count": 75,
   "metadata": {},
   "outputs": [
    {
     "data": {
      "text/plain": [
       "<AxesSubplot:xlabel='Chlorides', ylabel='Count'>"
      ]
     },
     "execution_count": 75,
     "metadata": {},
     "output_type": "execute_result"
    },
    {
     "data": {
      "image/png": "[encoded data removed]",
      "text/plain": [
       "<Figure size 432x288 with 1 Axes>"
      ]
     },
     "metadata": {
      "needs_background": "light"
     },
     "output_type": "display_data"
    }
   ],
   "source": [
    "# Chlorides\n",
    "sns.histplot(data=data_new,x = data_new[\"Chlorides\"], bins=10)  "
   ]
  },
  {
   "cell_type": "code",
   "execution_count": 76,
   "metadata": {},
   "outputs": [
    {
     "data": {
      "text/plain": [
       "Text(0.5, 1.0, 'Chlorides')"
      ]
     },
     "execution_count": 76,
     "metadata": {},
     "output_type": "execute_result"
    },
    {
     "data": {
      "image/png": "[encoded data removed]",
      "text/plain": [
       "<Figure size 432x288 with 1 Axes>"
      ]
     },
     "metadata": {
      "needs_background": "light"
     },
     "output_type": "display_data"
    }
   ],
   "source": [
    "# Chlorides\n",
    "sns.boxplot( data=data_new, y = data_new[\"Chlorides\"],orient='v')\n",
    "plt.title(\"Chlorides\")"
   ]
  },
  {
   "cell_type": "markdown",
   "metadata": {},
   "source": [
    "In the initial EDA, Chlorides have many outliers, and it shows the right-skewed distribution. After the data preparation, the attribute follows bimodal distribution, and it has much fewer outliers. In this case, using Chlorides as an explanatory variable depends on how it plays an essential role in model prediction. "
   ]
  },
  {
   "cell_type": "code",
   "execution_count": 77,
   "metadata": {},
   "outputs": [
    {
     "data": {
      "text/plain": [
       "<AxesSubplot:xlabel='FreeSulfurDioxide', ylabel='Count'>"
      ]
     },
     "execution_count": 77,
     "metadata": {},
     "output_type": "execute_result"
    },
    {
     "data": {
      "image/png": "[encoded data removed]",
      "text/plain": [
       "<Figure size 432x288 with 1 Axes>"
      ]
     },
     "metadata": {
      "needs_background": "light"
     },
     "output_type": "display_data"
    }
   ],
   "source": [
    "# FreeSulfurDioxide\n",
    "sns.histplot(data=data_new,x = data_new[\"FreeSulfurDioxide\"], bins=10)  "
   ]
  },
  {
   "cell_type": "code",
   "execution_count": 78,
   "metadata": {},
   "outputs": [
    {
     "data": {
      "text/plain": [
       "Text(0.5, 1.0, 'Free Sulfur Dioxide')"
      ]
     },
     "execution_count": 78,
     "metadata": {},
     "output_type": "execute_result"
    },
    {
     "data": {
      "image/png": "[encoded data removed]",
      "text/plain": [
       "<Figure size 432x288 with 1 Axes>"
      ]
     },
     "metadata": {
      "needs_background": "light"
     },
     "output_type": "display_data"
    }
   ],
   "source": [
    "# FreeSulfurDioxide\n",
    "sns.boxplot( data=data_new, y = data_new[\"FreeSulfurDioxide\"],orient='v')\n",
    "plt.title(\"Free Sulfur Dioxide\")"
   ]
  },
  {
   "cell_type": "markdown",
   "metadata": {},
   "source": [
    "In the initial EDA, FreeSulfurDioxide has many outliers, and it shows the right-skewed distribution. After the data preparation, the attribute follows a nearly normal distribution, and it has no outliers. It could be used in model prediction in further study. "
   ]
  },
  {
   "cell_type": "code",
   "execution_count": 79,
   "metadata": {},
   "outputs": [
    {
     "data": {
      "text/plain": [
       "<AxesSubplot:xlabel='TotalSulfurDioxide', ylabel='Count'>"
      ]
     },
     "execution_count": 79,
     "metadata": {},
     "output_type": "execute_result"
    },
    {
     "data": {
      "image/png": "[encoded data removed]",
      "text/plain": [
       "<Figure size 432x288 with 1 Axes>"
      ]
     },
     "metadata": {
      "needs_background": "light"
     },
     "output_type": "display_data"
    }
   ],
   "source": [
    "# TotalSulfurDioxide\n",
    "sns.histplot(data=data_new,x = data_new[\"TotalSulfurDioxide\"], bins=10)  "
   ]
  },
  {
   "cell_type": "code",
   "execution_count": 80,
   "metadata": {},
   "outputs": [
    {
     "data": {
      "text/plain": [
       "Text(0.5, 1.0, 'Total Sulfur Dioxide')"
      ]
     },
     "execution_count": 80,
     "metadata": {},
     "output_type": "execute_result"
    },
    {
     "data": {
      "image/png": "[encoded data removed]",
      "text/plain": [
       "<Figure size 432x288 with 1 Axes>"
      ]
     },
     "metadata": {
      "needs_background": "light"
     },
     "output_type": "display_data"
    }
   ],
   "source": [
    "# TotalSulfurDioxide\n",
    "sns.boxplot( data=data_new, y = data_new[\"TotalSulfurDioxide\"],orient='v')\n",
    "plt.title(\"Total Sulfur Dioxide\")"
   ]
  },
  {
   "cell_type": "markdown",
   "metadata": {},
   "source": [
    "Based on the initial EDA, TotalSulfurDioxide has many outliers, and it shows the right-skewed distribution. After the data preparation, the attribute follows a nearly normal distribution, and it has no outliers. It could be used in model prediction in further study. ​"
   ]
  },
  {
   "cell_type": "code",
   "execution_count": 81,
   "metadata": {},
   "outputs": [
    {
     "data": {
      "text/plain": [
       "<AxesSubplot:xlabel='Sulphates', ylabel='Count'>"
      ]
     },
     "execution_count": 81,
     "metadata": {},
     "output_type": "execute_result"
    },
    {
     "data": {
      "image/png": "[encoded data removed]",
      "text/plain": [
       "<Figure size 432x288 with 1 Axes>"
      ]
     },
     "metadata": {
      "needs_background": "light"
     },
     "output_type": "display_data"
    }
   ],
   "source": [
    "# Sulphates\n",
    "sns.histplot(data=data_new,x = data_new[\"Sulphates\"], bins=10)  "
   ]
  },
  {
   "cell_type": "code",
   "execution_count": 82,
   "metadata": {},
   "outputs": [
    {
     "data": {
      "text/plain": [
       "Text(0.5, 1.0, 'Sulphates')"
      ]
     },
     "execution_count": 82,
     "metadata": {},
     "output_type": "execute_result"
    },
    {
     "data": {
      "image/png": "[encoded data removed]",
      "text/plain": [
       "<Figure size 432x288 with 1 Axes>"
      ]
     },
     "metadata": {
      "needs_background": "light"
     },
     "output_type": "display_data"
    }
   ],
   "source": [
    "# Sulphates\n",
    "sns.boxplot( data=data_new, y = data_new[\"Sulphates\"],orient='v')\n",
    "plt.title(\"Sulphates\")"
   ]
  },
  {
   "cell_type": "markdown",
   "metadata": {},
   "source": [
    "Based on the Prepped EDA Review, Sulphates has many outliers and shows a nearly normal distribution. Compared with the first EDA, this attribute is closer to the normal distribution, but there are still some outliers. "
   ]
  },
  {
   "cell_type": "code",
   "execution_count": 83,
   "metadata": {},
   "outputs": [
    {
     "data": {
      "text/plain": [
       "<AxesSubplot:xlabel='Alcohol', ylabel='Count'>"
      ]
     },
     "execution_count": 83,
     "metadata": {},
     "output_type": "execute_result"
    },
    {
     "data": {
      "image/png": "[encoded data removed]",
      "text/plain": [
       "<Figure size 432x288 with 1 Axes>"
      ]
     },
     "metadata": {
      "needs_background": "light"
     },
     "output_type": "display_data"
    }
   ],
   "source": [
    "# Alcohol\n",
    "sns.histplot(data=data_new,x = data_new[\"Alcohol\"], bins=10)  "
   ]
  },
  {
   "cell_type": "code",
   "execution_count": 84,
   "metadata": {},
   "outputs": [
    {
     "data": {
      "text/plain": [
       "Text(0.5, 1.0, 'Alcohol')"
      ]
     },
     "execution_count": 84,
     "metadata": {},
     "output_type": "execute_result"
    },
    {
     "data": {
      "image/png": "[encoded data removed]",
      "text/plain": [
       "<Figure size 432x288 with 1 Axes>"
      ]
     },
     "metadata": {
      "needs_background": "light"
     },
     "output_type": "display_data"
    }
   ],
   "source": [
    "# Alcohol\n",
    "sns.boxplot( data=data_new, y = data_new[\"Alcohol\"],orient='v')\n",
    "plt.title(\"Alcohol\")"
   ]
  },
  {
   "cell_type": "markdown",
   "metadata": {},
   "source": [
    "Based on Prepped EDA Review, Alcohol has many outliers, and it shows a right-skewed distribution. After the data preparation, the attribute does not change the distribution very much, and it still has many outliers. We will be based on the actual situation to decide whether it will be used in the model prediction. "
   ]
  },
  {
   "cell_type": "code",
   "execution_count": 85,
   "metadata": {},
   "outputs": [
    {
     "data": {
      "text/plain": [
       "<AxesSubplot:xlabel='AcidIndex', ylabel='Count'>"
      ]
     },
     "execution_count": 85,
     "metadata": {},
     "output_type": "execute_result"
    },
    {
     "data": {
      "image/png": "[encoded data removed]",
      "text/plain": [
       "<Figure size 432x288 with 1 Axes>"
      ]
     },
     "metadata": {
      "needs_background": "light"
     },
     "output_type": "display_data"
    }
   ],
   "source": [
    "# AcidIndex\n",
    "sns.histplot(data=data_new,x = data_new[\"AcidIndex\"], bins=10)  "
   ]
  },
  {
   "cell_type": "code",
   "execution_count": 86,
   "metadata": {},
   "outputs": [
    {
     "data": {
      "text/plain": [
       "Text(0.5, 1.0, 'AcidIndex')"
      ]
     },
     "execution_count": 86,
     "metadata": {},
     "output_type": "execute_result"
    },
    {
     "data": {
      "image/png": "[encoded data removed]",
      "text/plain": [
       "<Figure size 432x288 with 1 Axes>"
      ]
     },
     "metadata": {
      "needs_background": "light"
     },
     "output_type": "display_data"
    }
   ],
   "source": [
    "# AcidIndex\n",
    "sns.boxplot( data=data_new, y = data_new[\"AcidIndex\"],orient='v')\n",
    "plt.title(\"AcidIndex\")"
   ]
  },
  {
   "cell_type": "markdown",
   "metadata": {},
   "source": [
    "In the initial EDA, the histogram and box plot show a right-skewed distribution and it has many outliers. After the data preparation, Acid Index follows a nearly normal distribution, but it still has many outliers. We will be based on the actual situation to decide whether it will be used in the model prediction. \n"
   ]
  },
  {
   "cell_type": "markdown",
   "metadata": {},
   "source": [
    "# Conclusions"
   ]
  },
  {
   "cell_type": "markdown",
   "metadata": {},
   "source": [
    "To improve this dataset's useability, we cleaned the data by handling invalid and missing data through domain knowledge. Clearly, We understand the relationship between the response and explainable variables through the heatmap. Also, we used box-cox to do data transformation. The original data has a total of 12795 observations. After cleaning, 6548 observations are left for subsequent model predictions. \n",
    "The data distribution of wine-related chemical variables is shifted from skewed to right to a nearly normal distribution with fewer outliers. \n",
    "\n",
    "\n",
    "\n",
    "\n"
   ]
  },
  {
   "cell_type": "markdown",
   "metadata": {},
   "source": [
    "# Reference"
   ]
  },
  {
   "cell_type": "markdown",
   "metadata": {},
   "source": [
    "- KNNImputer: https://scikit-learn.org/stable/modules/impute.html\n",
    "- BOXCOX: https://www.statology.org/box-cox-transformation-python/\n",
    "- K value of KNN: https://www.cxyzjd.com/article/m0_46510245/109270839\n",
    "\n",
    "Wine domain knowledge:\n",
    "- https://www.winemag.com/2019/06/19/what-is-acidity-in-wine/\n",
    "- https://www.extension.iastate.edu/wine/sulfur-dioxide-measurement-and-overestimation-red-wine\n",
    "- https://winefolly.com/tips/the-lightest-to-the-strongest-wine/\n",
    "- https://winemakermag.com/article/wine-acid-101\n",
    "- https://www.awri.com.au/wp-content/uploads/2018/08/s1530.pdf#:~:text=The%20higher%20extraction%20of%20chloride,juice%20x%201.7%20%3D%20606).\n",
    "- https://waterhouse.ucdavis.edu/whats-in-wine/fixed-acidity#:~:text=Their%20respective%20levels%20found%20in,2%2C000%20mg%2FL%20succinic%20acid.\n",
    "- http://www.creativeconnoisseur.com/newsletter/files/497deafe6be1b2efc87df8ac6071e459-162.html#:~:text=The%20typical%20density%20or%20specific,generally%20between%201.080%20and%201.090.\n",
    "- https://waterhouse.ucdavis.edu/whats-in-wine/fixed-acidity#:~:text=The%20predominant%20fixed%20acids%20found,2%2C000%20mg%2FL%20succinic%20acid.\n",
    "- https://winefolly.com/deep-dive/sugar-in-wine-chart/#:~:text=Wines%20range%20from%200%20to,grams%20of%20sugar%20per%20bottle.\n",
    "- https://extension.psu.edu/volatile-acidity-in-wine#:~:text=In%20general%2C%20per%20the%20CFR,red%20and%20white%20wines%2C%20respectively.\n",
    "-  https://winefolly.com/deep-dive/sulfites-in-wine/#:~:text=How%20Much%20Sulfur%20is%20in,about%2050%20mg%2Fl%20sulfites."
   ]
  }
 ],
 "metadata": {
  "kernelspec": {
   "display_name": "Python 3",
   "language": "python",
   "name": "python3"
  },
  "language_info": {
   "codemirror_mode": {
    "name": "ipython",
    "version": 3
   },
   "file_extension": ".py",
   "mimetype": "text/x-python",
   "name": "python",
   "nbconvert_exporter": "python",
   "pygments_lexer": "ipython3",
   "version": "3.8.5"
  }
 },
 "nbformat": 4,
 "nbformat_minor": 2
}
