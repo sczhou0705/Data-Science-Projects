{
 "cells": [
  {
   "cell_type": "markdown",
   "metadata": {},
   "source": [
    "# Final Project Proposal - Customer churn\n",
    "\n",
    "By Shichao Zhou"
   ]
  },
  {
   "cell_type": "markdown",
   "metadata": {},
   "source": [
    "# Introduction"
   ]
  },
  {
   "cell_type": "markdown",
   "metadata": {},
   "source": [
    "As disruptive technical progress, the various SaaS, cable service providers, online stores, or online borrowing services providers and telecommunication companies appear and raise the level of competition. This crowded market has caused these companies' stakeholders to work hard to survive in this competitive market. For service-oriented companies,customer-related data is one of their wealth codes. In more exact words, suppose a company wants to guarantee a steady increase in profits every quarter or maximize profits in a fiercely competitive environment. In that case, it cannot ignore the critical metric of customer churn. Usually, retaining an existing customer costs much lower than acquiring a new one for a service-oriented profitable company. Forrester Research's statistical evidence: The cost of acquiring new customers is 5 times\n",
    "of retaining existing customers. More seriously, Harvard's report stated that, on average, customer retention rates have increased by 5%, and profits can increase by 25%-95%. It is essential to focus on reducing customer churn because your presence and customers are profitable! Thus, more and more companies' stakeholders are investing more effort to analyze customers' behaviors and decrease the potential of customer churn rate. One way to avoid customer churn is to know your customers, and the way to know your customer is through historical and new customer data.  This project contains information about a telco company that provided home phone and Internet services to 7043 customers in California in Q3. I will go through the dataset and analyze the data relevant to customer churn. \n",
    "I hope to take this data set as an example and follow an entire data science life cycle to provide insights and implement the results in the \"real world.\""
   ]
  },
  {
   "cell_type": "markdown",
   "metadata": {},
   "source": [
    "# Research Questions"
   ]
  },
  {
   "cell_type": "markdown",
   "metadata": {},
   "source": [
    "In this research I have two question:\n",
    "- __Which model has the best performance to predict whether customers churn or not?__\n",
    "- __Did the preferred model perform as well as expected?__\n",
    "\n",
    "\n",
    "How the results of my research might be implemented in the \"real world\":\n",
    "- Help stakeholders who have no sense of awareness of the importance of customer churn issues to understand better than before.\n",
    "- The analysis and models of this data can bring particular reference value to actual telecommunications companies or saas. For example, it can help them better target the most valuable customers. Separate the most valuable customers from other customers, and put more effort into ensuring they get what they want. Because they are the customers, you most want to keep. Valuable customers must be given extra care because they bring in the highest revenue. All you can do is divide your customers into profitable groups and about to churn, and the likelihood that they can stay. In other words,it can help these companies to use the output of such a model in an attempt to improve its customer churn."
   ]
  },
  {
   "cell_type": "markdown",
   "metadata": {},
   "source": [
    "# Data to be Used"
   ]
  },
  {
   "cell_type": "markdown",
   "metadata": {},
   "source": [
    "The dataset we will be using is called WA_Fn-UseC_-Telco-Customer-Chur. The source is from IBM. The dataset can be directly downloaded from the below link.\n",
    "(https://community.ibm.com/accelerators/catalog/content/Customer-churn ). The data dictionary explanation can be found on the below link(https://community.ibm.com/community/user/businessanalytics/blogs/steven-macko/2019/07/11/telco-customer-churn-1113 )"
   ]
  },
  {
   "cell_type": "markdown",
   "metadata": {},
   "source": [
    "# Approach"
   ]
  },
  {
   "cell_type": "markdown",
   "metadata": {},
   "source": [
    "- Considering the data is 779KB, I will upload it to GitHub and then read it from GitHub into a Pandas data frame.\n",
    "- The response variable I will be modeling is the data set's “churn” attribute, which indicates whether or not a customer stop doing business with the company.\n",
    "- Before constructing predictive modeling, I will perform appropriate EDA creating bar charts or count plots for categorical data, histograms for numerical data, and other necessary graphics to understand the nature of the data further.\n",
    "- In the data preparation part, I will do normalization/standardization or other feature engineering adjustments I consider necessary for the project. I will apply feature selection or dimensionality reduction techniques (PCA) to choose explanatory variables for inclusion within the models. Also, if the response of the dataset is imbalanced, I will apply the over-sampling (SMOTE) method.\n",
    "- Apply KNeighborsClassifier algorithm, Decision Tree classifier, XGBoost and Naive Bayes model to the data.\n",
    "- Create an ensemble model comprised of appropriate\"weak learners.\" I plan to combine existing algorithms and create a more robust ensemble model that achieves better performance in the earlier metrics. I will use the concept of stacking to train the data. In this project, the weak learners are the  KNN, Decision Tree and SVM. I decide to learn a logistic regression(default) as a meta-model. Then the logistic regression takes the outputs of sub-models as input and attempts to learn how to combine the input predictions best to make a better output prediction.\n",
    "- Get the output of each model's AUC, F1, recall, and precision scores, and compare the scores among those models. And select the model with the highest scores.\n",
    "- Summarize previous work and state the conclusions of my research.\n"
   ]
  },
  {
   "cell_type": "markdown",
   "metadata": {},
   "source": [
    "# Reference"
   ]
  },
  {
   "cell_type": "markdown",
   "metadata": {},
   "source": [
    "- https://hbr.org/2014/10/the-value-of-keeping-the-right-customers\n",
    "- https://scikit-learn.org/stable/modules/generated/sklearn.ensemble.StackingClassifier.html"
   ]
  },
  {
   "cell_type": "code",
   "execution_count": null,
   "metadata": {},
   "outputs": [],
   "source": []
  }
 ],
 "metadata": {
  "kernelspec": {
   "display_name": "Python 3",
   "language": "python",
   "name": "python3"
  },
  "language_info": {
   "codemirror_mode": {
    "name": "ipython",
    "version": 3
   },
   "file_extension": ".py",
   "mimetype": "text/x-python",
   "name": "python",
   "nbconvert_exporter": "python",
   "pygments_lexer": "ipython3",
   "version": "3.8.5"
  }
 },
 "nbformat": 4,
 "nbformat_minor": 4
}
